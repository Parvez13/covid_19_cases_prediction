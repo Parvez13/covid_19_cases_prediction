{
 "cells": [
  {
   "cell_type": "markdown",
   "id": "4bd06560",
   "metadata": {
    "papermill": {
     "duration": 0.053311,
     "end_time": "2021-10-25T04:41:00.750942",
     "exception": false,
     "start_time": "2021-10-25T04:41:00.697631",
     "status": "completed"
    },
    "pycharm": {
     "name": "#%%\n"
    },
    "tags": []
   },
   "source": [
    "\n",
    "<div class=\"alert alert-block alert-success\">\n",
    "    <h1 align=\"center\">Covid-19 Cases</h1>\n",
    "    \n",
    "</div>"
   ]
  },
  {
   "cell_type": "markdown",
   "id": "7f6a8e6f",
   "metadata": {
    "papermill": {
     "duration": 0.050743,
     "end_time": "2021-10-25T04:41:00.854563",
     "exception": false,
     "start_time": "2021-10-25T04:41:00.803820",
     "status": "completed"
    },
    "tags": []
   },
   "source": [
    "### Introduction\n",
    "**Coronavirus disease 2019 (COVID-19)** is a contagious disease caused by severe acute respiratory syndrome coronavirus 2 (SARS-CoV-2). The first known case was identified in *Wuhan, China*, in December 2019. The disease has since spread worldwide, leading to an ongoing pandemic.\n",
    "\n",
    "### Symptoms\n",
    "Symptoms of COVID-19 are variable, but often include *fever, cough, headache, fatigue, breathing difficulties, and loss of smell and taste*.Symptoms may begin *one to fourteen days* after exposure to the virus. At least a third of people who are infected do not develop noticeable symptoms. Of those people who develop symptoms noticeable enough to be classed as patients, most (81%) develop mild to moderate symptoms (up to mild pneumonia), while 14% develop severe symptoms (dyspnea, hypoxia, or more than 50% lung involvement on imaging), and 5% suffer critical symptoms (respiratory failure, shock, or multiorgan dysfunction). Older people are at a higher risk of developing severe symptoms. Some people continue to experience a range of effects (long COVID) for months after recovery, and damage to organs has been observed. Multi-year studies are underway to further investigate the long-term effects of the disease.\n",
    "\n",
    "### Transmutation\n",
    "COVID-19 transmits when people breathe in air contaminated by droplets and small airborne particles containing the virus. The risk of breathing these in is highest when people are in close proximity, but they can be inhaled over longer distances, particularly indoors. Transmission can also occur if splashed or sprayed with contaminated fluids in the eyes, nose or mouth, and, rarely, via contaminated surfaces. People remain contagious for up to 20 days, and can spread the virus even if they do not develop symptoms.\n",
    "\n",
    "Several testing methods have been developed to diagnose the disease. The standard diagnostic method is by detection of the virus' nucleic acid by real-time reverse transcription polymerase chain reaction (rRT-PCR), transcription-mediated amplification (TMA), or by reverse transcription loop-mediated isothermal amplification (RT-LAMP) from a nasopharyngeal swab.\n",
    "\n",
    "Several COVID-19 vaccines have been approved and distributed in various countries, which have initiated mass vaccination campaigns. Other preventive measures include physical or social distancing, quarantining, ventilation of indoor spaces, covering coughs and sneezes, hand washing, and keeping unwashed hands away from the face. The use of face masks or coverings has been recommended in public settings to minimize the risk of transmissions. While work is underway to develop drugs that inhibit the virus, the primary treatment is symptomatic. Management involves the treatment of symptoms, supportive care, isolation, and experimental measures."
   ]
  },
  {
   "cell_type": "markdown",
   "id": "4569ac09",
   "metadata": {
    "papermill": {
     "duration": 0.050763,
     "end_time": "2021-10-25T04:41:00.956163",
     "exception": false,
     "start_time": "2021-10-25T04:41:00.905400",
     "status": "completed"
    },
    "tags": []
   },
   "source": [
    "## Import Libraries"
   ]
  },
  {
   "cell_type": "code",
   "execution_count": 1,
   "id": "4097c2b0",
   "metadata": {
    "execution": {
     "iopub.execute_input": "2021-10-25T04:41:01.114810Z",
     "iopub.status.busy": "2021-10-25T04:41:01.114023Z",
     "iopub.status.idle": "2021-10-25T04:41:07.906404Z",
     "shell.execute_reply": "2021-10-25T04:41:07.905811Z",
     "shell.execute_reply.started": "2021-10-25T04:33:32.488718Z"
    },
    "papermill": {
     "duration": 6.897612,
     "end_time": "2021-10-25T04:41:07.906581",
     "exception": false,
     "start_time": "2021-10-25T04:41:01.008969",
     "status": "completed"
    },
    "pycharm": {
     "name": "#%%\n"
    },
    "tags": []
   },
   "outputs": [],
   "source": [
    "import numpy as np\n",
    "import pandas as pd\n",
    "import matplotlib.pyplot as plt\n",
    "%matplotlib inline\n",
    "import plotly.express as px\n",
    "import seaborn as  sns\n",
    "from sklearn.metrics import r2_score\n",
    "\n",
    "import tensorflow as tf\n",
    "\n",
    "\n"
   ]
  },
  {
   "cell_type": "markdown",
   "id": "708af79d",
   "metadata": {
    "papermill": {
     "duration": 0.051807,
     "end_time": "2021-10-25T04:41:08.011061",
     "exception": false,
     "start_time": "2021-10-25T04:41:07.959254",
     "status": "completed"
    },
    "tags": []
   },
   "source": [
    "## Import Data"
   ]
  },
  {
   "cell_type": "code",
   "execution_count": 2,
   "id": "e4abbffb",
   "metadata": {
    "execution": {
     "iopub.execute_input": "2021-10-25T04:41:08.119644Z",
     "iopub.status.busy": "2021-10-25T04:41:08.119096Z",
     "iopub.status.idle": "2021-10-25T04:41:08.250013Z",
     "shell.execute_reply": "2021-10-25T04:41:08.249515Z",
     "shell.execute_reply.started": "2021-10-25T04:33:39.598570Z"
    },
    "papermill": {
     "duration": 0.187228,
     "end_time": "2021-10-25T04:41:08.250133",
     "exception": false,
     "start_time": "2021-10-25T04:41:08.062905",
     "status": "completed"
    },
    "pycharm": {
     "name": "#%%\n"
    },
    "tags": []
   },
   "outputs": [],
   "source": [
    "df0 = pd.read_csv(\"../input/covid-19-cases/Dataset/data/CONVENIENT_global_confirmed_cases.csv\")\n",
    "df1 = pd.read_csv(\"../input/covid-19-cases/Dataset/data/CONVENIENT_global_deaths.csv\")"
   ]
  },
  {
   "cell_type": "markdown",
   "id": "c9a9f15f",
   "metadata": {
    "papermill": {
     "duration": 0.051694,
     "end_time": "2021-10-25T04:41:08.355070",
     "exception": false,
     "start_time": "2021-10-25T04:41:08.303376",
     "status": "completed"
    },
    "tags": []
   },
   "source": [
    "## Data Preparation"
   ]
  },
  {
   "cell_type": "code",
   "execution_count": 3,
   "id": "f720f36a",
   "metadata": {
    "execution": {
     "iopub.execute_input": "2021-10-25T04:41:08.470008Z",
     "iopub.status.busy": "2021-10-25T04:41:08.466132Z",
     "iopub.status.idle": "2021-10-25T04:41:08.472542Z",
     "shell.execute_reply": "2021-10-25T04:41:08.473071Z",
     "shell.execute_reply.started": "2021-10-25T04:33:39.726253Z"
    },
    "papermill": {
     "duration": 0.06662,
     "end_time": "2021-10-25T04:41:08.473232",
     "exception": false,
     "start_time": "2021-10-25T04:41:08.406612",
     "status": "completed"
    },
    "tags": []
   },
   "outputs": [
    {
     "data": {
      "text/plain": [
       "Index(['Afghanistan', 'Albania', 'Algeria', 'Andorra', 'Angola',\n",
       "       'Antigua and Barbuda', 'Argentina', 'Armenia', 'Australia',\n",
       "       'Australia.1',\n",
       "       ...\n",
       "       'United Kingdom.11', 'Uruguay', 'Uzbekistan', 'Vanuatu', 'Venezuela',\n",
       "       'Vietnam', 'West Bank and Gaza', 'Yemen', 'Zambia', 'Zimbabwe'],\n",
       "      dtype='object', length=279)"
      ]
     },
     "execution_count": 3,
     "metadata": {},
     "output_type": "execute_result"
    }
   ],
   "source": [
    "countries = df0.iloc[:,1:].columns\n",
    "countries"
   ]
  },
  {
   "cell_type": "markdown",
   "id": "7a41cc7e",
   "metadata": {
    "papermill": {
     "duration": 0.052178,
     "end_time": "2021-10-25T04:41:08.577543",
     "exception": false,
     "start_time": "2021-10-25T04:41:08.525365",
     "status": "completed"
    },
    "tags": []
   },
   "source": [
    "**Create a dataframe containing `Country` and `Cases` columns in it**"
   ]
  },
  {
   "cell_type": "code",
   "execution_count": 4,
   "id": "df14a461",
   "metadata": {
    "execution": {
     "iopub.execute_input": "2021-10-25T04:41:08.697886Z",
     "iopub.status.busy": "2021-10-25T04:41:08.691140Z",
     "iopub.status.idle": "2021-10-25T04:41:08.798530Z",
     "shell.execute_reply": "2021-10-25T04:41:08.798977Z",
     "shell.execute_reply.started": "2021-10-25T04:33:39.741407Z"
    },
    "papermill": {
     "duration": 0.169671,
     "end_time": "2021-10-25T04:41:08.799120",
     "exception": false,
     "start_time": "2021-10-25T04:41:08.629449",
     "status": "completed"
    },
    "tags": []
   },
   "outputs": [
    {
     "data": {
      "text/html": [
       "<div>\n",
       "<style scoped>\n",
       "    .dataframe tbody tr th:only-of-type {\n",
       "        vertical-align: middle;\n",
       "    }\n",
       "\n",
       "    .dataframe tbody tr th {\n",
       "        vertical-align: top;\n",
       "    }\n",
       "\n",
       "    .dataframe thead th {\n",
       "        text-align: right;\n",
       "    }\n",
       "</style>\n",
       "<table border=\"1\" class=\"dataframe\">\n",
       "  <thead>\n",
       "    <tr style=\"text-align: right;\">\n",
       "      <th></th>\n",
       "      <th>Country</th>\n",
       "      <th>Cases</th>\n",
       "    </tr>\n",
       "  </thead>\n",
       "  <tbody>\n",
       "    <tr>\n",
       "      <th>0</th>\n",
       "      <td>Afghanistan</td>\n",
       "      <td>155682.0</td>\n",
       "    </tr>\n",
       "    <tr>\n",
       "      <th>1</th>\n",
       "      <td>Albania</td>\n",
       "      <td>176667.0</td>\n",
       "    </tr>\n",
       "    <tr>\n",
       "      <th>2</th>\n",
       "      <td>Algeria</td>\n",
       "      <td>205005.0</td>\n",
       "    </tr>\n",
       "    <tr>\n",
       "      <th>3</th>\n",
       "      <td>Andorra</td>\n",
       "      <td>15326.0</td>\n",
       "    </tr>\n",
       "    <tr>\n",
       "      <th>4</th>\n",
       "      <td>Angola</td>\n",
       "      <td>62385.0</td>\n",
       "    </tr>\n",
       "  </tbody>\n",
       "</table>\n",
       "</div>"
      ],
      "text/plain": [
       "       Country     Cases\n",
       "0  Afghanistan  155682.0\n",
       "1      Albania  176667.0\n",
       "2      Algeria  205005.0\n",
       "3      Andorra   15326.0\n",
       "4       Angola   62385.0"
      ]
     },
     "execution_count": 4,
     "metadata": {},
     "output_type": "execute_result"
    }
   ],
   "source": [
    "world = pd.DataFrame({\"Country\":[],\"Cases\":[]})\n",
    "# Pass all the countrie to the world dataframe\n",
    "world['Country'] = df0.iloc[:,1:].columns\n",
    "cases = []\n",
    "for i in world['Country']:\n",
    "    cases.append(pd.to_numeric(df0[i][1:]).sum())\n",
    "world['Cases'] = cases\n",
    "\n",
    "country_list = list(world['Country'].values)\n",
    "idx = 0\n",
    "for i in country_list:\n",
    "    sayac = 0\n",
    "    for j in i:\n",
    "        if j==\".\":\n",
    "            i = i[:sayac]\n",
    "            country_list[idx]=i\n",
    "        elif j==\"(\":\n",
    "            i = i[:sayac-1]\n",
    "            country_list[idx]=i\n",
    "        else:\n",
    "            sayac+=1\n",
    "    idx += 1\n",
    "world['Country'] = country_list\n",
    "world = world.groupby('Country')['Cases'].sum().reset_index()\n",
    "world.head()"
   ]
  },
  {
   "cell_type": "code",
   "execution_count": 5,
   "id": "ce913637",
   "metadata": {
    "execution": {
     "iopub.execute_input": "2021-10-25T04:41:08.909671Z",
     "iopub.status.busy": "2021-10-25T04:41:08.909024Z",
     "iopub.status.idle": "2021-10-25T04:41:08.929215Z",
     "shell.execute_reply": "2021-10-25T04:41:08.929917Z",
     "shell.execute_reply.started": "2021-10-25T04:33:39.868258Z"
    },
    "papermill": {
     "duration": 0.078528,
     "end_time": "2021-10-25T04:41:08.930070",
     "exception": false,
     "start_time": "2021-10-25T04:41:08.851542",
     "status": "completed"
    },
    "tags": []
   },
   "outputs": [
    {
     "data": {
      "text/html": [
       "<div>\n",
       "<style scoped>\n",
       "    .dataframe tbody tr th:only-of-type {\n",
       "        vertical-align: middle;\n",
       "    }\n",
       "\n",
       "    .dataframe tbody tr th {\n",
       "        vertical-align: top;\n",
       "    }\n",
       "\n",
       "    .dataframe thead th {\n",
       "        text-align: right;\n",
       "    }\n",
       "</style>\n",
       "<table border=\"1\" class=\"dataframe\">\n",
       "  <thead>\n",
       "    <tr style=\"text-align: right;\">\n",
       "      <th></th>\n",
       "      <th>name</th>\n",
       "      <th>alpha-2</th>\n",
       "      <th>alpha-3</th>\n",
       "      <th>country-code</th>\n",
       "      <th>iso_3166-2</th>\n",
       "      <th>region</th>\n",
       "      <th>sub-region</th>\n",
       "      <th>intermediate-region</th>\n",
       "      <th>region-code</th>\n",
       "      <th>sub-region-code</th>\n",
       "      <th>intermediate-region-code</th>\n",
       "    </tr>\n",
       "  </thead>\n",
       "  <tbody>\n",
       "    <tr>\n",
       "      <th>0</th>\n",
       "      <td>AFGHANISTAN</td>\n",
       "      <td>AF</td>\n",
       "      <td>AFG</td>\n",
       "      <td>4</td>\n",
       "      <td>ISO 3166-2:AF</td>\n",
       "      <td>Asia</td>\n",
       "      <td>Southern Asia</td>\n",
       "      <td>NaN</td>\n",
       "      <td>142.0</td>\n",
       "      <td>34.0</td>\n",
       "      <td>NaN</td>\n",
       "    </tr>\n",
       "    <tr>\n",
       "      <th>1</th>\n",
       "      <td>ÅLAND ISLANDS</td>\n",
       "      <td>AX</td>\n",
       "      <td>ALA</td>\n",
       "      <td>248</td>\n",
       "      <td>ISO 3166-2:AX</td>\n",
       "      <td>Europe</td>\n",
       "      <td>Northern Europe</td>\n",
       "      <td>NaN</td>\n",
       "      <td>150.0</td>\n",
       "      <td>154.0</td>\n",
       "      <td>NaN</td>\n",
       "    </tr>\n",
       "    <tr>\n",
       "      <th>2</th>\n",
       "      <td>ALBANIA</td>\n",
       "      <td>AL</td>\n",
       "      <td>ALB</td>\n",
       "      <td>8</td>\n",
       "      <td>ISO 3166-2:AL</td>\n",
       "      <td>Europe</td>\n",
       "      <td>Southern Europe</td>\n",
       "      <td>NaN</td>\n",
       "      <td>150.0</td>\n",
       "      <td>39.0</td>\n",
       "      <td>NaN</td>\n",
       "    </tr>\n",
       "    <tr>\n",
       "      <th>3</th>\n",
       "      <td>ALGERIA</td>\n",
       "      <td>DZ</td>\n",
       "      <td>DZA</td>\n",
       "      <td>12</td>\n",
       "      <td>ISO 3166-2:DZ</td>\n",
       "      <td>Africa</td>\n",
       "      <td>Northern Africa</td>\n",
       "      <td>NaN</td>\n",
       "      <td>2.0</td>\n",
       "      <td>15.0</td>\n",
       "      <td>NaN</td>\n",
       "    </tr>\n",
       "    <tr>\n",
       "      <th>4</th>\n",
       "      <td>AMERICAN SAMOA</td>\n",
       "      <td>AS</td>\n",
       "      <td>ASM</td>\n",
       "      <td>16</td>\n",
       "      <td>ISO 3166-2:AS</td>\n",
       "      <td>Oceania</td>\n",
       "      <td>Polynesia</td>\n",
       "      <td>NaN</td>\n",
       "      <td>9.0</td>\n",
       "      <td>61.0</td>\n",
       "      <td>NaN</td>\n",
       "    </tr>\n",
       "  </tbody>\n",
       "</table>\n",
       "</div>"
      ],
      "text/plain": [
       "             name alpha-2 alpha-3  country-code     iso_3166-2   region  \\\n",
       "0     AFGHANISTAN      AF     AFG             4  ISO 3166-2:AF     Asia   \n",
       "1   ÅLAND ISLANDS      AX     ALA           248  ISO 3166-2:AX   Europe   \n",
       "2         ALBANIA      AL     ALB             8  ISO 3166-2:AL   Europe   \n",
       "3         ALGERIA      DZ     DZA            12  ISO 3166-2:DZ   Africa   \n",
       "4  AMERICAN SAMOA      AS     ASM            16  ISO 3166-2:AS  Oceania   \n",
       "\n",
       "        sub-region intermediate-region  region-code  sub-region-code  \\\n",
       "0    Southern Asia                 NaN        142.0             34.0   \n",
       "1  Northern Europe                 NaN        150.0            154.0   \n",
       "2  Southern Europe                 NaN        150.0             39.0   \n",
       "3  Northern Africa                 NaN          2.0             15.0   \n",
       "4        Polynesia                 NaN          9.0             61.0   \n",
       "\n",
       "   intermediate-region-code  \n",
       "0                       NaN  \n",
       "1                       NaN  \n",
       "2                       NaN  \n",
       "3                       NaN  \n",
       "4                       NaN  "
      ]
     },
     "execution_count": 5,
     "metadata": {},
     "output_type": "execute_result"
    }
   ],
   "source": [
    "continent = pd.read_csv(\"../input/covid-19-cases/Dataset/continents/continents2.csv\")\n",
    "continent[\"name\"] = continent[\"name\"].str.upper()\n",
    "continent.head()"
   ]
  },
  {
   "cell_type": "markdown",
   "id": "374924d5",
   "metadata": {
    "papermill": {
     "duration": 0.054048,
     "end_time": "2021-10-25T04:41:09.038311",
     "exception": false,
     "start_time": "2021-10-25T04:41:08.984263",
     "status": "completed"
    },
    "tags": []
   },
   "source": [
    "## Data Viualization"
   ]
  },
  {
   "cell_type": "code",
   "execution_count": 6,
   "id": "06beb9ce",
   "metadata": {
    "execution": {
     "iopub.execute_input": "2021-10-25T04:41:09.153729Z",
     "iopub.status.busy": "2021-10-25T04:41:09.152885Z",
     "iopub.status.idle": "2021-10-25T04:41:09.155803Z",
     "shell.execute_reply": "2021-10-25T04:41:09.156242Z",
     "shell.execute_reply.started": "2021-10-25T04:33:39.905939Z"
    },
    "papermill": {
     "duration": 0.065285,
     "end_time": "2021-10-25T04:41:09.156381",
     "exception": false,
     "start_time": "2021-10-25T04:41:09.091096",
     "status": "completed"
    },
    "tags": []
   },
   "outputs": [
    {
     "data": {
      "text/html": [
       "<div>\n",
       "<style scoped>\n",
       "    .dataframe tbody tr th:only-of-type {\n",
       "        vertical-align: middle;\n",
       "    }\n",
       "\n",
       "    .dataframe tbody tr th {\n",
       "        vertical-align: top;\n",
       "    }\n",
       "\n",
       "    .dataframe thead th {\n",
       "        text-align: right;\n",
       "    }\n",
       "</style>\n",
       "<table border=\"1\" class=\"dataframe\">\n",
       "  <thead>\n",
       "    <tr style=\"text-align: right;\">\n",
       "      <th></th>\n",
       "      <th>Country</th>\n",
       "      <th>Cases</th>\n",
       "    </tr>\n",
       "  </thead>\n",
       "  <tbody>\n",
       "    <tr>\n",
       "      <th>0</th>\n",
       "      <td>Afghanistan</td>\n",
       "      <td>155682.0</td>\n",
       "    </tr>\n",
       "    <tr>\n",
       "      <th>1</th>\n",
       "      <td>Albania</td>\n",
       "      <td>176667.0</td>\n",
       "    </tr>\n",
       "    <tr>\n",
       "      <th>2</th>\n",
       "      <td>Algeria</td>\n",
       "      <td>205005.0</td>\n",
       "    </tr>\n",
       "    <tr>\n",
       "      <th>3</th>\n",
       "      <td>Andorra</td>\n",
       "      <td>15326.0</td>\n",
       "    </tr>\n",
       "    <tr>\n",
       "      <th>4</th>\n",
       "      <td>Angola</td>\n",
       "      <td>62385.0</td>\n",
       "    </tr>\n",
       "  </tbody>\n",
       "</table>\n",
       "</div>"
      ],
      "text/plain": [
       "       Country     Cases\n",
       "0  Afghanistan  155682.0\n",
       "1      Albania  176667.0\n",
       "2      Algeria  205005.0\n",
       "3      Andorra   15326.0\n",
       "4       Angola   62385.0"
      ]
     },
     "execution_count": 6,
     "metadata": {},
     "output_type": "execute_result"
    }
   ],
   "source": [
    "world.head()"
   ]
  },
  {
   "cell_type": "code",
   "execution_count": 7,
   "id": "a213a867",
   "metadata": {
    "execution": {
     "iopub.execute_input": "2021-10-25T04:41:09.273325Z",
     "iopub.status.busy": "2021-10-25T04:41:09.272573Z",
     "iopub.status.idle": "2021-10-25T04:41:09.275411Z",
     "shell.execute_reply": "2021-10-25T04:41:09.275001Z",
     "shell.execute_reply.started": "2021-10-25T04:33:39.916867Z"
    },
    "papermill": {
     "duration": 0.06506,
     "end_time": "2021-10-25T04:41:09.275546",
     "exception": false,
     "start_time": "2021-10-25T04:41:09.210486",
     "status": "completed"
    },
    "tags": []
   },
   "outputs": [],
   "source": [
    "world['Cases Range'] = pd.cut(world['Cases'],[10000,50000,200000,800000,1500000,15000000],labels=[\"U50K\",\"50kto200k\",\"200kto800k\",\"800kto1.5M\",\"1.5M+\"])\n"
   ]
  },
  {
   "cell_type": "code",
   "execution_count": 8,
   "id": "0171438b",
   "metadata": {
    "execution": {
     "iopub.execute_input": "2021-10-25T04:41:09.394372Z",
     "iopub.status.busy": "2021-10-25T04:41:09.393480Z",
     "iopub.status.idle": "2021-10-25T04:41:09.545901Z",
     "shell.execute_reply": "2021-10-25T04:41:09.545397Z",
     "shell.execute_reply.started": "2021-10-25T04:33:39.931948Z"
    },
    "papermill": {
     "duration": 0.216742,
     "end_time": "2021-10-25T04:41:09.546027",
     "exception": false,
     "start_time": "2021-10-25T04:41:09.329285",
     "status": "completed"
    },
    "tags": []
   },
   "outputs": [],
   "source": [
    "alpha = []\n",
    "for i in world['Country'].str.upper().values:\n",
    "    if i == \"BRUNEI\":\n",
    "        i = \"BRUNEI DARUSSALAM\"\n",
    "    elif i == \"US\":\n",
    "        i = \"UNITED STATES\"\n",
    "    if len(continent[continent[\"name\"] == i][\"alpha-3\"].values)==0:\n",
    "        alpha.append(np.nan)\n",
    "    else:\n",
    "        alpha.append(continent[continent[\"name\"]==i][\"alpha-3\"].values[0])\n",
    "world[\"Alpha3\"]=alpha"
   ]
  },
  {
   "cell_type": "code",
   "execution_count": 9,
   "id": "f1058c8b",
   "metadata": {
    "execution": {
     "iopub.execute_input": "2021-10-25T04:41:09.663934Z",
     "iopub.status.busy": "2021-10-25T04:41:09.663375Z",
     "iopub.status.idle": "2021-10-25T04:41:09.667945Z",
     "shell.execute_reply": "2021-10-25T04:41:09.668415Z",
     "shell.execute_reply.started": "2021-10-25T04:33:40.106075Z"
    },
    "papermill": {
     "duration": 0.068733,
     "end_time": "2021-10-25T04:41:09.668582",
     "exception": false,
     "start_time": "2021-10-25T04:41:09.599849",
     "status": "completed"
    },
    "tags": []
   },
   "outputs": [
    {
     "data": {
      "text/html": [
       "<div>\n",
       "<style scoped>\n",
       "    .dataframe tbody tr th:only-of-type {\n",
       "        vertical-align: middle;\n",
       "    }\n",
       "\n",
       "    .dataframe tbody tr th {\n",
       "        vertical-align: top;\n",
       "    }\n",
       "\n",
       "    .dataframe thead th {\n",
       "        text-align: right;\n",
       "    }\n",
       "</style>\n",
       "<table border=\"1\" class=\"dataframe\">\n",
       "  <thead>\n",
       "    <tr style=\"text-align: right;\">\n",
       "      <th></th>\n",
       "      <th>Country</th>\n",
       "      <th>Cases</th>\n",
       "      <th>Cases Range</th>\n",
       "      <th>Alpha3</th>\n",
       "    </tr>\n",
       "  </thead>\n",
       "  <tbody>\n",
       "    <tr>\n",
       "      <th>0</th>\n",
       "      <td>Afghanistan</td>\n",
       "      <td>155682.0</td>\n",
       "      <td>50kto200k</td>\n",
       "      <td>AFG</td>\n",
       "    </tr>\n",
       "    <tr>\n",
       "      <th>1</th>\n",
       "      <td>Albania</td>\n",
       "      <td>176667.0</td>\n",
       "      <td>50kto200k</td>\n",
       "      <td>ALB</td>\n",
       "    </tr>\n",
       "    <tr>\n",
       "      <th>2</th>\n",
       "      <td>Algeria</td>\n",
       "      <td>205005.0</td>\n",
       "      <td>200kto800k</td>\n",
       "      <td>DZA</td>\n",
       "    </tr>\n",
       "    <tr>\n",
       "      <th>3</th>\n",
       "      <td>Andorra</td>\n",
       "      <td>15326.0</td>\n",
       "      <td>U50K</td>\n",
       "      <td>AND</td>\n",
       "    </tr>\n",
       "    <tr>\n",
       "      <th>4</th>\n",
       "      <td>Angola</td>\n",
       "      <td>62385.0</td>\n",
       "      <td>50kto200k</td>\n",
       "      <td>AGO</td>\n",
       "    </tr>\n",
       "  </tbody>\n",
       "</table>\n",
       "</div>"
      ],
      "text/plain": [
       "       Country     Cases Cases Range Alpha3\n",
       "0  Afghanistan  155682.0   50kto200k    AFG\n",
       "1      Albania  176667.0   50kto200k    ALB\n",
       "2      Algeria  205005.0  200kto800k    DZA\n",
       "3      Andorra   15326.0        U50K    AND\n",
       "4       Angola   62385.0   50kto200k    AGO"
      ]
     },
     "execution_count": 9,
     "metadata": {},
     "output_type": "execute_result"
    }
   ],
   "source": [
    "world.head()"
   ]
  },
  {
   "cell_type": "code",
   "execution_count": 10,
   "id": "7d303ce5",
   "metadata": {
    "execution": {
     "iopub.execute_input": "2021-10-25T04:41:09.790590Z",
     "iopub.status.busy": "2021-10-25T04:41:09.789838Z",
     "iopub.status.idle": "2021-10-25T04:41:09.793666Z",
     "shell.execute_reply": "2021-10-25T04:41:09.794211Z",
     "shell.execute_reply.started": "2021-10-25T04:33:40.124175Z"
    },
    "papermill": {
     "duration": 0.069314,
     "end_time": "2021-10-25T04:41:09.794360",
     "exception": false,
     "start_time": "2021-10-25T04:41:09.725046",
     "status": "completed"
    },
    "tags": []
   },
   "outputs": [
    {
     "data": {
      "text/html": [
       "<div>\n",
       "<style scoped>\n",
       "    .dataframe tbody tr th:only-of-type {\n",
       "        vertical-align: middle;\n",
       "    }\n",
       "\n",
       "    .dataframe tbody tr th {\n",
       "        vertical-align: top;\n",
       "    }\n",
       "\n",
       "    .dataframe thead th {\n",
       "        text-align: right;\n",
       "    }\n",
       "</style>\n",
       "<table border=\"1\" class=\"dataframe\">\n",
       "  <thead>\n",
       "    <tr style=\"text-align: right;\">\n",
       "      <th></th>\n",
       "      <th>Country</th>\n",
       "      <th>Cases</th>\n",
       "      <th>Cases Range</th>\n",
       "      <th>Alpha3</th>\n",
       "    </tr>\n",
       "  </thead>\n",
       "  <tbody>\n",
       "    <tr>\n",
       "      <th>0</th>\n",
       "      <td>AFGHANISTAN</td>\n",
       "      <td>155682.0</td>\n",
       "      <td>50kto200k</td>\n",
       "      <td>AFG</td>\n",
       "    </tr>\n",
       "    <tr>\n",
       "      <th>1</th>\n",
       "      <td>ALBANIA</td>\n",
       "      <td>176667.0</td>\n",
       "      <td>50kto200k</td>\n",
       "      <td>ALB</td>\n",
       "    </tr>\n",
       "    <tr>\n",
       "      <th>2</th>\n",
       "      <td>ALGERIA</td>\n",
       "      <td>205005.0</td>\n",
       "      <td>200kto800k</td>\n",
       "      <td>DZA</td>\n",
       "    </tr>\n",
       "    <tr>\n",
       "      <th>3</th>\n",
       "      <td>ANDORRA</td>\n",
       "      <td>15326.0</td>\n",
       "      <td>U50K</td>\n",
       "      <td>AND</td>\n",
       "    </tr>\n",
       "    <tr>\n",
       "      <th>4</th>\n",
       "      <td>ANGOLA</td>\n",
       "      <td>62385.0</td>\n",
       "      <td>50kto200k</td>\n",
       "      <td>AGO</td>\n",
       "    </tr>\n",
       "  </tbody>\n",
       "</table>\n",
       "</div>"
      ],
      "text/plain": [
       "       Country     Cases Cases Range Alpha3\n",
       "0  AFGHANISTAN  155682.0   50kto200k    AFG\n",
       "1      ALBANIA  176667.0   50kto200k    ALB\n",
       "2      ALGERIA  205005.0  200kto800k    DZA\n",
       "3      ANDORRA   15326.0        U50K    AND\n",
       "4       ANGOLA   62385.0   50kto200k    AGO"
      ]
     },
     "execution_count": 10,
     "metadata": {},
     "output_type": "execute_result"
    }
   ],
   "source": [
    "world['Country'] = world['Country'].str.upper()\n",
    "world.head()"
   ]
  },
  {
   "cell_type": "code",
   "execution_count": 11,
   "id": "d1881894",
   "metadata": {
    "execution": {
     "iopub.execute_input": "2021-10-25T04:41:09.914372Z",
     "iopub.status.busy": "2021-10-25T04:41:09.913703Z",
     "iopub.status.idle": "2021-10-25T04:41:09.916352Z",
     "shell.execute_reply": "2021-10-25T04:41:09.916802Z",
     "shell.execute_reply.started": "2021-10-25T04:33:40.140743Z"
    },
    "papermill": {
     "duration": 0.064854,
     "end_time": "2021-10-25T04:41:09.916929",
     "exception": false,
     "start_time": "2021-10-25T04:41:09.852075",
     "status": "completed"
    },
    "tags": []
   },
   "outputs": [
    {
     "data": {
      "text/plain": [
       "Country         0\n",
       "Cases           0\n",
       "Cases Range    35\n",
       "Alpha3         13\n",
       "dtype: int64"
      ]
     },
     "execution_count": 11,
     "metadata": {},
     "output_type": "execute_result"
    }
   ],
   "source": [
    "world.isna().sum()"
   ]
  },
  {
   "cell_type": "code",
   "execution_count": 12,
   "id": "a56c2fe7",
   "metadata": {
    "execution": {
     "iopub.execute_input": "2021-10-25T04:41:10.034519Z",
     "iopub.status.busy": "2021-10-25T04:41:10.033965Z",
     "iopub.status.idle": "2021-10-25T04:41:11.001057Z",
     "shell.execute_reply": "2021-10-25T04:41:11.000609Z",
     "shell.execute_reply.started": "2021-10-25T04:33:40.151229Z"
    },
    "papermill": {
     "duration": 1.029609,
     "end_time": "2021-10-25T04:41:11.001183",
     "exception": false,
     "start_time": "2021-10-25T04:41:09.971574",
     "status": "completed"
    },
    "tags": []
   },
   "outputs": [
    {
     "data": {
      "text/html": [
       "        <script type=\"text/javascript\">\n",
       "        window.PlotlyConfig = {MathJaxConfig: 'local'};\n",
       "        if (window.MathJax) {MathJax.Hub.Config({SVG: {font: \"STIX-Web\"}});}\n",
       "        if (typeof require !== 'undefined') {\n",
       "        require.undef(\"plotly\");\n",
       "        requirejs.config({\n",
       "            paths: {\n",
       "                'plotly': ['https://cdn.plot.ly/plotly-2.4.2.min']\n",
       "            }\n",
       "        });\n",
       "        require(['plotly'], function(Plotly) {\n",
       "            window._Plotly = Plotly;\n",
       "        });\n",
       "        }\n",
       "        </script>\n",
       "        "
      ]
     },
     "metadata": {},
     "output_type": "display_data"
    },
    {
     "data": {
      "text/html": [
       "<div>                            <div id=\"e06b5ad7-795a-483f-a7c0-cdf3b03c95b0\" class=\"plotly-graph-div\" style=\"height:525px; width:100%;\"></div>            <script type=\"text/javascript\">                require([\"plotly\"], function(Plotly) {                    window.PLOTLYENV=window.PLOTLYENV || {};                                    if (document.getElementById(\"e06b5ad7-795a-483f-a7c0-cdf3b03c95b0\")) {                    Plotly.newPlot(                        \"e06b5ad7-795a-483f-a7c0-cdf3b03c95b0\",                        [{\"colorscale\":[[0.0,\"khaki\"],[1.0,\"khaki\"]],\"geo\":\"geo\",\"hovertemplate\":\"Cases Range=50kto200k<br>Alpha3=%{location}<extra></extra>\",\"locations\":[\"AFG\",\"ALB\",\"AGO\",\"AUS\",\"BWA\",\"KHM\",\"CMR\",\"CHN\",\"COG\",\"CYP\",\"SLV\",\"EST\",\"FJI\",\"FIN\",\"GHA\",\"JAM\",\"KGZ\",\"LVA\",\"LUX\",\"MWI\",\"MDV\",\"MNE\",\"MOZ\",\"NAM\",\"NOR\",\"RWA\",\"SEN\",\"SGP\",\"TTO\",\"UGA\",\"UZB\",\"ZWE\"],\"name\":\"50kto200k\",\"showlegend\":true,\"showscale\":false,\"type\":\"choropleth\",\"z\":[1,1,1,1,1,1,1,1,1,1,1,1,1,1,1,1,1,1,1,1,1,1,1,1,1,1,1,1,1,1,1,1]},{\"colorscale\":[[0.0,\"yellow\"],[1.0,\"yellow\"]],\"geo\":\"geo\",\"hovertemplate\":\"Cases Range=200kto800k<br>Alpha3=%{location}<extra></extra>\",\"locations\":[\"DZA\",\"ARM\",\"AUT\",\"AZE\",\"BHR\",\"BLR\",\"BOL\",\"BIH\",\"BGR\",\"CRI\",\"HRV\",\"DNK\",\"DOM\",\"ECU\",\"EGY\",\"ETH\",\"GEO\",\"GRC\",\"GTM\",\"HND\",\"IRL\",\"KEN\",\"KWT\",\"LBN\",\"LBY\",\"LTU\",\"MDA\",\"MNG\",\"NGA\",\"OMN\",\"PAN\",\"PRY\",\"QAT\",\"SAU\",\"SVK\",\"SVN\",\"LKA\",\"TUN\",\"ARE\",\"URY\",\"VEN\",\"ZMB\"],\"name\":\"200kto800k\",\"showlegend\":true,\"showscale\":false,\"type\":\"choropleth\",\"z\":[1,1,1,1,1,1,1,1,1,1,1,1,1,1,1,1,1,1,1,1,1,1,1,1,1,1,1,1,1,1,1,1,1,1,1,1,1,1,1,1,1,1]},{\"colorscale\":[[0.0,\"lightblue\"],[1.0,\"lightblue\"]],\"geo\":\"geo\",\"hovertemplate\":\"Cases Range=U50K<br>Alpha3=%{location}<extra></extra>\",\"locations\":[\"AND\",\"BHS\",\"BRB\",\"BLZ\",\"BEN\",\"BFA\",\"BDI\",\"CPV\",\"CAF\",\"DJI\",\"GNQ\",\"SWZ\",\"GAB\",\"GIN\",\"GUY\",\"HTI\",\"ISL\",\"LAO\",\"LSO\",\"MDG\",\"MLI\",\"MLT\",\"MRT\",\"MUS\",\"NIC\",\"PNG\",\"LCA\",\"SYC\",\"SOM\",\"SSD\",\"SDN\",\"SUR\",\"SYR\",\"TJK\",\"TZA\",\"TLS\",\"TGO\"],\"name\":\"U50K\",\"showlegend\":true,\"showscale\":false,\"type\":\"choropleth\",\"z\":[1,1,1,1,1,1,1,1,1,1,1,1,1,1,1,1,1,1,1,1,1,1,1,1,1,1,1,1,1,1,1,1,1,1,1,1,1]},{\"colorscale\":[[0.0,\"red\"],[1.0,\"red\"]],\"geo\":\"geo\",\"hovertemplate\":\"Cases Range=1.5M+<br>Alpha3=%{location}<extra></extra>\",\"locations\":[\"ARG\",\"BGD\",\"CAN\",\"CHL\",\"COL\",\"FRA\",\"DEU\",\"IDN\",\"IRN\",\"IRQ\",\"ITA\",\"JPN\",\"MYS\",\"MEX\",\"NLD\",\"PER\",\"PHL\",\"POL\",\"RUS\",\"ZAF\",\"ESP\",\"THA\",\"TUR\",\"UKR\",\"GBR\"],\"name\":\"1.5M+\",\"showlegend\":true,\"showscale\":false,\"type\":\"choropleth\",\"z\":[1,1,1,1,1,1,1,1,1,1,1,1,1,1,1,1,1,1,1,1,1,1,1,1,1]},{\"colorscale\":[[0.0,\"orange\"],[1.0,\"orange\"]],\"geo\":\"geo\",\"hovertemplate\":\"Cases Range=800kto1.5M<br>Alpha3=%{location}<extra></extra>\",\"locations\":[\"BEL\",\"CUB\",\"HUN\",\"ISR\",\"JOR\",\"KAZ\",\"MAR\",\"NPL\",\"PAK\",\"PRT\",\"ROU\",\"SRB\",\"SWE\",\"CHE\",\"VNM\"],\"name\":\"800kto1.5M\",\"showlegend\":true,\"showscale\":false,\"type\":\"choropleth\",\"z\":[1,1,1,1,1,1,1,1,1,1,1,1,1,1,1]}],                        {\"geo\":{\"center\":{},\"domain\":{\"x\":[0.0,1.0],\"y\":[0.0,1.0]},\"fitbounds\":\"locations\",\"projection\":{\"type\":\"mercator\"},\"visible\":false},\"legend\":{\"title\":{\"text\":\"Cases Range\"},\"tracegroupgap\":0},\"margin\":{\"b\":0,\"l\":0,\"r\":0,\"t\":0},\"template\":{\"data\":{\"bar\":[{\"error_x\":{\"color\":\"#2a3f5f\"},\"error_y\":{\"color\":\"#2a3f5f\"},\"marker\":{\"line\":{\"color\":\"#E5ECF6\",\"width\":0.5},\"pattern\":{\"fillmode\":\"overlay\",\"size\":10,\"solidity\":0.2}},\"type\":\"bar\"}],\"barpolar\":[{\"marker\":{\"line\":{\"color\":\"#E5ECF6\",\"width\":0.5},\"pattern\":{\"fillmode\":\"overlay\",\"size\":10,\"solidity\":0.2}},\"type\":\"barpolar\"}],\"carpet\":[{\"aaxis\":{\"endlinecolor\":\"#2a3f5f\",\"gridcolor\":\"white\",\"linecolor\":\"white\",\"minorgridcolor\":\"white\",\"startlinecolor\":\"#2a3f5f\"},\"baxis\":{\"endlinecolor\":\"#2a3f5f\",\"gridcolor\":\"white\",\"linecolor\":\"white\",\"minorgridcolor\":\"white\",\"startlinecolor\":\"#2a3f5f\"},\"type\":\"carpet\"}],\"choropleth\":[{\"colorbar\":{\"outlinewidth\":0,\"ticks\":\"\"},\"type\":\"choropleth\"}],\"contour\":[{\"colorbar\":{\"outlinewidth\":0,\"ticks\":\"\"},\"colorscale\":[[0.0,\"#0d0887\"],[0.1111111111111111,\"#46039f\"],[0.2222222222222222,\"#7201a8\"],[0.3333333333333333,\"#9c179e\"],[0.4444444444444444,\"#bd3786\"],[0.5555555555555556,\"#d8576b\"],[0.6666666666666666,\"#ed7953\"],[0.7777777777777778,\"#fb9f3a\"],[0.8888888888888888,\"#fdca26\"],[1.0,\"#f0f921\"]],\"type\":\"contour\"}],\"contourcarpet\":[{\"colorbar\":{\"outlinewidth\":0,\"ticks\":\"\"},\"type\":\"contourcarpet\"}],\"heatmap\":[{\"colorbar\":{\"outlinewidth\":0,\"ticks\":\"\"},\"colorscale\":[[0.0,\"#0d0887\"],[0.1111111111111111,\"#46039f\"],[0.2222222222222222,\"#7201a8\"],[0.3333333333333333,\"#9c179e\"],[0.4444444444444444,\"#bd3786\"],[0.5555555555555556,\"#d8576b\"],[0.6666666666666666,\"#ed7953\"],[0.7777777777777778,\"#fb9f3a\"],[0.8888888888888888,\"#fdca26\"],[1.0,\"#f0f921\"]],\"type\":\"heatmap\"}],\"heatmapgl\":[{\"colorbar\":{\"outlinewidth\":0,\"ticks\":\"\"},\"colorscale\":[[0.0,\"#0d0887\"],[0.1111111111111111,\"#46039f\"],[0.2222222222222222,\"#7201a8\"],[0.3333333333333333,\"#9c179e\"],[0.4444444444444444,\"#bd3786\"],[0.5555555555555556,\"#d8576b\"],[0.6666666666666666,\"#ed7953\"],[0.7777777777777778,\"#fb9f3a\"],[0.8888888888888888,\"#fdca26\"],[1.0,\"#f0f921\"]],\"type\":\"heatmapgl\"}],\"histogram\":[{\"marker\":{\"pattern\":{\"fillmode\":\"overlay\",\"size\":10,\"solidity\":0.2}},\"type\":\"histogram\"}],\"histogram2d\":[{\"colorbar\":{\"outlinewidth\":0,\"ticks\":\"\"},\"colorscale\":[[0.0,\"#0d0887\"],[0.1111111111111111,\"#46039f\"],[0.2222222222222222,\"#7201a8\"],[0.3333333333333333,\"#9c179e\"],[0.4444444444444444,\"#bd3786\"],[0.5555555555555556,\"#d8576b\"],[0.6666666666666666,\"#ed7953\"],[0.7777777777777778,\"#fb9f3a\"],[0.8888888888888888,\"#fdca26\"],[1.0,\"#f0f921\"]],\"type\":\"histogram2d\"}],\"histogram2dcontour\":[{\"colorbar\":{\"outlinewidth\":0,\"ticks\":\"\"},\"colorscale\":[[0.0,\"#0d0887\"],[0.1111111111111111,\"#46039f\"],[0.2222222222222222,\"#7201a8\"],[0.3333333333333333,\"#9c179e\"],[0.4444444444444444,\"#bd3786\"],[0.5555555555555556,\"#d8576b\"],[0.6666666666666666,\"#ed7953\"],[0.7777777777777778,\"#fb9f3a\"],[0.8888888888888888,\"#fdca26\"],[1.0,\"#f0f921\"]],\"type\":\"histogram2dcontour\"}],\"mesh3d\":[{\"colorbar\":{\"outlinewidth\":0,\"ticks\":\"\"},\"type\":\"mesh3d\"}],\"parcoords\":[{\"line\":{\"colorbar\":{\"outlinewidth\":0,\"ticks\":\"\"}},\"type\":\"parcoords\"}],\"pie\":[{\"automargin\":true,\"type\":\"pie\"}],\"scatter\":[{\"marker\":{\"colorbar\":{\"outlinewidth\":0,\"ticks\":\"\"}},\"type\":\"scatter\"}],\"scatter3d\":[{\"line\":{\"colorbar\":{\"outlinewidth\":0,\"ticks\":\"\"}},\"marker\":{\"colorbar\":{\"outlinewidth\":0,\"ticks\":\"\"}},\"type\":\"scatter3d\"}],\"scattercarpet\":[{\"marker\":{\"colorbar\":{\"outlinewidth\":0,\"ticks\":\"\"}},\"type\":\"scattercarpet\"}],\"scattergeo\":[{\"marker\":{\"colorbar\":{\"outlinewidth\":0,\"ticks\":\"\"}},\"type\":\"scattergeo\"}],\"scattergl\":[{\"marker\":{\"colorbar\":{\"outlinewidth\":0,\"ticks\":\"\"}},\"type\":\"scattergl\"}],\"scattermapbox\":[{\"marker\":{\"colorbar\":{\"outlinewidth\":0,\"ticks\":\"\"}},\"type\":\"scattermapbox\"}],\"scatterpolar\":[{\"marker\":{\"colorbar\":{\"outlinewidth\":0,\"ticks\":\"\"}},\"type\":\"scatterpolar\"}],\"scatterpolargl\":[{\"marker\":{\"colorbar\":{\"outlinewidth\":0,\"ticks\":\"\"}},\"type\":\"scatterpolargl\"}],\"scatterternary\":[{\"marker\":{\"colorbar\":{\"outlinewidth\":0,\"ticks\":\"\"}},\"type\":\"scatterternary\"}],\"surface\":[{\"colorbar\":{\"outlinewidth\":0,\"ticks\":\"\"},\"colorscale\":[[0.0,\"#0d0887\"],[0.1111111111111111,\"#46039f\"],[0.2222222222222222,\"#7201a8\"],[0.3333333333333333,\"#9c179e\"],[0.4444444444444444,\"#bd3786\"],[0.5555555555555556,\"#d8576b\"],[0.6666666666666666,\"#ed7953\"],[0.7777777777777778,\"#fb9f3a\"],[0.8888888888888888,\"#fdca26\"],[1.0,\"#f0f921\"]],\"type\":\"surface\"}],\"table\":[{\"cells\":{\"fill\":{\"color\":\"#EBF0F8\"},\"line\":{\"color\":\"white\"}},\"header\":{\"fill\":{\"color\":\"#C8D4E3\"},\"line\":{\"color\":\"white\"}},\"type\":\"table\"}]},\"layout\":{\"annotationdefaults\":{\"arrowcolor\":\"#2a3f5f\",\"arrowhead\":0,\"arrowwidth\":1},\"autotypenumbers\":\"strict\",\"coloraxis\":{\"colorbar\":{\"outlinewidth\":0,\"ticks\":\"\"}},\"colorscale\":{\"diverging\":[[0,\"#8e0152\"],[0.1,\"#c51b7d\"],[0.2,\"#de77ae\"],[0.3,\"#f1b6da\"],[0.4,\"#fde0ef\"],[0.5,\"#f7f7f7\"],[0.6,\"#e6f5d0\"],[0.7,\"#b8e186\"],[0.8,\"#7fbc41\"],[0.9,\"#4d9221\"],[1,\"#276419\"]],\"sequential\":[[0.0,\"#0d0887\"],[0.1111111111111111,\"#46039f\"],[0.2222222222222222,\"#7201a8\"],[0.3333333333333333,\"#9c179e\"],[0.4444444444444444,\"#bd3786\"],[0.5555555555555556,\"#d8576b\"],[0.6666666666666666,\"#ed7953\"],[0.7777777777777778,\"#fb9f3a\"],[0.8888888888888888,\"#fdca26\"],[1.0,\"#f0f921\"]],\"sequentialminus\":[[0.0,\"#0d0887\"],[0.1111111111111111,\"#46039f\"],[0.2222222222222222,\"#7201a8\"],[0.3333333333333333,\"#9c179e\"],[0.4444444444444444,\"#bd3786\"],[0.5555555555555556,\"#d8576b\"],[0.6666666666666666,\"#ed7953\"],[0.7777777777777778,\"#fb9f3a\"],[0.8888888888888888,\"#fdca26\"],[1.0,\"#f0f921\"]]},\"colorway\":[\"#636efa\",\"#EF553B\",\"#00cc96\",\"#ab63fa\",\"#FFA15A\",\"#19d3f3\",\"#FF6692\",\"#B6E880\",\"#FF97FF\",\"#FECB52\"],\"font\":{\"color\":\"#2a3f5f\"},\"geo\":{\"bgcolor\":\"white\",\"lakecolor\":\"white\",\"landcolor\":\"#E5ECF6\",\"showlakes\":true,\"showland\":true,\"subunitcolor\":\"white\"},\"hoverlabel\":{\"align\":\"left\"},\"hovermode\":\"closest\",\"mapbox\":{\"style\":\"light\"},\"paper_bgcolor\":\"white\",\"plot_bgcolor\":\"#E5ECF6\",\"polar\":{\"angularaxis\":{\"gridcolor\":\"white\",\"linecolor\":\"white\",\"ticks\":\"\"},\"bgcolor\":\"#E5ECF6\",\"radialaxis\":{\"gridcolor\":\"white\",\"linecolor\":\"white\",\"ticks\":\"\"}},\"scene\":{\"xaxis\":{\"backgroundcolor\":\"#E5ECF6\",\"gridcolor\":\"white\",\"gridwidth\":2,\"linecolor\":\"white\",\"showbackground\":true,\"ticks\":\"\",\"zerolinecolor\":\"white\"},\"yaxis\":{\"backgroundcolor\":\"#E5ECF6\",\"gridcolor\":\"white\",\"gridwidth\":2,\"linecolor\":\"white\",\"showbackground\":true,\"ticks\":\"\",\"zerolinecolor\":\"white\"},\"zaxis\":{\"backgroundcolor\":\"#E5ECF6\",\"gridcolor\":\"white\",\"gridwidth\":2,\"linecolor\":\"white\",\"showbackground\":true,\"ticks\":\"\",\"zerolinecolor\":\"white\"}},\"shapedefaults\":{\"line\":{\"color\":\"#2a3f5f\"}},\"ternary\":{\"aaxis\":{\"gridcolor\":\"white\",\"linecolor\":\"white\",\"ticks\":\"\"},\"baxis\":{\"gridcolor\":\"white\",\"linecolor\":\"white\",\"ticks\":\"\"},\"bgcolor\":\"#E5ECF6\",\"caxis\":{\"gridcolor\":\"white\",\"linecolor\":\"white\",\"ticks\":\"\"}},\"title\":{\"x\":0.05},\"xaxis\":{\"automargin\":true,\"gridcolor\":\"white\",\"linecolor\":\"white\",\"ticks\":\"\",\"title\":{\"standoff\":15},\"zerolinecolor\":\"white\",\"zerolinewidth\":2},\"yaxis\":{\"automargin\":true,\"gridcolor\":\"white\",\"linecolor\":\"white\",\"ticks\":\"\",\"title\":{\"standoff\":15},\"zerolinecolor\":\"white\",\"zerolinewidth\":2}}}},                        {\"responsive\": true}                    ).then(function(){\n",
       "                            \n",
       "var gd = document.getElementById('e06b5ad7-795a-483f-a7c0-cdf3b03c95b0');\n",
       "var x = new MutationObserver(function (mutations, observer) {{\n",
       "        var display = window.getComputedStyle(gd).display;\n",
       "        if (!display || display === 'none') {{\n",
       "            console.log([gd, 'removed!']);\n",
       "            Plotly.purge(gd);\n",
       "            observer.disconnect();\n",
       "        }}\n",
       "}});\n",
       "\n",
       "// Listen for the removal of the full notebook cells\n",
       "var notebookContainer = gd.closest('#notebook-container');\n",
       "if (notebookContainer) {{\n",
       "    x.observe(notebookContainer, {childList: true});\n",
       "}}\n",
       "\n",
       "// Listen for the clearing of the current output cell\n",
       "var outputEl = gd.closest('.output');\n",
       "if (outputEl) {{\n",
       "    x.observe(outputEl, {childList: true});\n",
       "}}\n",
       "\n",
       "                        })                };                });            </script>        </div>"
      ]
     },
     "metadata": {},
     "output_type": "display_data"
    }
   ],
   "source": [
    "fig = px.choropleth(world.dropna(),\n",
    "                   locations='Alpha3',\n",
    "                   color='Cases Range',\n",
    "                   projection='mercator',\n",
    "                   color_discrete_sequence=['khaki','yellow','lightblue','red','orange'])\n",
    "fig.update_geos(fitbounds='locations',visible=False)\n",
    "fig.update_layout(margin={\"r\":0,\"t\":0,\"l\":0,\"b\":0})\n",
    "fig.show()\n",
    "plt.show()"
   ]
  },
  {
   "cell_type": "code",
   "execution_count": 13,
   "id": "82cfafbc",
   "metadata": {
    "execution": {
     "iopub.execute_input": "2021-10-25T04:41:11.158953Z",
     "iopub.status.busy": "2021-10-25T04:41:11.157999Z",
     "iopub.status.idle": "2021-10-25T04:41:11.935629Z",
     "shell.execute_reply": "2021-10-25T04:41:11.936102Z",
     "shell.execute_reply.started": "2021-10-25T04:33:41.278435Z"
    },
    "papermill": {
     "duration": 0.878298,
     "end_time": "2021-10-25T04:41:11.936266",
     "exception": false,
     "start_time": "2021-10-25T04:41:11.057968",
     "status": "completed"
    },
    "tags": []
   },
   "outputs": [
    {
     "data": {
      "text/html": [
       "<div>\n",
       "<style scoped>\n",
       "    .dataframe tbody tr th:only-of-type {\n",
       "        vertical-align: middle;\n",
       "    }\n",
       "\n",
       "    .dataframe tbody tr th {\n",
       "        vertical-align: top;\n",
       "    }\n",
       "\n",
       "    .dataframe thead th {\n",
       "        text-align: right;\n",
       "    }\n",
       "</style>\n",
       "<table border=\"1\" class=\"dataframe\">\n",
       "  <thead>\n",
       "    <tr style=\"text-align: right;\">\n",
       "      <th></th>\n",
       "      <th>Cases</th>\n",
       "      <th>Deaths</th>\n",
       "    </tr>\n",
       "    <tr>\n",
       "      <th>Date</th>\n",
       "      <th></th>\n",
       "      <th></th>\n",
       "    </tr>\n",
       "  </thead>\n",
       "  <tbody>\n",
       "    <tr>\n",
       "      <th>1/23/20</th>\n",
       "      <td>98.0</td>\n",
       "      <td>1.0</td>\n",
       "    </tr>\n",
       "    <tr>\n",
       "      <th>1/24/20</th>\n",
       "      <td>286.0</td>\n",
       "      <td>8.0</td>\n",
       "    </tr>\n",
       "    <tr>\n",
       "      <th>1/25/20</th>\n",
       "      <td>493.0</td>\n",
       "      <td>16.0</td>\n",
       "    </tr>\n",
       "    <tr>\n",
       "      <th>1/26/20</th>\n",
       "      <td>684.0</td>\n",
       "      <td>14.0</td>\n",
       "    </tr>\n",
       "    <tr>\n",
       "      <th>1/27/20</th>\n",
       "      <td>809.0</td>\n",
       "      <td>26.0</td>\n",
       "    </tr>\n",
       "  </tbody>\n",
       "</table>\n",
       "</div>"
      ],
      "text/plain": [
       "         Cases  Deaths\n",
       "Date                  \n",
       "1/23/20   98.0     1.0\n",
       "1/24/20  286.0     8.0\n",
       "1/25/20  493.0    16.0\n",
       "1/26/20  684.0    14.0\n",
       "1/27/20  809.0    26.0"
      ]
     },
     "execution_count": 13,
     "metadata": {},
     "output_type": "execute_result"
    }
   ],
   "source": [
    "# Daily cases all around the world\n",
    "count = []\n",
    "for i in range(1,len(df0)):\n",
    "    count.append(sum(pd.to_numeric(df0.iloc[i,1:].values)))\n",
    "\n",
    "df = pd.DataFrame()\n",
    "df['Date'] = df0['Country/Region'][1:]\n",
    "df['Cases'] = count\n",
    "df = df.set_index('Date')\n",
    "\n",
    "# Daily death cases all around the world\n",
    "count = []\n",
    "for i in range(1,len(df1)):\n",
    "    count.append(sum(pd.to_numeric(df1.iloc[i,1:].values)))\n",
    "\n",
    "df['Deaths'] = count\n",
    "\n",
    "df.head()"
   ]
  },
  {
   "cell_type": "code",
   "execution_count": 14,
   "id": "be958026",
   "metadata": {
    "execution": {
     "iopub.execute_input": "2021-10-25T04:41:12.059580Z",
     "iopub.status.busy": "2021-10-25T04:41:12.058924Z",
     "iopub.status.idle": "2021-10-25T04:41:12.062265Z",
     "shell.execute_reply": "2021-10-25T04:41:12.062766Z",
     "shell.execute_reply.started": "2021-10-25T04:33:42.311283Z"
    },
    "papermill": {
     "duration": 0.069292,
     "end_time": "2021-10-25T04:41:12.062918",
     "exception": false,
     "start_time": "2021-10-25T04:41:11.993626",
     "status": "completed"
    },
    "tags": []
   },
   "outputs": [
    {
     "data": {
      "text/html": [
       "<div>\n",
       "<style scoped>\n",
       "    .dataframe tbody tr th:only-of-type {\n",
       "        vertical-align: middle;\n",
       "    }\n",
       "\n",
       "    .dataframe tbody tr th {\n",
       "        vertical-align: top;\n",
       "    }\n",
       "\n",
       "    .dataframe thead th {\n",
       "        text-align: right;\n",
       "    }\n",
       "</style>\n",
       "<table border=\"1\" class=\"dataframe\">\n",
       "  <thead>\n",
       "    <tr style=\"text-align: right;\">\n",
       "      <th></th>\n",
       "      <th>Cases</th>\n",
       "      <th>Deaths</th>\n",
       "    </tr>\n",
       "    <tr>\n",
       "      <th>Date</th>\n",
       "      <th></th>\n",
       "      <th></th>\n",
       "    </tr>\n",
       "  </thead>\n",
       "  <tbody>\n",
       "    <tr>\n",
       "      <th>1/23/20</th>\n",
       "      <td>98</td>\n",
       "      <td>1</td>\n",
       "    </tr>\n",
       "    <tr>\n",
       "      <th>1/24/20</th>\n",
       "      <td>286</td>\n",
       "      <td>8</td>\n",
       "    </tr>\n",
       "    <tr>\n",
       "      <th>1/25/20</th>\n",
       "      <td>493</td>\n",
       "      <td>16</td>\n",
       "    </tr>\n",
       "    <tr>\n",
       "      <th>1/26/20</th>\n",
       "      <td>684</td>\n",
       "      <td>14</td>\n",
       "    </tr>\n",
       "    <tr>\n",
       "      <th>1/27/20</th>\n",
       "      <td>809</td>\n",
       "      <td>26</td>\n",
       "    </tr>\n",
       "  </tbody>\n",
       "</table>\n",
       "</div>"
      ],
      "text/plain": [
       "         Cases  Deaths\n",
       "Date                  \n",
       "1/23/20     98       1\n",
       "1/24/20    286       8\n",
       "1/25/20    493      16\n",
       "1/26/20    684      14\n",
       "1/27/20    809      26"
      ]
     },
     "execution_count": 14,
     "metadata": {},
     "output_type": "execute_result"
    }
   ],
   "source": [
    "# remove decimal values\n",
    "pd.set_option('precision',0)\n",
    "df.head()"
   ]
  },
  {
   "cell_type": "code",
   "execution_count": 15,
   "id": "a9514e28",
   "metadata": {
    "execution": {
     "iopub.execute_input": "2021-10-25T04:41:12.199486Z",
     "iopub.status.busy": "2021-10-25T04:41:12.198794Z",
     "iopub.status.idle": "2021-10-25T04:41:12.480390Z",
     "shell.execute_reply": "2021-10-25T04:41:12.480842Z",
     "shell.execute_reply.started": "2021-10-25T04:33:42.323299Z"
    },
    "papermill": {
     "duration": 0.360162,
     "end_time": "2021-10-25T04:41:12.480994",
     "exception": false,
     "start_time": "2021-10-25T04:41:12.120832",
     "status": "completed"
    },
    "tags": []
   },
   "outputs": [
    {
     "data": {
      "image/png": "[encoded data removed]",
      "text/plain": [
       "<Figure size 1800x360 with 1 Axes>"
      ]
     },
     "metadata": {
      "needs_background": "light"
     },
     "output_type": "display_data"
    }
   ],
   "source": [
    "# Daily covid19 cases\n",
    "\n",
    "plt.ticklabel_format(style='plain')\n",
    "df.Cases.plot(title='Daily Covid19 Cases in World',marker=\".\",figsize=(10,8),label=\"Daily cases\")\n",
    "df.Cases.rolling(window=5).mean().plot(figsize=(25,5),label='MovingAverage(5)')\n",
    "plt.ylabel(\"Cases\",fontsize=15)\n",
    "plt.xlabel(\"Date\",fontsize=15)\n",
    "plt.legend()\n",
    "plt.show();"
   ]
  },
  {
   "cell_type": "code",
   "execution_count": 16,
   "id": "545402e4",
   "metadata": {
    "execution": {
     "iopub.execute_input": "2021-10-25T04:41:12.605187Z",
     "iopub.status.busy": "2021-10-25T04:41:12.604362Z",
     "iopub.status.idle": "2021-10-25T04:41:12.682773Z",
     "shell.execute_reply": "2021-10-25T04:41:12.683188Z",
     "shell.execute_reply.started": "2021-10-25T04:33:42.633291Z"
    },
    "papermill": {
     "duration": 0.142528,
     "end_time": "2021-10-25T04:41:12.683342",
     "exception": false,
     "start_time": "2021-10-25T04:41:12.540814",
     "status": "completed"
    },
    "pycharm": {
     "name": "#%%\n"
    },
    "tags": []
   },
   "outputs": [
    {
     "data": {
      "text/html": [
       "<div>                            <div id=\"b5114e3e-b4d1-43d9-b01d-ecda4b43dd1b\" class=\"plotly-graph-div\" style=\"height:525px; width:100%;\"></div>            <script type=\"text/javascript\">                require([\"plotly\"], function(Plotly) {                    window.PLOTLYENV=window.PLOTLYENV || {};                                    if (document.getElementById(\"b5114e3e-b4d1-43d9-b01d-ecda4b43dd1b\")) {                    Plotly.newPlot(                        \"b5114e3e-b4d1-43d9-b01d-ecda4b43dd1b\",                        [{\"hovertemplate\":\"Date=%{x}<br>Cases=%{y}<extra></extra>\",\"legendgroup\":\"\",\"line\":{\"color\":\"#636efa\",\"dash\":\"solid\"},\"marker\":{\"symbol\":\"circle\"},\"mode\":\"lines\",\"name\":\"\",\"orientation\":\"v\",\"showlegend\":false,\"type\":\"scatter\",\"x\":[\"1/23/20\",\"1/24/20\",\"1/25/20\",\"1/26/20\",\"1/27/20\",\"1/28/20\",\"1/29/20\",\"1/30/20\",\"1/31/20\",\"2/1/20\",\"2/2/20\",\"2/3/20\",\"2/4/20\",\"2/5/20\",\"2/6/20\",\"2/7/20\",\"2/8/20\",\"2/9/20\",\"2/10/20\",\"2/11/20\",\"2/12/20\",\"2/13/20\",\"2/14/20\",\"2/15/20\",\"2/16/20\",\"2/17/20\",\"2/18/20\",\"2/19/20\",\"2/20/20\",\"2/21/20\",\"2/22/20\",\"2/23/20\",\"2/24/20\",\"2/25/20\",\"2/26/20\",\"2/27/20\",\"2/28/20\",\"2/29/20\",\"3/1/20\",\"3/2/20\",\"3/3/20\",\"3/4/20\",\"3/5/20\",\"3/6/20\",\"3/7/20\",\"3/8/20\",\"3/9/20\",\"3/10/20\",\"3/11/20\",\"3/12/20\",\"3/13/20\",\"3/14/20\",\"3/15/20\",\"3/16/20\",\"3/17/20\",\"3/18/20\",\"3/19/20\",\"3/20/20\",\"3/21/20\",\"3/22/20\",\"3/23/20\",\"3/24/20\",\"3/25/20\",\"3/26/20\",\"3/27/20\",\"3/28/20\",\"3/29/20\",\"3/30/20\",\"3/31/20\",\"4/1/20\",\"4/2/20\",\"4/3/20\",\"4/4/20\",\"4/5/20\",\"4/6/20\",\"4/7/20\",\"4/8/20\",\"4/9/20\",\"4/10/20\",\"4/11/20\",\"4/12/20\",\"4/13/20\",\"4/14/20\",\"4/15/20\",\"4/16/20\",\"4/17/20\",\"4/18/20\",\"4/19/20\",\"4/20/20\",\"4/21/20\",\"4/22/20\",\"4/23/20\",\"4/24/20\",\"4/25/20\",\"4/26/20\",\"4/27/20\",\"4/28/20\",\"4/29/20\",\"4/30/20\",\"5/1/20\",\"5/2/20\",\"5/3/20\",\"5/4/20\",\"5/5/20\",\"5/6/20\",\"5/7/20\",\"5/8/20\",\"5/9/20\",\"5/10/20\",\"5/11/20\",\"5/12/20\",\"5/13/20\",\"5/14/20\",\"5/15/20\",\"5/16/20\",\"5/17/20\",\"5/18/20\",\"5/19/20\",\"5/20/20\",\"5/21/20\",\"5/22/20\",\"5/23/20\",\"5/24/20\",\"5/25/20\",\"5/26/20\",\"5/27/20\",\"5/28/20\",\"5/29/20\",\"5/30/20\",\"5/31/20\",\"6/1/20\",\"6/2/20\",\"6/3/20\",\"6/4/20\",\"6/5/20\",\"6/6/20\",\"6/7/20\",\"6/8/20\",\"6/9/20\",\"6/10/20\",\"6/11/20\",\"6/12/20\",\"6/13/20\",\"6/14/20\",\"6/15/20\",\"6/16/20\",\"6/17/20\",\"6/18/20\",\"6/19/20\",\"6/20/20\",\"6/21/20\",\"6/22/20\",\"6/23/20\",\"6/24/20\",\"6/25/20\",\"6/26/20\",\"6/27/20\",\"6/28/20\",\"6/29/20\",\"6/30/20\",\"7/1/20\",\"7/2/20\",\"7/3/20\",\"7/4/20\",\"7/5/20\",\"7/6/20\",\"7/7/20\",\"7/8/20\",\"7/9/20\",\"7/10/20\",\"7/11/20\",\"7/12/20\",\"7/13/20\",\"7/14/20\",\"7/15/20\",\"7/16/20\",\"7/17/20\",\"7/18/20\",\"7/19/20\",\"7/20/20\",\"7/21/20\",\"7/22/20\",\"7/23/20\",\"7/24/20\",\"7/25/20\",\"7/26/20\",\"7/27/20\",\"7/28/20\",\"7/29/20\",\"7/30/20\",\"7/31/20\",\"8/1/20\",\"8/2/20\",\"8/3/20\",\"8/4/20\",\"8/5/20\",\"8/6/20\",\"8/7/20\",\"8/8/20\",\"8/9/20\",\"8/10/20\",\"8/11/20\",\"8/12/20\",\"8/13/20\",\"8/14/20\",\"8/15/20\",\"8/16/20\",\"8/17/20\",\"8/18/20\",\"8/19/20\",\"8/20/20\",\"8/21/20\",\"8/22/20\",\"8/23/20\",\"8/24/20\",\"8/25/20\",\"8/26/20\",\"8/27/20\",\"8/28/20\",\"8/29/20\",\"8/30/20\",\"8/31/20\",\"9/1/20\",\"9/2/20\",\"9/3/20\",\"9/4/20\",\"9/5/20\",\"9/6/20\",\"9/7/20\",\"9/8/20\",\"9/9/20\",\"9/10/20\",\"9/11/20\",\"9/12/20\",\"9/13/20\",\"9/14/20\",\"9/15/20\",\"9/16/20\",\"9/17/20\",\"9/18/20\",\"9/19/20\",\"9/20/20\",\"9/21/20\",\"9/22/20\",\"9/23/20\",\"9/24/20\",\"9/25/20\",\"9/26/20\",\"9/27/20\",\"9/28/20\",\"9/29/20\",\"9/30/20\",\"10/1/20\",\"10/2/20\",\"10/3/20\",\"10/4/20\",\"10/5/20\",\"10/6/20\",\"10/7/20\",\"10/8/20\",\"10/9/20\",\"10/10/20\",\"10/11/20\",\"10/12/20\",\"10/13/20\",\"10/14/20\",\"10/15/20\",\"10/16/20\",\"10/17/20\",\"10/18/20\",\"10/19/20\",\"10/20/20\",\"10/21/20\",\"10/22/20\",\"10/23/20\",\"10/24/20\",\"10/25/20\",\"10/26/20\",\"10/27/20\",\"10/28/20\",\"10/29/20\",\"10/30/20\",\"10/31/20\",\"11/1/20\",\"11/2/20\",\"11/3/20\",\"11/4/20\",\"11/5/20\",\"11/6/20\",\"11/7/20\",\"11/8/20\",\"11/9/20\",\"11/10/20\",\"11/11/20\",\"11/12/20\",\"11/13/20\",\"11/14/20\",\"11/15/20\",\"11/16/20\",\"11/17/20\",\"11/18/20\",\"11/19/20\",\"11/20/20\",\"11/21/20\",\"11/22/20\",\"11/23/20\",\"11/24/20\",\"11/25/20\",\"11/26/20\",\"11/27/20\",\"11/28/20\",\"11/29/20\",\"11/30/20\",\"12/1/20\",\"12/2/20\",\"12/3/20\",\"12/4/20\",\"12/5/20\",\"12/6/20\",\"12/7/20\",\"12/8/20\",\"12/9/20\",\"12/10/20\",\"12/11/20\",\"12/12/20\",\"12/13/20\",\"12/14/20\",\"12/15/20\",\"12/16/20\",\"12/17/20\",\"12/18/20\",\"12/19/20\",\"12/20/20\",\"12/21/20\",\"12/22/20\",\"12/23/20\",\"12/24/20\",\"12/25/20\",\"12/26/20\",\"12/27/20\",\"12/28/20\",\"12/29/20\",\"12/30/20\",\"12/31/20\",\"1/1/21\",\"1/2/21\",\"1/3/21\",\"1/4/21\",\"1/5/21\",\"1/6/21\",\"1/7/21\",\"1/8/21\",\"1/9/21\",\"1/10/21\",\"1/11/21\",\"1/12/21\",\"1/13/21\",\"1/14/21\",\"1/15/21\",\"1/16/21\",\"1/17/21\",\"1/18/21\",\"1/19/21\",\"1/20/21\",\"1/21/21\",\"1/22/21\",\"1/23/21\",\"1/24/21\",\"1/25/21\",\"1/26/21\",\"1/27/21\",\"1/28/21\",\"1/29/21\",\"1/30/21\",\"1/31/21\",\"2/1/21\",\"2/2/21\",\"2/3/21\",\"2/4/21\",\"2/5/21\",\"2/6/21\",\"2/7/21\",\"2/8/21\",\"2/9/21\",\"2/10/21\",\"2/11/21\",\"2/12/21\",\"2/13/21\",\"2/14/21\",\"2/15/21\",\"2/16/21\",\"2/17/21\",\"2/18/21\",\"2/19/21\",\"2/20/21\",\"2/21/21\",\"2/22/21\",\"2/23/21\",\"2/24/21\",\"2/25/21\",\"2/26/21\",\"2/27/21\",\"2/28/21\",\"3/1/21\",\"3/2/21\",\"3/3/21\",\"3/4/21\",\"3/5/21\",\"3/6/21\",\"3/7/21\",\"3/8/21\",\"3/9/21\",\"3/10/21\",\"3/11/21\",\"3/12/21\",\"3/13/21\",\"3/14/21\",\"3/15/21\",\"3/16/21\",\"3/17/21\",\"3/18/21\",\"3/19/21\",\"3/20/21\",\"3/21/21\",\"3/22/21\",\"3/23/21\",\"3/24/21\",\"3/25/21\",\"3/26/21\",\"3/27/21\",\"3/28/21\",\"3/29/21\",\"3/30/21\",\"3/31/21\",\"4/1/21\",\"4/2/21\",\"4/3/21\",\"4/4/21\",\"4/5/21\",\"4/6/21\",\"4/7/21\",\"4/8/21\",\"4/9/21\",\"4/10/21\",\"4/11/21\",\"4/12/21\",\"4/13/21\",\"4/14/21\",\"4/15/21\",\"4/16/21\",\"4/17/21\",\"4/18/21\",\"4/19/21\",\"4/20/21\",\"4/21/21\",\"4/22/21\",\"4/23/21\",\"4/24/21\",\"4/25/21\",\"4/26/21\",\"4/27/21\",\"4/28/21\",\"4/29/21\",\"4/30/21\",\"5/1/21\",\"5/2/21\",\"5/3/21\",\"5/4/21\",\"5/5/21\",\"5/6/21\",\"5/7/21\",\"5/8/21\",\"5/9/21\",\"5/10/21\",\"5/11/21\",\"5/12/21\",\"5/13/21\",\"5/14/21\",\"5/15/21\",\"5/16/21\",\"5/17/21\",\"5/18/21\",\"5/19/21\",\"5/20/21\",\"5/21/21\",\"5/22/21\",\"5/23/21\",\"5/24/21\",\"5/25/21\",\"5/26/21\",\"5/27/21\",\"5/28/21\",\"5/29/21\",\"5/30/21\",\"5/31/21\",\"6/1/21\",\"6/2/21\",\"6/3/21\",\"6/4/21\",\"6/5/21\",\"6/6/21\",\"6/7/21\",\"6/8/21\",\"6/9/21\",\"6/10/21\",\"6/11/21\",\"6/12/21\",\"6/13/21\",\"6/14/21\",\"6/15/21\",\"6/16/21\",\"6/17/21\",\"6/18/21\",\"6/19/21\",\"6/20/21\",\"6/21/21\",\"6/22/21\",\"6/23/21\",\"6/24/21\",\"6/25/21\",\"6/26/21\",\"6/27/21\",\"6/28/21\",\"6/29/21\",\"6/30/21\",\"7/1/21\",\"7/2/21\",\"7/3/21\",\"7/4/21\",\"7/5/21\",\"7/6/21\",\"7/7/21\",\"7/8/21\",\"7/9/21\",\"7/10/21\",\"7/11/21\",\"7/12/21\",\"7/13/21\",\"7/14/21\",\"7/15/21\",\"7/16/21\",\"7/17/21\",\"7/18/21\",\"7/19/21\",\"7/20/21\",\"7/21/21\",\"7/22/21\",\"7/23/21\",\"7/24/21\",\"7/25/21\",\"7/26/21\",\"7/27/21\",\"7/28/21\",\"7/29/21\",\"7/30/21\",\"7/31/21\",\"8/1/21\",\"8/2/21\",\"8/3/21\",\"8/4/21\",\"8/5/21\",\"8/6/21\",\"8/7/21\",\"8/8/21\",\"8/9/21\",\"8/10/21\",\"8/11/21\",\"8/12/21\",\"8/13/21\",\"8/14/21\",\"8/15/21\",\"8/16/21\",\"8/17/21\",\"8/18/21\",\"8/19/21\",\"8/20/21\",\"8/21/21\",\"8/22/21\",\"8/23/21\",\"8/24/21\",\"8/25/21\",\"8/26/21\",\"8/27/21\",\"8/28/21\",\"8/29/21\",\"8/30/21\",\"8/31/21\",\"9/1/21\",\"9/2/21\",\"9/3/21\",\"9/4/21\",\"9/5/21\",\"9/6/21\",\"9/7/21\",\"9/8/21\",\"9/9/21\",\"9/10/21\",\"9/11/21\",\"9/12/21\",\"9/13/21\",\"9/14/21\",\"9/15/21\",\"9/16/21\",\"9/17/21\",\"9/18/21\",\"9/19/21\",\"9/20/21\",\"9/21/21\",\"9/22/21\",\"9/23/21\",\"9/24/21\",\"9/25/21\",\"9/26/21\",\"9/27/21\",\"9/28/21\",\"9/29/21\",\"9/30/21\",\"10/1/21\",\"10/2/21\",\"10/3/21\",\"10/4/21\",\"10/5/21\",\"10/6/21\",\"10/7/21\",\"10/8/21\",\"10/9/21\",\"10/10/21\",\"10/11/21\",\"10/12/21\",\"10/13/21\",\"10/14/21\"],\"xaxis\":\"x\",\"y\":[98.0,286.0,493.0,684.0,809.0,2651.0,589.0,2068.0,1692.0,2111.0,4749.0,3100.0,4011.0,3745.0,3162.0,3594.0,2731.0,3031.0,2608.0,2042.0,418.0,15152.0,6528.0,2143.0,2183.0,2035.0,1882.0,500.0,560.0,629.0,1761.0,380.0,568.0,854.0,977.0,1359.0,1388.0,1894.0,2378.0,1979.0,2601.0,2302.0,2818.0,3916.0,4097.0,3938.0,4179.0,4825.0,7662.0,5802.0,14356.0,11099.0,11277.0,14785.0,16003.0,19556.0,27108.0,30876.0,32142.0,35107.0,42661.0,41085.0,51075.0,62933.0,64984.0,69760.0,56674.0,65335.0,76921.0,82985.0,83155.0,83812.0,59143.0,70836.0,73949.0,69634.0,83295.0,86985.0,85322.0,74385.0,119630.0,71020.0,83867.0,78222.0,95693.0,88042.0,77188.0,76765.0,75557.0,76004.0,81491.0,83998.0,84115.0,82351.0,71467.0,70249.0,75804.0,77198.0,83286.0,88478.0,79240.0,74739.0,77713.0,80222.0,90519.0,88852.0,90443.0,84409.0,75562.0,76458.0,84483.0,84894.0,96082.0,96027.0,94330.0,78268.0,88794.0,96955.0,102194.0,106660.0,106379.0,104589.0,94537.0,86424.0,93218.0,103600.0,118604.0,121030.0,136988.0,106611.0,95744.0,121693.0,114178.0,130869.0,130899.0,134073.0,112679.0,101468.0,124474.0,135447.0,137303.0,129039.0,135160.0,132648.0,118407.0,141710.0,144583.0,140756.0,180185.0,157577.0,128734.0,138381.0,167079.0,172879.0,178340.0,191843.0,178718.0,164959.0,153590.0,176397.0,217381.0,209769.0,202643.0,196400.0,184062.0,163521.0,209996.0,213722.0,225002.0,232713.0,217673.0,193859.0,190306.0,221225.0,231226.0,251591.0,242082.0,238004.0,214211.0,205490.0,234681.0,279708.0,283183.0,281378.0,255267.0,214568.0,226504.0,249426.0,288821.0,280695.0,290234.0,250691.0,231817.0,206148.0,254420.0,277647.0,283310.0,283343.0,259589.0,227044.0,224162.0,262029.0,273341.0,289327.0,303616.0,250193.0,215193.0,206731.0,256148.0,276621.0,273184.0,261173.0,265500.0,206482.0,223587.0,244562.0,282580.0,284533.0,283306.0,265291.0,221425.0,260176.0,265907.0,283181.0,281583.0,314307.0,270320.0,230286.0,218129.0,240462.0,285404.0,299810.0,321673.0,287261.0,242846.0,262604.0,285319.0,304510.0,314799.0,325963.0,292606.0,252625.0,274745.0,284742.0,276078.0,353523.0,331066.0,288933.0,251901.0,254366.0,282930.0,326065.0,318628.0,298164.0,333055.0,261210.0,299529.0,326281.0,351148.0,361763.0,361168.0,357494.0,287853.0,291412.0,318688.0,381676.0,407293.0,411789.0,374329.0,316571.0,386557.0,388901.0,444555.0,472377.0,497565.0,457215.0,360856.0,485799.0,470341.0,511938.0,550219.0,571881.0,477395.0,462786.0,561640.0,554568.0,511214.0,597098.0,644909.0,600701.0,483696.0,500246.0,558938.0,650155.0,647516.0,652813.0,598190.0,474573.0,532112.0,611068.0,627366.0,653841.0,671733.0,589174.0,487442.0,523718.0,592356.0,637884.0,586304.0,683889.0,588135.0,488744.0,504738.0,618025.0,653052.0,695288.0,685929.0,646831.0,536337.0,516676.0,649737.0,669464.0,1500851.0,706045.0,637035.0,529307.0,532969.0,648762.0,727568.0,738264.0,717246.0,620282.0,531051.0,541366.0,653772.0,690388.0,677861.0,478656.0,507065.0,432403.0,489094.0,665757.0,749906.0,768719.0,566109.0,585422.0,521876.0,551019.0,736407.0,784576.0,891660.0,811102.0,758424.0,588076.0,616875.0,697263.0,747697.0,758009.0,770420.0,645276.0,527671.0,512040.0,597458.0,694925.0,654794.0,657385.0,571621.0,451968.0,488227.0,553240.0,599688.0,611946.0,590649.0,517631.0,384573.0,441296.0,456960.0,523420.0,466873.0,532462.0,378507.0,399919.0,311372.0,426773.0,436341.0,441781.0,428870.0,374612.0,295182.0,283317.0,347604.0,395116.0,405032.0,411363.0,371974.0,315296.0,287172.0,388544.0,445247.0,447973.0,443314.0,390390.0,303993.0,303095.0,310209.0,440896.0,453537.0,447522.0,411243.0,369323.0,298352.0,413074.0,467249.0,477080.0,489454.0,454636.0,360818.0,347624.0,473279.0,539547.0,553579.0,562020.0,499976.0,424400.0,415347.0,514206.0,633659.0,651861.0,641434.0,585773.0,470506.0,457295.0,568340.0,683371.0,712379.0,634317.0,530537.0,554011.0,486591.0,604539.0,684652.0,839933.0,749797.0,666680.0,690431.0,614420.0,779525.0,817260.0,816439.0,857343.0,786367.0,685721.0,692772.0,853881.0,890990.0,898594.0,904304.0,821305.0,723223.0,681872.0,844381.0,905955.0,898146.0,879904.0,797666.0,674672.0,679785.0,806970.0,841996.0,870931.0,832591.0,786505.0,642125.0,619245.0,738669.0,760555.0,725484.0,717536.0,628616.0,549079.0,539298.0,622333.0,672029.0,279929.0,626084.0,579009.0,476935.0,452887.0,532161.0,569259.0,554412.0,500254.0,481869.0,391813.0,378607.0,463150.0,485829.0,489416.0,419365.0,398879.0,323153.0,320636.0,366831.0,419769.0,449723.0,420823.0,372702.0,303514.0,307551.0,371205.0,398656.0,392501.0,406697.0,349368.0,302311.0,293796.0,371637.0,437613.0,405000.0,421858.0,365930.0,311386.0,328368.0,379552.0,396908.0,440988.0,441303.0,376606.0,328443.0,369364.0,453081.0,463754.0,480418.0,507650.0,426919.0,370163.0,436723.0,519830.0,541047.0,572197.0,598665.0,473812.0,430282.0,495521.0,531197.0,558582.0,564418.0,690822.0,471957.0,443800.0,540782.0,609928.0,643988.0,653018.0,731110.0,509700.0,479847.0,578483.0,636873.0,675367.0,688652.0,821197.0,549851.0,440076.0,656035.0,648233.0,728034.0,710467.0,805497.0,533214.0,463667.0,679141.0,682104.0,728124.0,715178.0,789936.0,539275.0,446092.0,705064.0,686389.0,730475.0,735555.0,744810.0,546567.0,446400.0,687135.0,618620.0,726914.0,677804.0,717144.0,488842.0,427101.0,437602.0,736951.0,630741.0,637123.0,633344.0,451479.0,364195.0,609830.0,549896.0,568381.0,574819.0,593403.0,533052.0,357495.0,540781.0,468383.0,537134.0,510768.0,547796.0,363496.0,330991.0,488006.0,447091.0,502260.0,485040.0,544435.0,341656.0,292048.0,458454.0,417394.0,513188.0,431896.0,478661.0,329269.0,300669.0,393375.0,432550.0,462666.0,423418.0],\"yaxis\":\"y\"}],                        {\"legend\":{\"tracegroupgap\":0},\"template\":{\"data\":{\"bar\":[{\"error_x\":{\"color\":\"#2a3f5f\"},\"error_y\":{\"color\":\"#2a3f5f\"},\"marker\":{\"line\":{\"color\":\"#E5ECF6\",\"width\":0.5},\"pattern\":{\"fillmode\":\"overlay\",\"size\":10,\"solidity\":0.2}},\"type\":\"bar\"}],\"barpolar\":[{\"marker\":{\"line\":{\"color\":\"#E5ECF6\",\"width\":0.5},\"pattern\":{\"fillmode\":\"overlay\",\"size\":10,\"solidity\":0.2}},\"type\":\"barpolar\"}],\"carpet\":[{\"aaxis\":{\"endlinecolor\":\"#2a3f5f\",\"gridcolor\":\"white\",\"linecolor\":\"white\",\"minorgridcolor\":\"white\",\"startlinecolor\":\"#2a3f5f\"},\"baxis\":{\"endlinecolor\":\"#2a3f5f\",\"gridcolor\":\"white\",\"linecolor\":\"white\",\"minorgridcolor\":\"white\",\"startlinecolor\":\"#2a3f5f\"},\"type\":\"carpet\"}],\"choropleth\":[{\"colorbar\":{\"outlinewidth\":0,\"ticks\":\"\"},\"type\":\"choropleth\"}],\"contour\":[{\"colorbar\":{\"outlinewidth\":0,\"ticks\":\"\"},\"colorscale\":[[0.0,\"#0d0887\"],[0.1111111111111111,\"#46039f\"],[0.2222222222222222,\"#7201a8\"],[0.3333333333333333,\"#9c179e\"],[0.4444444444444444,\"#bd3786\"],[0.5555555555555556,\"#d8576b\"],[0.6666666666666666,\"#ed7953\"],[0.7777777777777778,\"#fb9f3a\"],[0.8888888888888888,\"#fdca26\"],[1.0,\"#f0f921\"]],\"type\":\"contour\"}],\"contourcarpet\":[{\"colorbar\":{\"outlinewidth\":0,\"ticks\":\"\"},\"type\":\"contourcarpet\"}],\"heatmap\":[{\"colorbar\":{\"outlinewidth\":0,\"ticks\":\"\"},\"colorscale\":[[0.0,\"#0d0887\"],[0.1111111111111111,\"#46039f\"],[0.2222222222222222,\"#7201a8\"],[0.3333333333333333,\"#9c179e\"],[0.4444444444444444,\"#bd3786\"],[0.5555555555555556,\"#d8576b\"],[0.6666666666666666,\"#ed7953\"],[0.7777777777777778,\"#fb9f3a\"],[0.8888888888888888,\"#fdca26\"],[1.0,\"#f0f921\"]],\"type\":\"heatmap\"}],\"heatmapgl\":[{\"colorbar\":{\"outlinewidth\":0,\"ticks\":\"\"},\"colorscale\":[[0.0,\"#0d0887\"],[0.1111111111111111,\"#46039f\"],[0.2222222222222222,\"#7201a8\"],[0.3333333333333333,\"#9c179e\"],[0.4444444444444444,\"#bd3786\"],[0.5555555555555556,\"#d8576b\"],[0.6666666666666666,\"#ed7953\"],[0.7777777777777778,\"#fb9f3a\"],[0.8888888888888888,\"#fdca26\"],[1.0,\"#f0f921\"]],\"type\":\"heatmapgl\"}],\"histogram\":[{\"marker\":{\"pattern\":{\"fillmode\":\"overlay\",\"size\":10,\"solidity\":0.2}},\"type\":\"histogram\"}],\"histogram2d\":[{\"colorbar\":{\"outlinewidth\":0,\"ticks\":\"\"},\"colorscale\":[[0.0,\"#0d0887\"],[0.1111111111111111,\"#46039f\"],[0.2222222222222222,\"#7201a8\"],[0.3333333333333333,\"#9c179e\"],[0.4444444444444444,\"#bd3786\"],[0.5555555555555556,\"#d8576b\"],[0.6666666666666666,\"#ed7953\"],[0.7777777777777778,\"#fb9f3a\"],[0.8888888888888888,\"#fdca26\"],[1.0,\"#f0f921\"]],\"type\":\"histogram2d\"}],\"histogram2dcontour\":[{\"colorbar\":{\"outlinewidth\":0,\"ticks\":\"\"},\"colorscale\":[[0.0,\"#0d0887\"],[0.1111111111111111,\"#46039f\"],[0.2222222222222222,\"#7201a8\"],[0.3333333333333333,\"#9c179e\"],[0.4444444444444444,\"#bd3786\"],[0.5555555555555556,\"#d8576b\"],[0.6666666666666666,\"#ed7953\"],[0.7777777777777778,\"#fb9f3a\"],[0.8888888888888888,\"#fdca26\"],[1.0,\"#f0f921\"]],\"type\":\"histogram2dcontour\"}],\"mesh3d\":[{\"colorbar\":{\"outlinewidth\":0,\"ticks\":\"\"},\"type\":\"mesh3d\"}],\"parcoords\":[{\"line\":{\"colorbar\":{\"outlinewidth\":0,\"ticks\":\"\"}},\"type\":\"parcoords\"}],\"pie\":[{\"automargin\":true,\"type\":\"pie\"}],\"scatter\":[{\"marker\":{\"colorbar\":{\"outlinewidth\":0,\"ticks\":\"\"}},\"type\":\"scatter\"}],\"scatter3d\":[{\"line\":{\"colorbar\":{\"outlinewidth\":0,\"ticks\":\"\"}},\"marker\":{\"colorbar\":{\"outlinewidth\":0,\"ticks\":\"\"}},\"type\":\"scatter3d\"}],\"scattercarpet\":[{\"marker\":{\"colorbar\":{\"outlinewidth\":0,\"ticks\":\"\"}},\"type\":\"scattercarpet\"}],\"scattergeo\":[{\"marker\":{\"colorbar\":{\"outlinewidth\":0,\"ticks\":\"\"}},\"type\":\"scattergeo\"}],\"scattergl\":[{\"marker\":{\"colorbar\":{\"outlinewidth\":0,\"ticks\":\"\"}},\"type\":\"scattergl\"}],\"scattermapbox\":[{\"marker\":{\"colorbar\":{\"outlinewidth\":0,\"ticks\":\"\"}},\"type\":\"scattermapbox\"}],\"scatterpolar\":[{\"marker\":{\"colorbar\":{\"outlinewidth\":0,\"ticks\":\"\"}},\"type\":\"scatterpolar\"}],\"scatterpolargl\":[{\"marker\":{\"colorbar\":{\"outlinewidth\":0,\"ticks\":\"\"}},\"type\":\"scatterpolargl\"}],\"scatterternary\":[{\"marker\":{\"colorbar\":{\"outlinewidth\":0,\"ticks\":\"\"}},\"type\":\"scatterternary\"}],\"surface\":[{\"colorbar\":{\"outlinewidth\":0,\"ticks\":\"\"},\"colorscale\":[[0.0,\"#0d0887\"],[0.1111111111111111,\"#46039f\"],[0.2222222222222222,\"#7201a8\"],[0.3333333333333333,\"#9c179e\"],[0.4444444444444444,\"#bd3786\"],[0.5555555555555556,\"#d8576b\"],[0.6666666666666666,\"#ed7953\"],[0.7777777777777778,\"#fb9f3a\"],[0.8888888888888888,\"#fdca26\"],[1.0,\"#f0f921\"]],\"type\":\"surface\"}],\"table\":[{\"cells\":{\"fill\":{\"color\":\"#EBF0F8\"},\"line\":{\"color\":\"white\"}},\"header\":{\"fill\":{\"color\":\"#C8D4E3\"},\"line\":{\"color\":\"white\"}},\"type\":\"table\"}]},\"layout\":{\"annotationdefaults\":{\"arrowcolor\":\"#2a3f5f\",\"arrowhead\":0,\"arrowwidth\":1},\"autotypenumbers\":\"strict\",\"coloraxis\":{\"colorbar\":{\"outlinewidth\":0,\"ticks\":\"\"}},\"colorscale\":{\"diverging\":[[0,\"#8e0152\"],[0.1,\"#c51b7d\"],[0.2,\"#de77ae\"],[0.3,\"#f1b6da\"],[0.4,\"#fde0ef\"],[0.5,\"#f7f7f7\"],[0.6,\"#e6f5d0\"],[0.7,\"#b8e186\"],[0.8,\"#7fbc41\"],[0.9,\"#4d9221\"],[1,\"#276419\"]],\"sequential\":[[0.0,\"#0d0887\"],[0.1111111111111111,\"#46039f\"],[0.2222222222222222,\"#7201a8\"],[0.3333333333333333,\"#9c179e\"],[0.4444444444444444,\"#bd3786\"],[0.5555555555555556,\"#d8576b\"],[0.6666666666666666,\"#ed7953\"],[0.7777777777777778,\"#fb9f3a\"],[0.8888888888888888,\"#fdca26\"],[1.0,\"#f0f921\"]],\"sequentialminus\":[[0.0,\"#0d0887\"],[0.1111111111111111,\"#46039f\"],[0.2222222222222222,\"#7201a8\"],[0.3333333333333333,\"#9c179e\"],[0.4444444444444444,\"#bd3786\"],[0.5555555555555556,\"#d8576b\"],[0.6666666666666666,\"#ed7953\"],[0.7777777777777778,\"#fb9f3a\"],[0.8888888888888888,\"#fdca26\"],[1.0,\"#f0f921\"]]},\"colorway\":[\"#636efa\",\"#EF553B\",\"#00cc96\",\"#ab63fa\",\"#FFA15A\",\"#19d3f3\",\"#FF6692\",\"#B6E880\",\"#FF97FF\",\"#FECB52\"],\"font\":{\"color\":\"#2a3f5f\"},\"geo\":{\"bgcolor\":\"white\",\"lakecolor\":\"white\",\"landcolor\":\"#E5ECF6\",\"showlakes\":true,\"showland\":true,\"subunitcolor\":\"white\"},\"hoverlabel\":{\"align\":\"left\"},\"hovermode\":\"closest\",\"mapbox\":{\"style\":\"light\"},\"paper_bgcolor\":\"white\",\"plot_bgcolor\":\"#E5ECF6\",\"polar\":{\"angularaxis\":{\"gridcolor\":\"white\",\"linecolor\":\"white\",\"ticks\":\"\"},\"bgcolor\":\"#E5ECF6\",\"radialaxis\":{\"gridcolor\":\"white\",\"linecolor\":\"white\",\"ticks\":\"\"}},\"scene\":{\"xaxis\":{\"backgroundcolor\":\"#E5ECF6\",\"gridcolor\":\"white\",\"gridwidth\":2,\"linecolor\":\"white\",\"showbackground\":true,\"ticks\":\"\",\"zerolinecolor\":\"white\"},\"yaxis\":{\"backgroundcolor\":\"#E5ECF6\",\"gridcolor\":\"white\",\"gridwidth\":2,\"linecolor\":\"white\",\"showbackground\":true,\"ticks\":\"\",\"zerolinecolor\":\"white\"},\"zaxis\":{\"backgroundcolor\":\"#E5ECF6\",\"gridcolor\":\"white\",\"gridwidth\":2,\"linecolor\":\"white\",\"showbackground\":true,\"ticks\":\"\",\"zerolinecolor\":\"white\"}},\"shapedefaults\":{\"line\":{\"color\":\"#2a3f5f\"}},\"ternary\":{\"aaxis\":{\"gridcolor\":\"white\",\"linecolor\":\"white\",\"ticks\":\"\"},\"baxis\":{\"gridcolor\":\"white\",\"linecolor\":\"white\",\"ticks\":\"\"},\"bgcolor\":\"#E5ECF6\",\"caxis\":{\"gridcolor\":\"white\",\"linecolor\":\"white\",\"ticks\":\"\"}},\"title\":{\"x\":0.05},\"xaxis\":{\"automargin\":true,\"gridcolor\":\"white\",\"linecolor\":\"white\",\"ticks\":\"\",\"title\":{\"standoff\":15},\"zerolinecolor\":\"white\",\"zerolinewidth\":2},\"yaxis\":{\"automargin\":true,\"gridcolor\":\"white\",\"linecolor\":\"white\",\"ticks\":\"\",\"title\":{\"standoff\":15},\"zerolinecolor\":\"white\",\"zerolinewidth\":2}}},\"title\":{\"text\":\"Daily Covid 19 Cases in World\"},\"xaxis\":{\"anchor\":\"y\",\"domain\":[0.0,1.0],\"title\":{\"text\":\"Date\"}},\"yaxis\":{\"anchor\":\"x\",\"domain\":[0.0,1.0],\"title\":{\"text\":\"Cases\"}}},                        {\"responsive\": true}                    ).then(function(){\n",
       "                            \n",
       "var gd = document.getElementById('b5114e3e-b4d1-43d9-b01d-ecda4b43dd1b');\n",
       "var x = new MutationObserver(function (mutations, observer) {{\n",
       "        var display = window.getComputedStyle(gd).display;\n",
       "        if (!display || display === 'none') {{\n",
       "            console.log([gd, 'removed!']);\n",
       "            Plotly.purge(gd);\n",
       "            observer.disconnect();\n",
       "        }}\n",
       "}});\n",
       "\n",
       "// Listen for the removal of the full notebook cells\n",
       "var notebookContainer = gd.closest('#notebook-container');\n",
       "if (notebookContainer) {{\n",
       "    x.observe(notebookContainer, {childList: true});\n",
       "}}\n",
       "\n",
       "// Listen for the clearing of the current output cell\n",
       "var outputEl = gd.closest('.output');\n",
       "if (outputEl) {{\n",
       "    x.observe(outputEl, {childList: true});\n",
       "}}\n",
       "\n",
       "                        })                };                });            </script>        </div>"
      ]
     },
     "metadata": {},
     "output_type": "display_data"
    }
   ],
   "source": [
    "fig = px.line(df, y='Cases',title='Daily Covid 19 Cases in World')\n",
    "fig.show();"
   ]
  },
  {
   "cell_type": "code",
   "execution_count": 17,
   "id": "32076341",
   "metadata": {
    "execution": {
     "iopub.execute_input": "2021-10-25T04:41:12.839742Z",
     "iopub.status.busy": "2021-10-25T04:41:12.837272Z",
     "iopub.status.idle": "2021-10-25T04:41:13.064117Z",
     "shell.execute_reply": "2021-10-25T04:41:13.064560Z",
     "shell.execute_reply.started": "2021-10-25T04:33:42.714901Z"
    },
    "papermill": {
     "duration": 0.32171,
     "end_time": "2021-10-25T04:41:13.064737",
     "exception": false,
     "start_time": "2021-10-25T04:41:12.743027",
     "status": "completed"
    },
    "tags": []
   },
   "outputs": [
    {
     "data": {
      "image/png": "[encoded data removed]",
      "text/plain": [
       "<Figure size 1800x360 with 1 Axes>"
      ]
     },
     "metadata": {
      "needs_background": "light"
     },
     "output_type": "display_data"
    }
   ],
   "source": [
    "# Daily covid19 Death Cases\n",
    "df.Deaths.plot(title='Daily Covid19 Deaths in World', marker=\".\",label=\"Daily Deaths\")\n",
    "df.Deaths.rolling(window=5).mean().plot(figsize=(25,5),label='MovingAverage(5)')\n",
    "plt.ylabel(\"Deaths\",fontsize=15)\n",
    "plt.xlabel(\"Date\",fontsize=15)\n",
    "plt.xticks(fontstyle='oblique',fontsize=10)\n",
    "plt.legend()\n",
    "plt.show();"
   ]
  },
  {
   "cell_type": "code",
   "execution_count": 18,
   "id": "0e796f92",
   "metadata": {
    "execution": {
     "iopub.execute_input": "2021-10-25T04:41:13.206845Z",
     "iopub.status.busy": "2021-10-25T04:41:13.204905Z",
     "iopub.status.idle": "2021-10-25T04:41:13.255990Z",
     "shell.execute_reply": "2021-10-25T04:41:13.256467Z",
     "shell.execute_reply.started": "2021-10-25T04:33:42.975772Z"
    },
    "papermill": {
     "duration": 0.127342,
     "end_time": "2021-10-25T04:41:13.256611",
     "exception": false,
     "start_time": "2021-10-25T04:41:13.129269",
     "status": "completed"
    },
    "tags": []
   },
   "outputs": [
    {
     "data": {
      "text/html": [
       "<div>                            <div id=\"1439e782-22ee-4e44-9014-f28e345edcb7\" class=\"plotly-graph-div\" style=\"height:525px; width:100%;\"></div>            <script type=\"text/javascript\">                require([\"plotly\"], function(Plotly) {                    window.PLOTLYENV=window.PLOTLYENV || {};                                    if (document.getElementById(\"1439e782-22ee-4e44-9014-f28e345edcb7\")) {                    Plotly.newPlot(                        \"1439e782-22ee-4e44-9014-f28e345edcb7\",                        [{\"hovertemplate\":\"Date=%{x}<br>Deaths=%{y}<extra></extra>\",\"legendgroup\":\"\",\"line\":{\"color\":\"#636efa\",\"dash\":\"solid\"},\"marker\":{\"symbol\":\"circle\"},\"mode\":\"lines\",\"name\":\"\",\"orientation\":\"v\",\"showlegend\":false,\"type\":\"scatter\",\"x\":[\"1/23/20\",\"1/24/20\",\"1/25/20\",\"1/26/20\",\"1/27/20\",\"1/28/20\",\"1/29/20\",\"1/30/20\",\"1/31/20\",\"2/1/20\",\"2/2/20\",\"2/3/20\",\"2/4/20\",\"2/5/20\",\"2/6/20\",\"2/7/20\",\"2/8/20\",\"2/9/20\",\"2/10/20\",\"2/11/20\",\"2/12/20\",\"2/13/20\",\"2/14/20\",\"2/15/20\",\"2/16/20\",\"2/17/20\",\"2/18/20\",\"2/19/20\",\"2/20/20\",\"2/21/20\",\"2/22/20\",\"2/23/20\",\"2/24/20\",\"2/25/20\",\"2/26/20\",\"2/27/20\",\"2/28/20\",\"2/29/20\",\"3/1/20\",\"3/2/20\",\"3/3/20\",\"3/4/20\",\"3/5/20\",\"3/6/20\",\"3/7/20\",\"3/8/20\",\"3/9/20\",\"3/10/20\",\"3/11/20\",\"3/12/20\",\"3/13/20\",\"3/14/20\",\"3/15/20\",\"3/16/20\",\"3/17/20\",\"3/18/20\",\"3/19/20\",\"3/20/20\",\"3/21/20\",\"3/22/20\",\"3/23/20\",\"3/24/20\",\"3/25/20\",\"3/26/20\",\"3/27/20\",\"3/28/20\",\"3/29/20\",\"3/30/20\",\"3/31/20\",\"4/1/20\",\"4/2/20\",\"4/3/20\",\"4/4/20\",\"4/5/20\",\"4/6/20\",\"4/7/20\",\"4/8/20\",\"4/9/20\",\"4/10/20\",\"4/11/20\",\"4/12/20\",\"4/13/20\",\"4/14/20\",\"4/15/20\",\"4/16/20\",\"4/17/20\",\"4/18/20\",\"4/19/20\",\"4/20/20\",\"4/21/20\",\"4/22/20\",\"4/23/20\",\"4/24/20\",\"4/25/20\",\"4/26/20\",\"4/27/20\",\"4/28/20\",\"4/29/20\",\"4/30/20\",\"5/1/20\",\"5/2/20\",\"5/3/20\",\"5/4/20\",\"5/5/20\",\"5/6/20\",\"5/7/20\",\"5/8/20\",\"5/9/20\",\"5/10/20\",\"5/11/20\",\"5/12/20\",\"5/13/20\",\"5/14/20\",\"5/15/20\",\"5/16/20\",\"5/17/20\",\"5/18/20\",\"5/19/20\",\"5/20/20\",\"5/21/20\",\"5/22/20\",\"5/23/20\",\"5/24/20\",\"5/25/20\",\"5/26/20\",\"5/27/20\",\"5/28/20\",\"5/29/20\",\"5/30/20\",\"5/31/20\",\"6/1/20\",\"6/2/20\",\"6/3/20\",\"6/4/20\",\"6/5/20\",\"6/6/20\",\"6/7/20\",\"6/8/20\",\"6/9/20\",\"6/10/20\",\"6/11/20\",\"6/12/20\",\"6/13/20\",\"6/14/20\",\"6/15/20\",\"6/16/20\",\"6/17/20\",\"6/18/20\",\"6/19/20\",\"6/20/20\",\"6/21/20\",\"6/22/20\",\"6/23/20\",\"6/24/20\",\"6/25/20\",\"6/26/20\",\"6/27/20\",\"6/28/20\",\"6/29/20\",\"6/30/20\",\"7/1/20\",\"7/2/20\",\"7/3/20\",\"7/4/20\",\"7/5/20\",\"7/6/20\",\"7/7/20\",\"7/8/20\",\"7/9/20\",\"7/10/20\",\"7/11/20\",\"7/12/20\",\"7/13/20\",\"7/14/20\",\"7/15/20\",\"7/16/20\",\"7/17/20\",\"7/18/20\",\"7/19/20\",\"7/20/20\",\"7/21/20\",\"7/22/20\",\"7/23/20\",\"7/24/20\",\"7/25/20\",\"7/26/20\",\"7/27/20\",\"7/28/20\",\"7/29/20\",\"7/30/20\",\"7/31/20\",\"8/1/20\",\"8/2/20\",\"8/3/20\",\"8/4/20\",\"8/5/20\",\"8/6/20\",\"8/7/20\",\"8/8/20\",\"8/9/20\",\"8/10/20\",\"8/11/20\",\"8/12/20\",\"8/13/20\",\"8/14/20\",\"8/15/20\",\"8/16/20\",\"8/17/20\",\"8/18/20\",\"8/19/20\",\"8/20/20\",\"8/21/20\",\"8/22/20\",\"8/23/20\",\"8/24/20\",\"8/25/20\",\"8/26/20\",\"8/27/20\",\"8/28/20\",\"8/29/20\",\"8/30/20\",\"8/31/20\",\"9/1/20\",\"9/2/20\",\"9/3/20\",\"9/4/20\",\"9/5/20\",\"9/6/20\",\"9/7/20\",\"9/8/20\",\"9/9/20\",\"9/10/20\",\"9/11/20\",\"9/12/20\",\"9/13/20\",\"9/14/20\",\"9/15/20\",\"9/16/20\",\"9/17/20\",\"9/18/20\",\"9/19/20\",\"9/20/20\",\"9/21/20\",\"9/22/20\",\"9/23/20\",\"9/24/20\",\"9/25/20\",\"9/26/20\",\"9/27/20\",\"9/28/20\",\"9/29/20\",\"9/30/20\",\"10/1/20\",\"10/2/20\",\"10/3/20\",\"10/4/20\",\"10/5/20\",\"10/6/20\",\"10/7/20\",\"10/8/20\",\"10/9/20\",\"10/10/20\",\"10/11/20\",\"10/12/20\",\"10/13/20\",\"10/14/20\",\"10/15/20\",\"10/16/20\",\"10/17/20\",\"10/18/20\",\"10/19/20\",\"10/20/20\",\"10/21/20\",\"10/22/20\",\"10/23/20\",\"10/24/20\",\"10/25/20\",\"10/26/20\",\"10/27/20\",\"10/28/20\",\"10/29/20\",\"10/30/20\",\"10/31/20\",\"11/1/20\",\"11/2/20\",\"11/3/20\",\"11/4/20\",\"11/5/20\",\"11/6/20\",\"11/7/20\",\"11/8/20\",\"11/9/20\",\"11/10/20\",\"11/11/20\",\"11/12/20\",\"11/13/20\",\"11/14/20\",\"11/15/20\",\"11/16/20\",\"11/17/20\",\"11/18/20\",\"11/19/20\",\"11/20/20\",\"11/21/20\",\"11/22/20\",\"11/23/20\",\"11/24/20\",\"11/25/20\",\"11/26/20\",\"11/27/20\",\"11/28/20\",\"11/29/20\",\"11/30/20\",\"12/1/20\",\"12/2/20\",\"12/3/20\",\"12/4/20\",\"12/5/20\",\"12/6/20\",\"12/7/20\",\"12/8/20\",\"12/9/20\",\"12/10/20\",\"12/11/20\",\"12/12/20\",\"12/13/20\",\"12/14/20\",\"12/15/20\",\"12/16/20\",\"12/17/20\",\"12/18/20\",\"12/19/20\",\"12/20/20\",\"12/21/20\",\"12/22/20\",\"12/23/20\",\"12/24/20\",\"12/25/20\",\"12/26/20\",\"12/27/20\",\"12/28/20\",\"12/29/20\",\"12/30/20\",\"12/31/20\",\"1/1/21\",\"1/2/21\",\"1/3/21\",\"1/4/21\",\"1/5/21\",\"1/6/21\",\"1/7/21\",\"1/8/21\",\"1/9/21\",\"1/10/21\",\"1/11/21\",\"1/12/21\",\"1/13/21\",\"1/14/21\",\"1/15/21\",\"1/16/21\",\"1/17/21\",\"1/18/21\",\"1/19/21\",\"1/20/21\",\"1/21/21\",\"1/22/21\",\"1/23/21\",\"1/24/21\",\"1/25/21\",\"1/26/21\",\"1/27/21\",\"1/28/21\",\"1/29/21\",\"1/30/21\",\"1/31/21\",\"2/1/21\",\"2/2/21\",\"2/3/21\",\"2/4/21\",\"2/5/21\",\"2/6/21\",\"2/7/21\",\"2/8/21\",\"2/9/21\",\"2/10/21\",\"2/11/21\",\"2/12/21\",\"2/13/21\",\"2/14/21\",\"2/15/21\",\"2/16/21\",\"2/17/21\",\"2/18/21\",\"2/19/21\",\"2/20/21\",\"2/21/21\",\"2/22/21\",\"2/23/21\",\"2/24/21\",\"2/25/21\",\"2/26/21\",\"2/27/21\",\"2/28/21\",\"3/1/21\",\"3/2/21\",\"3/3/21\",\"3/4/21\",\"3/5/21\",\"3/6/21\",\"3/7/21\",\"3/8/21\",\"3/9/21\",\"3/10/21\",\"3/11/21\",\"3/12/21\",\"3/13/21\",\"3/14/21\",\"3/15/21\",\"3/16/21\",\"3/17/21\",\"3/18/21\",\"3/19/21\",\"3/20/21\",\"3/21/21\",\"3/22/21\",\"3/23/21\",\"3/24/21\",\"3/25/21\",\"3/26/21\",\"3/27/21\",\"3/28/21\",\"3/29/21\",\"3/30/21\",\"3/31/21\",\"4/1/21\",\"4/2/21\",\"4/3/21\",\"4/4/21\",\"4/5/21\",\"4/6/21\",\"4/7/21\",\"4/8/21\",\"4/9/21\",\"4/10/21\",\"4/11/21\",\"4/12/21\",\"4/13/21\",\"4/14/21\",\"4/15/21\",\"4/16/21\",\"4/17/21\",\"4/18/21\",\"4/19/21\",\"4/20/21\",\"4/21/21\",\"4/22/21\",\"4/23/21\",\"4/24/21\",\"4/25/21\",\"4/26/21\",\"4/27/21\",\"4/28/21\",\"4/29/21\",\"4/30/21\",\"5/1/21\",\"5/2/21\",\"5/3/21\",\"5/4/21\",\"5/5/21\",\"5/6/21\",\"5/7/21\",\"5/8/21\",\"5/9/21\",\"5/10/21\",\"5/11/21\",\"5/12/21\",\"5/13/21\",\"5/14/21\",\"5/15/21\",\"5/16/21\",\"5/17/21\",\"5/18/21\",\"5/19/21\",\"5/20/21\",\"5/21/21\",\"5/22/21\",\"5/23/21\",\"5/24/21\",\"5/25/21\",\"5/26/21\",\"5/27/21\",\"5/28/21\",\"5/29/21\",\"5/30/21\",\"5/31/21\",\"6/1/21\",\"6/2/21\",\"6/3/21\",\"6/4/21\",\"6/5/21\",\"6/6/21\",\"6/7/21\",\"6/8/21\",\"6/9/21\",\"6/10/21\",\"6/11/21\",\"6/12/21\",\"6/13/21\",\"6/14/21\",\"6/15/21\",\"6/16/21\",\"6/17/21\",\"6/18/21\",\"6/19/21\",\"6/20/21\",\"6/21/21\",\"6/22/21\",\"6/23/21\",\"6/24/21\",\"6/25/21\",\"6/26/21\",\"6/27/21\",\"6/28/21\",\"6/29/21\",\"6/30/21\",\"7/1/21\",\"7/2/21\",\"7/3/21\",\"7/4/21\",\"7/5/21\",\"7/6/21\",\"7/7/21\",\"7/8/21\",\"7/9/21\",\"7/10/21\",\"7/11/21\",\"7/12/21\",\"7/13/21\",\"7/14/21\",\"7/15/21\",\"7/16/21\",\"7/17/21\",\"7/18/21\",\"7/19/21\",\"7/20/21\",\"7/21/21\",\"7/22/21\",\"7/23/21\",\"7/24/21\",\"7/25/21\",\"7/26/21\",\"7/27/21\",\"7/28/21\",\"7/29/21\",\"7/30/21\",\"7/31/21\",\"8/1/21\",\"8/2/21\",\"8/3/21\",\"8/4/21\",\"8/5/21\",\"8/6/21\",\"8/7/21\",\"8/8/21\",\"8/9/21\",\"8/10/21\",\"8/11/21\",\"8/12/21\",\"8/13/21\",\"8/14/21\",\"8/15/21\",\"8/16/21\",\"8/17/21\",\"8/18/21\",\"8/19/21\",\"8/20/21\",\"8/21/21\",\"8/22/21\",\"8/23/21\",\"8/24/21\",\"8/25/21\",\"8/26/21\",\"8/27/21\",\"8/28/21\",\"8/29/21\",\"8/30/21\",\"8/31/21\",\"9/1/21\",\"9/2/21\",\"9/3/21\",\"9/4/21\",\"9/5/21\",\"9/6/21\",\"9/7/21\",\"9/8/21\",\"9/9/21\",\"9/10/21\",\"9/11/21\",\"9/12/21\",\"9/13/21\",\"9/14/21\",\"9/15/21\",\"9/16/21\",\"9/17/21\",\"9/18/21\",\"9/19/21\",\"9/20/21\",\"9/21/21\",\"9/22/21\",\"9/23/21\",\"9/24/21\",\"9/25/21\",\"9/26/21\",\"9/27/21\",\"9/28/21\",\"9/29/21\",\"9/30/21\",\"10/1/21\",\"10/2/21\",\"10/3/21\",\"10/4/21\",\"10/5/21\",\"10/6/21\",\"10/7/21\",\"10/8/21\",\"10/9/21\",\"10/10/21\",\"10/11/21\",\"10/12/21\",\"10/13/21\",\"10/14/21\"],\"xaxis\":\"x\",\"y\":[1.0,8.0,16.0,14.0,26.0,49.0,2.0,38.0,42.0,46.0,103.0,64.0,66.0,72.0,70.0,85.0,87.0,100.0,107.0,100.0,5.0,253.0,152.0,143.0,104.0,98.0,140.0,115.0,125.0,4.0,207.0,11.0,160.0,80.0,61.0,43.0,59.0,70.0,54.0,89.0,74.0,95.0,93.0,113.0,104.0,240.0,190.0,276.0,345.0,309.0,492.0,421.0,650.0,687.0,816.0,918.0,1116.0,1493.0,1725.0,1684.0,1960.0,2308.0,2827.0,3043.0,3484.0,3800.0,3504.0,4090.0,4741.0,6013.0,5899.0,6154.0,5979.0,5257.0,5939.0,8305.0,6832.0,7871.0,7420.0,6281.0,5948.0,6018.0,7083.0,8548.0,7428.0,8515.0,6198.0,5354.0,6050.0,7378.0,7043.0,7009.0,6923.0,5876.0,4260.0,4945.0,6822.0,6954.0,6043.0,5473.0,5838.0,3843.0,4571.0,6113.0,6887.0,5699.0,5915.0,4591.0,4031.0,3919.0,5886.0,5477.0,5576.0,5636.0,4553.0,3572.0,4158.0,5134.0,5195.0,5078.0,5678.0,4302.0,3483.0,1615.0,4663.0,5393.0,5012.0,5155.0,4384.0,3153.0,3511.0,5200.0,5839.0,5428.0,5063.0,4216.0,3188.0,4166.0,5193.0,5482.0,5065.0,4809.0,4460.0,3643.0,3835.0,7119.0,5565.0,5313.0,6382.0,4495.0,4621.0,3745.0,5573.0,5539.0,5045.0,5078.0,4782.0,3527.0,4013.0,5198.0,5328.0,5440.0,5308.0,4811.0,3846.0,4155.0,6350.0,5663.0,5787.0,5664.0,5216.0,4302.0,4293.0,6012.0,5874.0,6179.0,7047.0,6552.0,4910.0,3819.0,6397.0,7356.0,6622.0,6457.0,6148.0,4329.0,5232.0,6724.0,7009.0,6631.0,6579.0,6125.0,4657.0,4778.0,7001.0,7487.0,6887.0,6689.0,6072.0,5123.0,5396.0,6621.0,6947.0,6835.0,6659.0,5965.0,4824.0,4521.0,7063.0,7103.0,6411.0,5731.0,5804.0,4399.0,4713.0,6636.0,6559.0,6215.0,5862.0,5625.0,4420.0,4380.0,6629.0,6290.0,6069.0,5887.0,5152.0,4140.0,9592.0,5108.0,6231.0,6018.0,6029.0,5059.0,3991.0,4527.0,6604.0,5908.0,5597.0,5817.0,5391.0,3976.0,4337.0,6198.0,5614.0,6580.0,5943.0,5566.0,3844.0,4022.0,6064.0,6527.0,8805.0,5042.0,5448.0,4034.0,7002.0,5846.0,5902.0,6365.0,6208.0,4920.0,4136.0,4070.0,5376.0,6193.0,6081.0,6325.0,5683.0,3656.0,4904.0,6638.0,6806.0,5949.0,7075.0,5894.0,4262.0,5597.0,7443.0,7210.0,7173.0,7621.0,6703.0,5126.0,6199.0,9419.0,10139.0,8103.0,9750.0,7682.0,6043.0,7236.0,10028.0,10502.0,9770.0,9637.0,9211.0,6590.0,7913.0,11089.0,11420.0,11117.0,11806.0,9015.0,7418.0,8503.0,12718.0,12151.0,10961.0,11411.0,9298.0,7322.0,8891.0,12720.0,12670.0,12538.0,12535.0,10315.0,7641.0,8704.0,12352.0,12660.0,12665.0,13111.0,10663.0,7749.0,9086.0,13865.0,13794.0,13444.0,12933.0,10921.0,8034.0,9619.0,14275.0,13866.0,11775.0,8646.0,7529.0,7718.0,9696.0,15136.0,15398.0,13459.0,10056.0,8190.0,7622.0,10117.0,15492.0,15074.0,15130.0,15181.0,13028.0,8682.0,10306.0,17202.0,16867.0,15648.0,15163.0,13600.0,9010.0,9712.0,16949.0,17978.0,17157.0,16193.0,13795.0,9209.0,11186.0,17542.0,17146.0,17159.0,15509.0,13536.0,8672.0,10656.0,15273.0,16070.0,12853.0,17171.0,10441.0,8273.0,8861.0,16109.0,13918.0,13706.0,13154.0,10344.0,6669.0,7413.0,11559.0,11874.0,11788.0,11753.0,8872.0,6449.0,7417.0,11703.0,12426.0,10636.0,10719.0,8634.0,6212.0,7852.0,10347.0,11737.0,10271.0,10695.0,8095.0,5914.0,7149.0,10643.0,10132.0,10202.0,10100.0,8470.0,5962.0,7447.0,10551.0,10454.0,10857.0,11059.0,8703.0,8210.0,8016.0,11498.0,10401.0,11684.0,12874.0,10146.0,7359.0,8462.0,12090.0,12804.0,12409.0,10703.0,9328.0,7321.0,7700.0,12602.0,15726.0,14418.0,14220.0,13051.0,9029.0,9864.0,13828.0,14083.0,13666.0,13321.0,12497.0,9251.0,10890.0,14321.0,14916.0,13900.0,15190.0,13263.0,10646.0,11633.0,14972.0,16017.0,15756.0,14016.0,13287.0,10241.0,11752.0,14045.0,14890.0,14637.0,14394.0,13313.0,10467.0,11090.0,14231.0,13845.0,13693.0,13056.0,12227.0,10257.0,11156.0,14201.0,13569.0,13056.0,13011.0,11541.0,9760.0,9056.0,13211.0,12741.0,13013.0,11961.0,10766.0,8304.0,8688.0,15331.0,11902.0,9838.0,10960.0,9185.0,7233.0,8052.0,10380.0,10468.0,16009.0,11923.0,9785.0,9277.0,7861.0,10575.0,10326.0,9268.0,9215.0,8174.0,6745.0,6864.0,8975.0,9515.0,8622.0,9206.0,7545.0,6103.0,6496.0,8109.0,9178.0,8691.0,8319.0,6904.0,6666.0,7218.0,8574.0,8556.0,8854.0,8443.0,6680.0,7550.0,8065.0,8332.0,8644.0,8497.0,8765.0,7092.0,7063.0,7074.0,20762.0,8691.0,8799.0,7754.0,9252.0,7277.0,7794.0,9869.0,10245.0,10831.0,9662.0,8764.0,7270.0,8015.0,10354.0,10591.0,10988.0,10580.0,8607.0,7465.0,8642.0,11972.0,9991.0,10666.0,10495.0,8688.0,7250.0,9830.0,10741.0,10842.0,11460.0,10481.0,8921.0,7659.0,10048.0,11079.0,11365.0,11663.0,10254.0,8453.0,6762.0,9529.0,9057.0,12505.0,11239.0,10673.0,7780.0,6515.0,7961.0,10502.0,10031.0,10768.0,9137.0,8341.0,5538.0,9076.0,9846.0,10423.0,10490.0,8659.0,6738.0,6065.0,8194.0,9019.0,10114.0,9724.0,8863.0,5327.0,5176.0,7820.0,8882.0,9309.0,8787.0,8606.0,5748.0,4015.0,7333.0,7245.0,9455.0,8478.0,7566.0,4674.0,4480.0,5834.0,8199.0,8639.0,7429.0],\"yaxis\":\"y\"}],                        {\"legend\":{\"tracegroupgap\":0},\"template\":{\"data\":{\"bar\":[{\"error_x\":{\"color\":\"#2a3f5f\"},\"error_y\":{\"color\":\"#2a3f5f\"},\"marker\":{\"line\":{\"color\":\"#E5ECF6\",\"width\":0.5},\"pattern\":{\"fillmode\":\"overlay\",\"size\":10,\"solidity\":0.2}},\"type\":\"bar\"}],\"barpolar\":[{\"marker\":{\"line\":{\"color\":\"#E5ECF6\",\"width\":0.5},\"pattern\":{\"fillmode\":\"overlay\",\"size\":10,\"solidity\":0.2}},\"type\":\"barpolar\"}],\"carpet\":[{\"aaxis\":{\"endlinecolor\":\"#2a3f5f\",\"gridcolor\":\"white\",\"linecolor\":\"white\",\"minorgridcolor\":\"white\",\"startlinecolor\":\"#2a3f5f\"},\"baxis\":{\"endlinecolor\":\"#2a3f5f\",\"gridcolor\":\"white\",\"linecolor\":\"white\",\"minorgridcolor\":\"white\",\"startlinecolor\":\"#2a3f5f\"},\"type\":\"carpet\"}],\"choropleth\":[{\"colorbar\":{\"outlinewidth\":0,\"ticks\":\"\"},\"type\":\"choropleth\"}],\"contour\":[{\"colorbar\":{\"outlinewidth\":0,\"ticks\":\"\"},\"colorscale\":[[0.0,\"#0d0887\"],[0.1111111111111111,\"#46039f\"],[0.2222222222222222,\"#7201a8\"],[0.3333333333333333,\"#9c179e\"],[0.4444444444444444,\"#bd3786\"],[0.5555555555555556,\"#d8576b\"],[0.6666666666666666,\"#ed7953\"],[0.7777777777777778,\"#fb9f3a\"],[0.8888888888888888,\"#fdca26\"],[1.0,\"#f0f921\"]],\"type\":\"contour\"}],\"contourcarpet\":[{\"colorbar\":{\"outlinewidth\":0,\"ticks\":\"\"},\"type\":\"contourcarpet\"}],\"heatmap\":[{\"colorbar\":{\"outlinewidth\":0,\"ticks\":\"\"},\"colorscale\":[[0.0,\"#0d0887\"],[0.1111111111111111,\"#46039f\"],[0.2222222222222222,\"#7201a8\"],[0.3333333333333333,\"#9c179e\"],[0.4444444444444444,\"#bd3786\"],[0.5555555555555556,\"#d8576b\"],[0.6666666666666666,\"#ed7953\"],[0.7777777777777778,\"#fb9f3a\"],[0.8888888888888888,\"#fdca26\"],[1.0,\"#f0f921\"]],\"type\":\"heatmap\"}],\"heatmapgl\":[{\"colorbar\":{\"outlinewidth\":0,\"ticks\":\"\"},\"colorscale\":[[0.0,\"#0d0887\"],[0.1111111111111111,\"#46039f\"],[0.2222222222222222,\"#7201a8\"],[0.3333333333333333,\"#9c179e\"],[0.4444444444444444,\"#bd3786\"],[0.5555555555555556,\"#d8576b\"],[0.6666666666666666,\"#ed7953\"],[0.7777777777777778,\"#fb9f3a\"],[0.8888888888888888,\"#fdca26\"],[1.0,\"#f0f921\"]],\"type\":\"heatmapgl\"}],\"histogram\":[{\"marker\":{\"pattern\":{\"fillmode\":\"overlay\",\"size\":10,\"solidity\":0.2}},\"type\":\"histogram\"}],\"histogram2d\":[{\"colorbar\":{\"outlinewidth\":0,\"ticks\":\"\"},\"colorscale\":[[0.0,\"#0d0887\"],[0.1111111111111111,\"#46039f\"],[0.2222222222222222,\"#7201a8\"],[0.3333333333333333,\"#9c179e\"],[0.4444444444444444,\"#bd3786\"],[0.5555555555555556,\"#d8576b\"],[0.6666666666666666,\"#ed7953\"],[0.7777777777777778,\"#fb9f3a\"],[0.8888888888888888,\"#fdca26\"],[1.0,\"#f0f921\"]],\"type\":\"histogram2d\"}],\"histogram2dcontour\":[{\"colorbar\":{\"outlinewidth\":0,\"ticks\":\"\"},\"colorscale\":[[0.0,\"#0d0887\"],[0.1111111111111111,\"#46039f\"],[0.2222222222222222,\"#7201a8\"],[0.3333333333333333,\"#9c179e\"],[0.4444444444444444,\"#bd3786\"],[0.5555555555555556,\"#d8576b\"],[0.6666666666666666,\"#ed7953\"],[0.7777777777777778,\"#fb9f3a\"],[0.8888888888888888,\"#fdca26\"],[1.0,\"#f0f921\"]],\"type\":\"histogram2dcontour\"}],\"mesh3d\":[{\"colorbar\":{\"outlinewidth\":0,\"ticks\":\"\"},\"type\":\"mesh3d\"}],\"parcoords\":[{\"line\":{\"colorbar\":{\"outlinewidth\":0,\"ticks\":\"\"}},\"type\":\"parcoords\"}],\"pie\":[{\"automargin\":true,\"type\":\"pie\"}],\"scatter\":[{\"marker\":{\"colorbar\":{\"outlinewidth\":0,\"ticks\":\"\"}},\"type\":\"scatter\"}],\"scatter3d\":[{\"line\":{\"colorbar\":{\"outlinewidth\":0,\"ticks\":\"\"}},\"marker\":{\"colorbar\":{\"outlinewidth\":0,\"ticks\":\"\"}},\"type\":\"scatter3d\"}],\"scattercarpet\":[{\"marker\":{\"colorbar\":{\"outlinewidth\":0,\"ticks\":\"\"}},\"type\":\"scattercarpet\"}],\"scattergeo\":[{\"marker\":{\"colorbar\":{\"outlinewidth\":0,\"ticks\":\"\"}},\"type\":\"scattergeo\"}],\"scattergl\":[{\"marker\":{\"colorbar\":{\"outlinewidth\":0,\"ticks\":\"\"}},\"type\":\"scattergl\"}],\"scattermapbox\":[{\"marker\":{\"colorbar\":{\"outlinewidth\":0,\"ticks\":\"\"}},\"type\":\"scattermapbox\"}],\"scatterpolar\":[{\"marker\":{\"colorbar\":{\"outlinewidth\":0,\"ticks\":\"\"}},\"type\":\"scatterpolar\"}],\"scatterpolargl\":[{\"marker\":{\"colorbar\":{\"outlinewidth\":0,\"ticks\":\"\"}},\"type\":\"scatterpolargl\"}],\"scatterternary\":[{\"marker\":{\"colorbar\":{\"outlinewidth\":0,\"ticks\":\"\"}},\"type\":\"scatterternary\"}],\"surface\":[{\"colorbar\":{\"outlinewidth\":0,\"ticks\":\"\"},\"colorscale\":[[0.0,\"#0d0887\"],[0.1111111111111111,\"#46039f\"],[0.2222222222222222,\"#7201a8\"],[0.3333333333333333,\"#9c179e\"],[0.4444444444444444,\"#bd3786\"],[0.5555555555555556,\"#d8576b\"],[0.6666666666666666,\"#ed7953\"],[0.7777777777777778,\"#fb9f3a\"],[0.8888888888888888,\"#fdca26\"],[1.0,\"#f0f921\"]],\"type\":\"surface\"}],\"table\":[{\"cells\":{\"fill\":{\"color\":\"#EBF0F8\"},\"line\":{\"color\":\"white\"}},\"header\":{\"fill\":{\"color\":\"#C8D4E3\"},\"line\":{\"color\":\"white\"}},\"type\":\"table\"}]},\"layout\":{\"annotationdefaults\":{\"arrowcolor\":\"#2a3f5f\",\"arrowhead\":0,\"arrowwidth\":1},\"autotypenumbers\":\"strict\",\"coloraxis\":{\"colorbar\":{\"outlinewidth\":0,\"ticks\":\"\"}},\"colorscale\":{\"diverging\":[[0,\"#8e0152\"],[0.1,\"#c51b7d\"],[0.2,\"#de77ae\"],[0.3,\"#f1b6da\"],[0.4,\"#fde0ef\"],[0.5,\"#f7f7f7\"],[0.6,\"#e6f5d0\"],[0.7,\"#b8e186\"],[0.8,\"#7fbc41\"],[0.9,\"#4d9221\"],[1,\"#276419\"]],\"sequential\":[[0.0,\"#0d0887\"],[0.1111111111111111,\"#46039f\"],[0.2222222222222222,\"#7201a8\"],[0.3333333333333333,\"#9c179e\"],[0.4444444444444444,\"#bd3786\"],[0.5555555555555556,\"#d8576b\"],[0.6666666666666666,\"#ed7953\"],[0.7777777777777778,\"#fb9f3a\"],[0.8888888888888888,\"#fdca26\"],[1.0,\"#f0f921\"]],\"sequentialminus\":[[0.0,\"#0d0887\"],[0.1111111111111111,\"#46039f\"],[0.2222222222222222,\"#7201a8\"],[0.3333333333333333,\"#9c179e\"],[0.4444444444444444,\"#bd3786\"],[0.5555555555555556,\"#d8576b\"],[0.6666666666666666,\"#ed7953\"],[0.7777777777777778,\"#fb9f3a\"],[0.8888888888888888,\"#fdca26\"],[1.0,\"#f0f921\"]]},\"colorway\":[\"#636efa\",\"#EF553B\",\"#00cc96\",\"#ab63fa\",\"#FFA15A\",\"#19d3f3\",\"#FF6692\",\"#B6E880\",\"#FF97FF\",\"#FECB52\"],\"font\":{\"color\":\"#2a3f5f\"},\"geo\":{\"bgcolor\":\"white\",\"lakecolor\":\"white\",\"landcolor\":\"#E5ECF6\",\"showlakes\":true,\"showland\":true,\"subunitcolor\":\"white\"},\"hoverlabel\":{\"align\":\"left\"},\"hovermode\":\"closest\",\"mapbox\":{\"style\":\"light\"},\"paper_bgcolor\":\"white\",\"plot_bgcolor\":\"#E5ECF6\",\"polar\":{\"angularaxis\":{\"gridcolor\":\"white\",\"linecolor\":\"white\",\"ticks\":\"\"},\"bgcolor\":\"#E5ECF6\",\"radialaxis\":{\"gridcolor\":\"white\",\"linecolor\":\"white\",\"ticks\":\"\"}},\"scene\":{\"xaxis\":{\"backgroundcolor\":\"#E5ECF6\",\"gridcolor\":\"white\",\"gridwidth\":2,\"linecolor\":\"white\",\"showbackground\":true,\"ticks\":\"\",\"zerolinecolor\":\"white\"},\"yaxis\":{\"backgroundcolor\":\"#E5ECF6\",\"gridcolor\":\"white\",\"gridwidth\":2,\"linecolor\":\"white\",\"showbackground\":true,\"ticks\":\"\",\"zerolinecolor\":\"white\"},\"zaxis\":{\"backgroundcolor\":\"#E5ECF6\",\"gridcolor\":\"white\",\"gridwidth\":2,\"linecolor\":\"white\",\"showbackground\":true,\"ticks\":\"\",\"zerolinecolor\":\"white\"}},\"shapedefaults\":{\"line\":{\"color\":\"#2a3f5f\"}},\"ternary\":{\"aaxis\":{\"gridcolor\":\"white\",\"linecolor\":\"white\",\"ticks\":\"\"},\"baxis\":{\"gridcolor\":\"white\",\"linecolor\":\"white\",\"ticks\":\"\"},\"bgcolor\":\"#E5ECF6\",\"caxis\":{\"gridcolor\":\"white\",\"linecolor\":\"white\",\"ticks\":\"\"}},\"title\":{\"x\":0.05},\"xaxis\":{\"automargin\":true,\"gridcolor\":\"white\",\"linecolor\":\"white\",\"ticks\":\"\",\"title\":{\"standoff\":15},\"zerolinecolor\":\"white\",\"zerolinewidth\":2},\"yaxis\":{\"automargin\":true,\"gridcolor\":\"white\",\"linecolor\":\"white\",\"ticks\":\"\",\"title\":{\"standoff\":15},\"zerolinecolor\":\"white\",\"zerolinewidth\":2}}},\"title\":{\"text\":\"Daily Covid 19 Death Cases in World\"},\"xaxis\":{\"anchor\":\"y\",\"domain\":[0.0,1.0],\"title\":{\"text\":\"Date\"}},\"yaxis\":{\"anchor\":\"x\",\"domain\":[0.0,1.0],\"title\":{\"text\":\"Deaths\"}}},                        {\"responsive\": true}                    ).then(function(){\n",
       "                            \n",
       "var gd = document.getElementById('1439e782-22ee-4e44-9014-f28e345edcb7');\n",
       "var x = new MutationObserver(function (mutations, observer) {{\n",
       "        var display = window.getComputedStyle(gd).display;\n",
       "        if (!display || display === 'none') {{\n",
       "            console.log([gd, 'removed!']);\n",
       "            Plotly.purge(gd);\n",
       "            observer.disconnect();\n",
       "        }}\n",
       "}});\n",
       "\n",
       "// Listen for the removal of the full notebook cells\n",
       "var notebookContainer = gd.closest('#notebook-container');\n",
       "if (notebookContainer) {{\n",
       "    x.observe(notebookContainer, {childList: true});\n",
       "}}\n",
       "\n",
       "// Listen for the clearing of the current output cell\n",
       "var outputEl = gd.closest('.output');\n",
       "if (outputEl) {{\n",
       "    x.observe(outputEl, {childList: true});\n",
       "}}\n",
       "\n",
       "                        })                };                });            </script>        </div>"
      ]
     },
     "metadata": {},
     "output_type": "display_data"
    }
   ],
   "source": [
    "fig = px.line(df, y='Deaths',title='Daily Covid 19 Death Cases in World')\n",
    "fig.show();"
   ]
  },
  {
   "cell_type": "code",
   "execution_count": 19,
   "id": "fb180bdb",
   "metadata": {
    "execution": {
     "iopub.execute_input": "2021-10-25T04:41:13.434601Z",
     "iopub.status.busy": "2021-10-25T04:41:13.409976Z",
     "iopub.status.idle": "2021-10-25T04:41:13.444699Z",
     "shell.execute_reply": "2021-10-25T04:41:13.444188Z",
     "shell.execute_reply.started": "2021-10-25T04:33:43.040405Z"
    },
    "papermill": {
     "duration": 0.124599,
     "end_time": "2021-10-25T04:41:13.444831",
     "exception": false,
     "start_time": "2021-10-25T04:41:13.320232",
     "status": "completed"
    },
    "pycharm": {
     "name": "#%%\n"
    },
    "tags": []
   },
   "outputs": [],
   "source": [
    "# parse dates from 'df' dataframe\n",
    "set_date = pd.to_datetime(df.index)\n",
    "df.index = set_date"
   ]
  },
  {
   "cell_type": "code",
   "execution_count": 20,
   "id": "00c9c177",
   "metadata": {
    "execution": {
     "iopub.execute_input": "2021-10-25T04:41:13.587038Z",
     "iopub.status.busy": "2021-10-25T04:41:13.581307Z",
     "iopub.status.idle": "2021-10-25T04:41:13.591733Z",
     "shell.execute_reply": "2021-10-25T04:41:13.591199Z",
     "shell.execute_reply.started": "2021-10-25T04:33:43.089410Z"
    },
    "papermill": {
     "duration": 0.077635,
     "end_time": "2021-10-25T04:41:13.591857",
     "exception": false,
     "start_time": "2021-10-25T04:41:13.514222",
     "status": "completed"
    },
    "pycharm": {
     "name": "#%%\n"
    },
    "tags": []
   },
   "outputs": [
    {
     "data": {
      "text/html": [
       "<div>\n",
       "<style scoped>\n",
       "    .dataframe tbody tr th:only-of-type {\n",
       "        vertical-align: middle;\n",
       "    }\n",
       "\n",
       "    .dataframe tbody tr th {\n",
       "        vertical-align: top;\n",
       "    }\n",
       "\n",
       "    .dataframe thead th {\n",
       "        text-align: right;\n",
       "    }\n",
       "</style>\n",
       "<table border=\"1\" class=\"dataframe\">\n",
       "  <thead>\n",
       "    <tr style=\"text-align: right;\">\n",
       "      <th></th>\n",
       "      <th>Cases</th>\n",
       "      <th>Deaths</th>\n",
       "    </tr>\n",
       "    <tr>\n",
       "      <th>Date</th>\n",
       "      <th></th>\n",
       "      <th></th>\n",
       "    </tr>\n",
       "  </thead>\n",
       "  <tbody>\n",
       "    <tr>\n",
       "      <th>2020-01-23</th>\n",
       "      <td>98</td>\n",
       "      <td>1</td>\n",
       "    </tr>\n",
       "    <tr>\n",
       "      <th>2020-01-24</th>\n",
       "      <td>286</td>\n",
       "      <td>8</td>\n",
       "    </tr>\n",
       "    <tr>\n",
       "      <th>2020-01-25</th>\n",
       "      <td>493</td>\n",
       "      <td>16</td>\n",
       "    </tr>\n",
       "    <tr>\n",
       "      <th>2020-01-26</th>\n",
       "      <td>684</td>\n",
       "      <td>14</td>\n",
       "    </tr>\n",
       "    <tr>\n",
       "      <th>2020-01-27</th>\n",
       "      <td>809</td>\n",
       "      <td>26</td>\n",
       "    </tr>\n",
       "  </tbody>\n",
       "</table>\n",
       "</div>"
      ],
      "text/plain": [
       "            Cases  Deaths\n",
       "Date                     \n",
       "2020-01-23     98       1\n",
       "2020-01-24    286       8\n",
       "2020-01-25    493      16\n",
       "2020-01-26    684      14\n",
       "2020-01-27    809      26"
      ]
     },
     "execution_count": 20,
     "metadata": {},
     "output_type": "execute_result"
    }
   ],
   "source": [
    "df.head()"
   ]
  },
  {
   "cell_type": "code",
   "execution_count": 21,
   "id": "e2a40066",
   "metadata": {
    "execution": {
     "iopub.execute_input": "2021-10-25T04:41:13.732504Z",
     "iopub.status.busy": "2021-10-25T04:41:13.731303Z",
     "iopub.status.idle": "2021-10-25T04:41:13.735279Z",
     "shell.execute_reply": "2021-10-25T04:41:13.734788Z",
     "shell.execute_reply.started": "2021-10-25T04:33:43.100860Z"
    },
    "papermill": {
     "duration": 0.076359,
     "end_time": "2021-10-25T04:41:13.735399",
     "exception": false,
     "start_time": "2021-10-25T04:41:13.659040",
     "status": "completed"
    },
    "pycharm": {
     "name": "#%%\n"
    },
    "tags": []
   },
   "outputs": [
    {
     "data": {
      "text/plain": [
       "(array(['2020-01-23T00:00:00.000000000', '2020-01-24T00:00:00.000000000',\n",
       "        '2020-01-25T00:00:00.000000000', '2020-01-26T00:00:00.000000000',\n",
       "        '2020-01-27T00:00:00.000000000', '2020-01-28T00:00:00.000000000',\n",
       "        '2020-01-29T00:00:00.000000000', '2020-01-30T00:00:00.000000000',\n",
       "        '2020-01-31T00:00:00.000000000', '2020-02-01T00:00:00.000000000'],\n",
       "       dtype='datetime64[ns]'),\n",
       " array([  98.,  286.,  493.,  684.,  809., 2651.,  589., 2068., 1692.,\n",
       "        2111.]),\n",
       " array([ 1.,  8., 16., 14., 26., 49.,  2., 38., 42., 46.]))"
      ]
     },
     "execution_count": 21,
     "metadata": {},
     "output_type": "execute_result"
    }
   ],
   "source": [
    "# Get  data array\n",
    "timesteps = df.index.to_numpy()\n",
    "cases = df['Cases'].to_numpy()\n",
    "deaths = df['Deaths'].to_numpy()\n",
    "\n",
    "timesteps[:10],cases[:10],deaths[:10]"
   ]
  },
  {
   "cell_type": "markdown",
   "id": "d7e1e5a6",
   "metadata": {
    "papermill": {
     "duration": 0.065261,
     "end_time": "2021-10-25T04:41:13.867231",
     "exception": false,
     "start_time": "2021-10-25T04:41:13.801970",
     "status": "completed"
    },
    "tags": []
   },
   "source": [
    "## Split dataset into Train and Test\n",
    "\n",
    "The best way to split the time series data is to avoid the random_split\n"
   ]
  },
  {
   "cell_type": "code",
   "execution_count": 22,
   "id": "cdf66aea",
   "metadata": {
    "execution": {
     "iopub.execute_input": "2021-10-25T04:41:14.004156Z",
     "iopub.status.busy": "2021-10-25T04:41:14.003593Z",
     "iopub.status.idle": "2021-10-25T04:41:14.009279Z",
     "shell.execute_reply": "2021-10-25T04:41:14.008842Z",
     "shell.execute_reply.started": "2021-10-25T04:33:43.115297Z"
    },
    "papermill": {
     "duration": 0.077189,
     "end_time": "2021-10-25T04:41:14.009395",
     "exception": false,
     "start_time": "2021-10-25T04:41:13.932206",
     "status": "completed"
    },
    "pycharm": {
     "name": "#%%\n"
    },
    "tags": []
   },
   "outputs": [
    {
     "data": {
      "text/plain": [
       "(504, 127, 504, 127)"
      ]
     },
     "execution_count": 22,
     "metadata": {},
     "output_type": "execute_result"
    }
   ],
   "source": [
    "# Create train and test splits the right way for time series\n",
    "split_size = int(0.8 * len(df))\n",
    "\n",
    "# Create train data splits (everything before the split)\n",
    "X_train, y_train = timesteps[:split_size], cases[:split_size]\n",
    "\n",
    "# Create test data splits (everything after the split)\n",
    "X_test, y_test = timesteps[split_size:], cases[split_size:]\n",
    "\n",
    "len(X_train),len(X_test), len(y_train), len(y_test)"
   ]
  },
  {
   "cell_type": "code",
   "execution_count": 23,
   "id": "a3a8c1c4",
   "metadata": {
    "execution": {
     "iopub.execute_input": "2021-10-25T04:41:14.159980Z",
     "iopub.status.busy": "2021-10-25T04:41:14.158606Z",
     "iopub.status.idle": "2021-10-25T04:41:14.540256Z",
     "shell.execute_reply": "2021-10-25T04:41:14.541088Z",
     "shell.execute_reply.started": "2021-10-25T04:33:43.127793Z"
    },
    "papermill": {
     "duration": 0.466776,
     "end_time": "2021-10-25T04:41:14.541315",
     "exception": false,
     "start_time": "2021-10-25T04:41:14.074539",
     "status": "completed"
    },
    "pycharm": {
     "name": "#%%\n"
    },
    "tags": []
   },
   "outputs": [
    {
     "data": {
      "image/png": "[encoded data removed]",
      "text/plain": [
       "<Figure size 720x504 with 1 Axes>"
      ]
     },
     "metadata": {
      "needs_background": "light"
     },
     "output_type": "display_data"
    }
   ],
   "source": [
    "# Plot correctly made splits\n",
    "plt.figure(figsize=(10, 7))\n",
    "plt.ticklabel_format(style='plain')\n",
    "plt.scatter(X_train, y_train, s=5, label=\"Train data\")\n",
    "plt.scatter(X_test, y_test, s=5, label=\"Test data\")\n",
    "plt.xlabel(\"Date\")\n",
    "plt.ylabel(\"Cases\")\n",
    "plt.legend(fontsize=14)\n",
    "plt.show();"
   ]
  },
  {
   "cell_type": "markdown",
   "id": "e50b8d90",
   "metadata": {
    "papermill": {
     "duration": 0.109397,
     "end_time": "2021-10-25T04:41:14.762187",
     "exception": false,
     "start_time": "2021-10-25T04:41:14.652790",
     "status": "completed"
    },
    "tags": []
   },
   "source": [
    "## Baseline Model : Naive Forecast\n",
    "\n",
    "As usual, let's start with a baseline\n",
    "\n",
    "One of the most common baseline models for time series forecasting, the naive model (also called the`naive forecast`), requires no training at all.\n",
    "\n",
    "That's because all the naive model does is use the previous timestep value to predict the next timestep value\n",
    "\n",
    "The formula looks like this\n"
   ]
  },
  {
   "cell_type": "code",
   "execution_count": 24,
   "id": "7de26ba8",
   "metadata": {
    "execution": {
     "iopub.execute_input": "2021-10-25T04:41:14.972830Z",
     "iopub.status.busy": "2021-10-25T04:41:14.971459Z",
     "iopub.status.idle": "2021-10-25T04:41:14.975324Z",
     "shell.execute_reply": "2021-10-25T04:41:14.974894Z",
     "shell.execute_reply.started": "2021-10-25T04:33:43.462107Z"
    },
    "papermill": {
     "duration": 0.101295,
     "end_time": "2021-10-25T04:41:14.975452",
     "exception": false,
     "start_time": "2021-10-25T04:41:14.874157",
     "status": "completed"
    },
    "pycharm": {
     "name": "#%%\n"
    },
    "tags": []
   },
   "outputs": [
    {
     "data": {
      "text/plain": [
       "(array([449723., 420823., 372702., 303514., 307551., 371205., 398656.,\n",
       "        392501., 406697., 349368.]),\n",
       " array([458454., 417394., 513188., 431896., 478661., 329269., 300669.,\n",
       "        393375., 432550., 462666.]))"
      ]
     },
     "execution_count": 24,
     "metadata": {},
     "output_type": "execute_result"
    }
   ],
   "source": [
    "# Create a naive forecast\n",
    "naive_forecast = y_test[:-1] # Naive forecast every value excluding the last value\n",
    "naive_forecast[:10], naive_forecast[-10:]"
   ]
  },
  {
   "cell_type": "code",
   "execution_count": 25,
   "id": "802fd459",
   "metadata": {
    "execution": {
     "iopub.execute_input": "2021-10-25T04:41:15.119201Z",
     "iopub.status.busy": "2021-10-25T04:41:15.117583Z",
     "iopub.status.idle": "2021-10-25T04:41:15.119826Z",
     "shell.execute_reply": "2021-10-25T04:41:15.120235Z",
     "shell.execute_reply.started": "2021-10-25T04:33:43.470505Z"
    },
    "papermill": {
     "duration": 0.076131,
     "end_time": "2021-10-25T04:41:15.120362",
     "exception": false,
     "start_time": "2021-10-25T04:41:15.044231",
     "status": "completed"
    },
    "pycharm": {
     "name": "#%%\n"
    },
    "tags": []
   },
   "outputs": [],
   "source": [
    "# Create a function to plot time series data\n",
    "def plot_time_series(timesteps, values, format='.', start=0, end=None, label=None):\n",
    "    \"\"\"\n",
    "    Plots a timesteps (a series of points in time) against values (a series of values across timesteps).\n",
    "\n",
    "    Parameters\n",
    "    ---------\n",
    "    timesteps : array of timesteps\n",
    "    values : array of values across time\n",
    "    format : style of plot, default \".\"\n",
    "    start : where to start the plot (setting a value will index from start of timesteps & values)\n",
    "    end : where to end the plot (setting a value will index from end of timesteps & values)\n",
    "    label : label to show on plot of values\n",
    "    \"\"\"\n",
    "    # Plot the series\n",
    "\n",
    "    plt.plot(timesteps[start:end], values[start:end], format, label=label)\n",
    "    plt.xlabel(\"Time\")\n",
    "    plt.ylabel(\"Cases\")\n",
    "    if label:\n",
    "        plt.legend(fontsize=14) # make label bigger\n",
    "    plt.grid(True)"
   ]
  },
  {
   "cell_type": "code",
   "execution_count": 26,
   "id": "2eead9de",
   "metadata": {
    "execution": {
     "iopub.execute_input": "2021-10-25T04:41:15.277016Z",
     "iopub.status.busy": "2021-10-25T04:41:15.276155Z",
     "iopub.status.idle": "2021-10-25T04:41:15.600087Z",
     "shell.execute_reply": "2021-10-25T04:41:15.600494Z",
     "shell.execute_reply.started": "2021-10-25T04:33:43.480442Z"
    },
    "papermill": {
     "duration": 0.413171,
     "end_time": "2021-10-25T04:41:15.600655",
     "exception": false,
     "start_time": "2021-10-25T04:41:15.187484",
     "status": "completed"
    },
    "pycharm": {
     "name": "#%%\n"
    },
    "tags": []
   },
   "outputs": [
    {
     "data": {
      "image/png": "[encoded data removed]",
      "text/plain": [
       "<Figure size 720x504 with 1 Axes>"
      ]
     },
     "metadata": {
      "needs_background": "light"
     },
     "output_type": "display_data"
    }
   ],
   "source": [
    "# Plot naive forecast\n",
    "plt.figure(figsize=(10, 7))\n",
    "plt.ticklabel_format(style='plain')\n",
    "plot_time_series(timesteps=X_train, values=y_train, label=\"Train data\")\n",
    "plot_time_series(timesteps=X_test, values=y_test, label=\"Test data\")\n",
    "plot_time_series(timesteps=X_test[1:], values=naive_forecast, format=\"-\", label=\"Naive forecast\");"
   ]
  },
  {
   "cell_type": "code",
   "execution_count": 27,
   "id": "c2daa759",
   "metadata": {
    "execution": {
     "iopub.execute_input": "2021-10-25T04:41:15.742772Z",
     "iopub.status.busy": "2021-10-25T04:41:15.741949Z",
     "iopub.status.idle": "2021-10-25T04:41:15.744346Z",
     "shell.execute_reply": "2021-10-25T04:41:15.743934Z",
     "shell.execute_reply.started": "2021-10-25T04:33:43.841519Z"
    },
    "papermill": {
     "duration": 0.074576,
     "end_time": "2021-10-25T04:41:15.744488",
     "exception": false,
     "start_time": "2021-10-25T04:41:15.669912",
     "status": "completed"
    },
    "pycharm": {
     "name": "#%%\n"
    },
    "tags": []
   },
   "outputs": [],
   "source": [
    "import tensorflow as tf\n"
   ]
  },
  {
   "cell_type": "code",
   "execution_count": 28,
   "id": "86690b54",
   "metadata": {
    "execution": {
     "iopub.execute_input": "2021-10-25T04:41:15.887945Z",
     "iopub.status.busy": "2021-10-25T04:41:15.887200Z",
     "iopub.status.idle": "2021-10-25T04:41:15.889207Z",
     "shell.execute_reply": "2021-10-25T04:41:15.889613Z",
     "shell.execute_reply.started": "2021-10-25T04:33:43.851657Z"
    },
    "papermill": {
     "duration": 0.075556,
     "end_time": "2021-10-25T04:41:15.889759",
     "exception": false,
     "start_time": "2021-10-25T04:41:15.814203",
     "status": "completed"
    },
    "pycharm": {
     "name": "#%%\n"
    },
    "tags": []
   },
   "outputs": [],
   "source": [
    "# MASE implemented\n",
    "def mean_absolute_scaled_error(y_true, y_pred):\n",
    "    \"\"\"\n",
    "    Calculates the Mean Absolute Scaled Error\n",
    "    \"\"\"\n",
    "    mae = tf.reduce_mean(tf.abs(y_true - y_pred))\n",
    "\n",
    "    mae_naive_no_season = tf.reduce_mean(tf.abs(y_true[1:] - y_true[:-1]))\n",
    "\n",
    "    return mae/mae_naive_no_season"
   ]
  },
  {
   "cell_type": "code",
   "execution_count": 29,
   "id": "ad0dc6c1",
   "metadata": {
    "execution": {
     "iopub.execute_input": "2021-10-25T04:41:16.034742Z",
     "iopub.status.busy": "2021-10-25T04:41:16.033920Z",
     "iopub.status.idle": "2021-10-25T04:41:16.038189Z",
     "shell.execute_reply": "2021-10-25T04:41:16.037185Z",
     "shell.execute_reply.started": "2021-10-25T04:33:43.860638Z"
    },
    "papermill": {
     "duration": 0.079853,
     "end_time": "2021-10-25T04:41:16.038316",
     "exception": false,
     "start_time": "2021-10-25T04:41:15.958463",
     "status": "completed"
    },
    "pycharm": {
     "name": "#%%\n"
    },
    "tags": []
   },
   "outputs": [],
   "source": [
    "# evaluate metrics function\n",
    "def evaluate_preds(y_true, y_pred):\n",
    "    # Make sure float32 (for metric calculations)\n",
    "    y_pred = tf.cast(y_pred, dtype=tf.float64)\n",
    "\n",
    "    # Calculate various metrics\n",
    "    mae = tf.keras.metrics.mean_absolute_error(y_true, y_pred)\n",
    "    mse = tf.keras.metrics.mean_squared_error(y_true, y_pred) # puts and emphasis on outliers (all errors get squared)\n",
    "    rmse = tf.sqrt(mse)\n",
    "    mape = tf.keras.metrics.mean_absolute_percentage_error(y_true, y_pred)\n",
    "    mase = mean_absolute_scaled_error(y_true, y_pred)\n",
    "\n",
    "    return {\"mae\": mae.numpy(),\n",
    "            \"mse\": mse.numpy(),\n",
    "            \"rmse\": rmse.numpy(),\n",
    "            \"mape\": mape.numpy(),\n",
    "            \"mase\": mase.numpy()}"
   ]
  },
  {
   "cell_type": "code",
   "execution_count": 30,
   "id": "ba41f67b",
   "metadata": {
    "execution": {
     "iopub.execute_input": "2021-10-25T04:41:16.223463Z",
     "iopub.status.busy": "2021-10-25T04:41:16.222798Z",
     "iopub.status.idle": "2021-10-25T04:41:19.423533Z",
     "shell.execute_reply": "2021-10-25T04:41:19.424023Z",
     "shell.execute_reply.started": "2021-10-25T04:33:43.871599Z"
    },
    "papermill": {
     "duration": 3.317223,
     "end_time": "2021-10-25T04:41:19.424192",
     "exception": false,
     "start_time": "2021-10-25T04:41:16.106969",
     "status": "completed"
    },
    "pycharm": {
     "name": "#%%\n"
    },
    "tags": []
   },
   "outputs": [
    {
     "name": "stderr",
     "output_type": "stream",
     "text": [
      "2021-10-25 04:41:16.218650: I tensorflow/stream_executor/cuda/cuda_gpu_executor.cc:937] successful NUMA node read from SysFS had negative value (-1), but there must be at least one NUMA node, so returning NUMA node zero\n",
      "2021-10-25 04:41:16.219756: I tensorflow/stream_executor/cuda/cuda_gpu_executor.cc:937] successful NUMA node read from SysFS had negative value (-1), but there must be at least one NUMA node, so returning NUMA node zero\n",
      "2021-10-25 04:41:16.220387: I tensorflow/stream_executor/cuda/cuda_gpu_executor.cc:937] successful NUMA node read from SysFS had negative value (-1), but there must be at least one NUMA node, so returning NUMA node zero\n",
      "2021-10-25 04:41:16.224655: I tensorflow/core/platform/cpu_feature_guard.cc:142] This TensorFlow binary is optimized with oneAPI Deep Neural Network Library (oneDNN) to use the following CPU instructions in performance-critical operations:  AVX2 AVX512F FMA\n",
      "To enable them in other operations, rebuild TensorFlow with the appropriate compiler flags.\n",
      "2021-10-25 04:41:16.225736: I tensorflow/stream_executor/cuda/cuda_gpu_executor.cc:937] successful NUMA node read from SysFS had negative value (-1), but there must be at least one NUMA node, so returning NUMA node zero\n",
      "2021-10-25 04:41:16.226764: I tensorflow/stream_executor/cuda/cuda_gpu_executor.cc:937] successful NUMA node read from SysFS had negative value (-1), but there must be at least one NUMA node, so returning NUMA node zero\n",
      "2021-10-25 04:41:16.227618: I tensorflow/stream_executor/cuda/cuda_gpu_executor.cc:937] successful NUMA node read from SysFS had negative value (-1), but there must be at least one NUMA node, so returning NUMA node zero\n",
      "2021-10-25 04:41:18.240553: I tensorflow/stream_executor/cuda/cuda_gpu_executor.cc:937] successful NUMA node read from SysFS had negative value (-1), but there must be at least one NUMA node, so returning NUMA node zero\n",
      "2021-10-25 04:41:18.241260: I tensorflow/stream_executor/cuda/cuda_gpu_executor.cc:937] successful NUMA node read from SysFS had negative value (-1), but there must be at least one NUMA node, so returning NUMA node zero\n",
      "2021-10-25 04:41:18.241930: I tensorflow/stream_executor/cuda/cuda_gpu_executor.cc:937] successful NUMA node read from SysFS had negative value (-1), but there must be at least one NUMA node, so returning NUMA node zero\n",
      "2021-10-25 04:41:18.242564: I tensorflow/core/common_runtime/gpu/gpu_device.cc:1510] Created device /job:localhost/replica:0/task:0/device:GPU:0 with 15385 MB memory:  -> device: 0, name: Tesla P100-PCIE-16GB, pci bus id: 0000:00:04.0, compute capability: 6.0\n"
     ]
    },
    {
     "data": {
      "text/plain": [
       "{'mae': 75916.48412698413,\n",
       " 'mse': 10799176178.97619,\n",
       " 'rmse': 103919.08476779514,\n",
       " 'mape': 15.319415070624098,\n",
       " 'mase': 0.9950698784137135}"
      ]
     },
     "execution_count": 30,
     "metadata": {},
     "output_type": "execute_result"
    }
   ],
   "source": [
    "naive_results = evaluate_preds(y_true=y_test[1:],\n",
    "                               y_pred=naive_forecast)\n",
    "naive_results"
   ]
  },
  {
   "cell_type": "markdown",
   "id": "5e2f6815",
   "metadata": {
    "papermill": {
     "duration": 0.068993,
     "end_time": "2021-10-25T04:41:19.564446",
     "exception": false,
     "start_time": "2021-10-25T04:41:19.495453",
     "status": "completed"
    },
    "pycharm": {
     "name": "#%%\n"
    },
    "tags": []
   },
   "source": [
    "### Format Data : Windowing Dataset\n",
    "\n",
    "Windowing is a method to turn a time series dataset into **supervised learning problem**\n",
    "\n",
    "In other words, we want to use windows of the past to predict the future\n",
    "\n",
    "```\n",
    "Window for one month (univariate time series)\n",
    "\n",
    "[0, 1, 2, 3, 4, 5, 6] -> [7]\n",
    "[1, 2, 3, 4, 5, 6, 7] -> [8]\n",
    "[2, 3, 4, 5, 6, 7, 8] -> [9]\n",
    "\n",
    "```"
   ]
  },
  {
   "cell_type": "code",
   "execution_count": 31,
   "id": "befabcd3",
   "metadata": {
    "execution": {
     "iopub.execute_input": "2021-10-25T04:41:19.708199Z",
     "iopub.status.busy": "2021-10-25T04:41:19.707664Z",
     "iopub.status.idle": "2021-10-25T04:41:19.711144Z",
     "shell.execute_reply": "2021-10-25T04:41:19.710667Z",
     "shell.execute_reply.started": "2021-10-25T04:33:47.388590Z"
    },
    "papermill": {
     "duration": 0.077136,
     "end_time": "2021-10-25T04:41:19.711263",
     "exception": false,
     "start_time": "2021-10-25T04:41:19.634127",
     "status": "completed"
    },
    "tags": []
   },
   "outputs": [],
   "source": [
    "HORIZON = 7\n",
    "WINDOW_SIZE = 30\n"
   ]
  },
  {
   "cell_type": "code",
   "execution_count": 32,
   "id": "c1d7451b",
   "metadata": {
    "execution": {
     "iopub.execute_input": "2021-10-25T04:41:19.855268Z",
     "iopub.status.busy": "2021-10-25T04:41:19.854749Z",
     "iopub.status.idle": "2021-10-25T04:41:19.858267Z",
     "shell.execute_reply": "2021-10-25T04:41:19.857840Z",
     "shell.execute_reply.started": "2021-10-25T04:33:47.396495Z"
    },
    "papermill": {
     "duration": 0.077145,
     "end_time": "2021-10-25T04:41:19.858377",
     "exception": false,
     "start_time": "2021-10-25T04:41:19.781232",
     "status": "completed"
    },
    "tags": []
   },
   "outputs": [],
   "source": [
    "# Create function to label windowed data\n",
    "def get_labelled_windows(x, horizon=7):\n",
    "    \"\"\"\n",
    "    Creates an window and label for the data\n",
    "    \n",
    "    Example: Window: [1, 2, 3, 4,5, 6,7] -> [8]\n",
    "    \"\"\"\n",
    "    \n",
    "    return x[:,:-horizon], x[:,-horizon:]"
   ]
  },
  {
   "cell_type": "code",
   "execution_count": 33,
   "id": "6ad4ddf8",
   "metadata": {
    "execution": {
     "iopub.execute_input": "2021-10-25T04:41:20.003434Z",
     "iopub.status.busy": "2021-10-25T04:41:20.002727Z",
     "iopub.status.idle": "2021-10-25T04:41:20.025556Z",
     "shell.execute_reply": "2021-10-25T04:41:20.026337Z",
     "shell.execute_reply.started": "2021-10-25T04:33:47.413685Z"
    },
    "papermill": {
     "duration": 0.098208,
     "end_time": "2021-10-25T04:41:20.026523",
     "exception": false,
     "start_time": "2021-10-25T04:41:19.928315",
     "status": "completed"
    },
    "tags": []
   },
   "outputs": [
    {
     "name": "stdout",
     "output_type": "stream",
     "text": [
      "Window: [ 1  2  3  4  5  6  7  8  9 10 11 12 13 14 15 16 17 18 19 20 21 22 23] -> Label: [24 25 26 27 28 29 30]\n"
     ]
    }
   ],
   "source": [
    "# Test out the window labelling function\n",
    "test_window, test_label = get_labelled_windows(tf.expand_dims(tf.range(30)+1,axis=0),horizon=HORIZON)\n",
    "print(f\"Window: {tf.squeeze(test_window).numpy()} -> Label: {tf.squeeze(test_label).numpy()}\")"
   ]
  },
  {
   "cell_type": "code",
   "execution_count": 34,
   "id": "dec9e9cc",
   "metadata": {
    "execution": {
     "iopub.execute_input": "2021-10-25T04:41:20.176475Z",
     "iopub.status.busy": "2021-10-25T04:41:20.175651Z",
     "iopub.status.idle": "2021-10-25T04:41:20.178128Z",
     "shell.execute_reply": "2021-10-25T04:41:20.177707Z",
     "shell.execute_reply.started": "2021-10-25T04:33:47.440850Z"
    },
    "papermill": {
     "duration": 0.079487,
     "end_time": "2021-10-25T04:41:20.178237",
     "exception": false,
     "start_time": "2021-10-25T04:41:20.098750",
     "status": "completed"
    },
    "tags": []
   },
   "outputs": [],
   "source": [
    "# Create function to view NumPy arrays as windows\n",
    "def make_windows(x, window_size=30,horizon=7):\n",
    "    \"\"\"\n",
    "    Turns a 1D array into a 2D array of sequential windows of window size\n",
    "    \"\"\"\n",
    "    # Create a window of specific window_size(add the horizon on the end for later labelling)\n",
    "    window_step = np.expand_dims(np.arange(window_size+horizon),axis=0)\n",
    "    \n",
    "    # Create 2D array of multiple window steps (minus 1 to account for 0 indexing)\n",
    "    window_indexes = window_step + np.expand_dims(np.arange(len(x)-(window_size+horizon-1)),axis=0).T\n",
    "    \n",
    "    # Index on the target array(time series) with 2D array of multiple window steps\n",
    "    #\n",
    "    windowed_array = x[window_indexes]\n",
    "    \n",
    "    # Get the labelled windows\n",
    "    windows, labels = get_labelled_windows(windowed_array, horizon=horizon)\n",
    "    \n",
    "    return windows, labels"
   ]
  },
  {
   "cell_type": "code",
   "execution_count": 35,
   "id": "3fd42b23",
   "metadata": {
    "execution": {
     "iopub.execute_input": "2021-10-25T04:41:20.324809Z",
     "iopub.status.busy": "2021-10-25T04:41:20.323576Z",
     "iopub.status.idle": "2021-10-25T04:41:20.328031Z",
     "shell.execute_reply": "2021-10-25T04:41:20.328472Z",
     "shell.execute_reply.started": "2021-10-25T04:33:47.449484Z"
    },
    "papermill": {
     "duration": 0.079029,
     "end_time": "2021-10-25T04:41:20.328604",
     "exception": false,
     "start_time": "2021-10-25T04:41:20.249575",
     "status": "completed"
    },
    "tags": []
   },
   "outputs": [
    {
     "data": {
      "text/plain": [
       "(595, 595)"
      ]
     },
     "execution_count": 35,
     "metadata": {},
     "output_type": "execute_result"
    }
   ],
   "source": [
    "full_windows, full_labels = make_windows(cases, window_size=WINDOW_SIZE, horizon=HORIZON)\n",
    "len(full_windows), len(full_labels)"
   ]
  },
  {
   "cell_type": "code",
   "execution_count": 36,
   "id": "423f25c2",
   "metadata": {
    "execution": {
     "iopub.execute_input": "2021-10-25T04:41:20.476716Z",
     "iopub.status.busy": "2021-10-25T04:41:20.476149Z",
     "iopub.status.idle": "2021-10-25T04:41:20.480734Z",
     "shell.execute_reply": "2021-10-25T04:41:20.481325Z",
     "shell.execute_reply.started": "2021-10-25T04:33:47.464224Z"
    },
    "papermill": {
     "duration": 0.082126,
     "end_time": "2021-10-25T04:41:20.481508",
     "exception": false,
     "start_time": "2021-10-25T04:41:20.399382",
     "status": "completed"
    },
    "tags": []
   },
   "outputs": [
    {
     "name": "stdout",
     "output_type": "stream",
     "text": [
      "Window: [   98.   286.   493.   684.   809.  2651.   589.  2068.  1692.  2111.\n",
      "  4749.  3100.  4011.  3745.  3162.  3594.  2731.  3031.  2608.  2042.\n",
      "   418. 15152.  6528.  2143.  2183.  2035.  1882.   500.   560.   629.] -> Label: [1761.  380.  568.  854.  977. 1359. 1388.]\n",
      "Window: [  286.   493.   684.   809.  2651.   589.  2068.  1692.  2111.  4749.\n",
      "  3100.  4011.  3745.  3162.  3594.  2731.  3031.  2608.  2042.   418.\n",
      " 15152.  6528.  2143.  2183.  2035.  1882.   500.   560.   629.  1761.] -> Label: [ 380.  568.  854.  977. 1359. 1388. 1894.]\n",
      "Window: [  493.   684.   809.  2651.   589.  2068.  1692.  2111.  4749.  3100.\n",
      "  4011.  3745.  3162.  3594.  2731.  3031.  2608.  2042.   418. 15152.\n",
      "  6528.  2143.  2183.  2035.  1882.   500.   560.   629.  1761.   380.] -> Label: [ 568.  854.  977. 1359. 1388. 1894. 2378.]\n"
     ]
    }
   ],
   "source": [
    "# View the first 3 windows/labels\n",
    "pd.set_option('precision',0)\n",
    "for i in range(3):\n",
    "    print(f\"Window: {full_windows[i]} -> Label: {full_labels[i]}\")"
   ]
  },
  {
   "cell_type": "code",
   "execution_count": 37,
   "id": "99ead214",
   "metadata": {
    "execution": {
     "iopub.execute_input": "2021-10-25T04:41:20.630037Z",
     "iopub.status.busy": "2021-10-25T04:41:20.629267Z",
     "iopub.status.idle": "2021-10-25T04:41:20.631718Z",
     "shell.execute_reply": "2021-10-25T04:41:20.631228Z",
     "shell.execute_reply.started": "2021-10-25T04:33:47.476387Z"
    },
    "papermill": {
     "duration": 0.077817,
     "end_time": "2021-10-25T04:41:20.631840",
     "exception": false,
     "start_time": "2021-10-25T04:41:20.554023",
     "status": "completed"
    },
    "tags": []
   },
   "outputs": [],
   "source": [
    "# make the train/test splits\n",
    "def make_train_test_splits(windows, labels, test_split=0.2):\n",
    "    \n",
    "    \"\"\"\n",
    "    Splits matching pairs of windows and labels into train and test splits\n",
    "    \"\"\"\n",
    "    split_size=int(len(windows)*(1-test_split))\n",
    "    train_windows = windows[:split_size]\n",
    "    train_labels = labels[:split_size]\n",
    "    test_windows = windows[split_size:]\n",
    "    test_labels = labels[split_size:]\n",
    "    return train_windows, test_windows, train_labels,test_labels"
   ]
  },
  {
   "cell_type": "code",
   "execution_count": 38,
   "id": "7447ca0b",
   "metadata": {
    "execution": {
     "iopub.execute_input": "2021-10-25T04:41:20.778106Z",
     "iopub.status.busy": "2021-10-25T04:41:20.777518Z",
     "iopub.status.idle": "2021-10-25T04:41:20.780006Z",
     "shell.execute_reply": "2021-10-25T04:41:20.780404Z",
     "shell.execute_reply.started": "2021-10-25T04:33:47.485201Z"
    },
    "papermill": {
     "duration": 0.077916,
     "end_time": "2021-10-25T04:41:20.780543",
     "exception": false,
     "start_time": "2021-10-25T04:41:20.702627",
     "status": "completed"
    },
    "tags": []
   },
   "outputs": [
    {
     "data": {
      "text/plain": [
       "(476, 119, 476, 119)"
      ]
     },
     "execution_count": 38,
     "metadata": {},
     "output_type": "execute_result"
    }
   ],
   "source": [
    "train_windows, test_windows, train_labels, test_labels = make_train_test_splits(full_windows, full_labels)\n",
    "len(train_windows), len(test_windows), len(train_labels), len(test_labels)"
   ]
  },
  {
   "cell_type": "markdown",
   "id": "8388a615",
   "metadata": {
    "papermill": {
     "duration": 0.070514,
     "end_time": "2021-10-25T04:41:20.921663",
     "exception": false,
     "start_time": "2021-10-25T04:41:20.851149",
     "status": "completed"
    },
    "tags": []
   },
   "source": [
    "## Make a modelling checkpoint\n",
    "\n",
    "In order for a fair comparison, we want to compare each model's best performance against each model's best performance against each model's best performance.\n",
    "\n",
    "For example, if `model_1` performed incredibly well on epoch 55 but its performance fell off toward epoch 100, we want the version of the model's from epoch 55 to compare to other model's rahter than the version of the model from epoch 100.\n",
    "\n",
    "And the same goes for each of our other models:compare the best agoinst the best.\n",
    "\n",
    "To take of this, we'll implement a `ModelCheckpoint` callback.\n",
    "\n",
    "The `ModelCheckpoint callback` will monitor our model's performance during training and save the best model to file by setting `save_best_only=True`.\n",
    "\n",
    "That way when evaluating our model we could restore its best performing configuration from file.\n",
    "\n",
    "🔑 **Note:** Because of the size of the dataset (smaller than usual), you'll notice our modelling experiment results fluctuate quite a bit during training (hence the implementation of the **ModelCheckpoint** callback to save the best model)."
   ]
  },
  {
   "cell_type": "code",
   "execution_count": null,
   "id": "cf83c672",
   "metadata": {
    "papermill": {
     "duration": 0.071597,
     "end_time": "2021-10-25T04:41:21.064784",
     "exception": false,
     "start_time": "2021-10-25T04:41:20.993187",
     "status": "completed"
    },
    "tags": []
   },
   "outputs": [],
   "source": []
  },
  {
   "cell_type": "code",
   "execution_count": 39,
   "id": "f5c5908e",
   "metadata": {
    "execution": {
     "iopub.execute_input": "2021-10-25T04:41:21.210250Z",
     "iopub.status.busy": "2021-10-25T04:41:21.209502Z",
     "iopub.status.idle": "2021-10-25T04:41:21.211998Z",
     "shell.execute_reply": "2021-10-25T04:41:21.211585Z",
     "shell.execute_reply.started": "2021-10-25T04:33:47.496723Z"
    },
    "papermill": {
     "duration": 0.077236,
     "end_time": "2021-10-25T04:41:21.212110",
     "exception": false,
     "start_time": "2021-10-25T04:41:21.134874",
     "status": "completed"
    },
    "tags": []
   },
   "outputs": [],
   "source": [
    "import os\n",
    "\n",
    "# Create a function to implement a ModelCheckpoint callback with a specific filename\n",
    "def create_model_checkpoint(model_name, save_path='model_checkpoint'):\n",
    "    return tf.keras.callbacks.ModelCheckpoint(filepath=os.path.join(save_path, model_name),\n",
    "                                             verbose=0,\n",
    "                                             save_best_only=True)"
   ]
  },
  {
   "cell_type": "markdown",
   "id": "f9d4a7e0",
   "metadata": {
    "papermill": {
     "duration": 0.073718,
     "end_time": "2021-10-25T04:41:21.356072",
     "exception": false,
     "start_time": "2021-10-25T04:41:21.282354",
     "status": "completed"
    },
    "tags": []
   },
   "source": [
    "## Model 1: Dense Model(Window=30, horizon =7)"
   ]
  },
  {
   "cell_type": "code",
   "execution_count": 40,
   "id": "0f283d89",
   "metadata": {
    "execution": {
     "iopub.execute_input": "2021-10-25T04:41:21.510509Z",
     "iopub.status.busy": "2021-10-25T04:41:21.509785Z",
     "iopub.status.idle": "2021-10-25T04:41:59.317209Z",
     "shell.execute_reply": "2021-10-25T04:41:59.317688Z",
     "shell.execute_reply.started": "2021-10-25T04:33:47.504789Z"
    },
    "papermill": {
     "duration": 37.88671,
     "end_time": "2021-10-25T04:41:59.317850",
     "exception": false,
     "start_time": "2021-10-25T04:41:21.431140",
     "status": "completed"
    },
    "tags": []
   },
   "outputs": [
    {
     "name": "stderr",
     "output_type": "stream",
     "text": [
      "2021-10-25 04:41:21.614736: I tensorflow/compiler/mlir/mlir_graph_optimization_pass.cc:185] None of the MLIR Optimization Passes are enabled (registered 2)\n"
     ]
    },
    {
     "name": "stdout",
     "output_type": "stream",
     "text": [
      "Epoch 1/100\n",
      "4/4 [==============================] - 1s 51ms/step - loss: 319959.6562 - mae: 319959.6562 - val_loss: 319116.2812 - val_mae: 319116.2812\n"
     ]
    },
    {
     "name": "stderr",
     "output_type": "stream",
     "text": [
      "2021-10-25 04:41:23.267274: W tensorflow/python/util/util.cc:348] Sets are not currently considered sequences, but this may change in the future, so consider avoiding using them.\n"
     ]
    },
    {
     "name": "stdout",
     "output_type": "stream",
     "text": [
      "Epoch 2/100\n",
      "4/4 [==============================] - 0s 8ms/step - loss: 198163.9062 - mae: 198163.9062 - val_loss: 192482.8281 - val_mae: 192482.8281\n",
      "Epoch 3/100\n",
      "4/4 [==============================] - 0s 8ms/step - loss: 127234.1328 - mae: 127234.1328 - val_loss: 152909.2031 - val_mae: 152909.2031\n",
      "Epoch 4/100\n",
      "4/4 [==============================] - 0s 9ms/step - loss: 103925.8828 - mae: 103925.8828 - val_loss: 147859.8281 - val_mae: 147859.8281\n",
      "Epoch 5/100\n",
      "4/4 [==============================] - 0s 9ms/step - loss: 99336.5469 - mae: 99336.5469 - val_loss: 135178.9844 - val_mae: 135178.9844\n",
      "Epoch 6/100\n",
      "4/4 [==============================] - 0s 9ms/step - loss: 92696.3984 - mae: 92696.3984 - val_loss: 118987.9844 - val_mae: 118987.9844\n",
      "Epoch 7/100\n",
      "4/4 [==============================] - 0s 8ms/step - loss: 86138.6719 - mae: 86138.6719 - val_loss: 106888.2578 - val_mae: 106888.2578\n",
      "Epoch 8/100\n",
      "4/4 [==============================] - 0s 8ms/step - loss: 80415.7578 - mae: 80415.7578 - val_loss: 102125.2500 - val_mae: 102125.2500\n",
      "Epoch 9/100\n",
      "4/4 [==============================] - 0s 8ms/step - loss: 77719.7500 - mae: 77719.7500 - val_loss: 102121.3750 - val_mae: 102121.3750\n",
      "Epoch 10/100\n",
      "4/4 [==============================] - 0s 8ms/step - loss: 75571.0625 - mae: 75571.0625 - val_loss: 99225.5469 - val_mae: 99225.5469\n",
      "Epoch 11/100\n",
      "4/4 [==============================] - 0s 9ms/step - loss: 71493.6797 - mae: 71493.6797 - val_loss: 93519.7734 - val_mae: 93519.7734\n",
      "Epoch 12/100\n",
      "4/4 [==============================] - 0s 8ms/step - loss: 68871.8047 - mae: 68871.8047 - val_loss: 89181.7656 - val_mae: 89181.7656\n",
      "Epoch 13/100\n",
      "4/4 [==============================] - 0s 8ms/step - loss: 65866.4766 - mae: 65866.4766 - val_loss: 84736.0000 - val_mae: 84736.0000\n",
      "Epoch 14/100\n",
      "4/4 [==============================] - 0s 9ms/step - loss: 62405.1836 - mae: 62405.1836 - val_loss: 81503.7500 - val_mae: 81503.7500\n",
      "Epoch 15/100\n",
      "4/4 [==============================] - 0s 16ms/step - loss: 59782.9609 - mae: 59782.9609 - val_loss: 77958.0078 - val_mae: 77958.0078\n",
      "Epoch 16/100\n",
      "4/4 [==============================] - 0s 13ms/step - loss: 57328.9414 - mae: 57328.9414 - val_loss: 74329.6406 - val_mae: 74329.6406\n",
      "Epoch 17/100\n",
      "4/4 [==============================] - 0s 8ms/step - loss: 54433.8828 - mae: 54433.8828 - val_loss: 70807.9297 - val_mae: 70807.9297\n",
      "Epoch 18/100\n",
      "4/4 [==============================] - 0s 8ms/step - loss: 51663.2148 - mae: 51663.2148 - val_loss: 68159.8750 - val_mae: 68159.8750\n",
      "Epoch 19/100\n",
      "4/4 [==============================] - 0s 8ms/step - loss: 49251.1445 - mae: 49251.1445 - val_loss: 66695.1953 - val_mae: 66695.1953\n",
      "Epoch 20/100\n",
      "4/4 [==============================] - 0s 8ms/step - loss: 47775.0859 - mae: 47775.0859 - val_loss: 64556.8008 - val_mae: 64556.8008\n",
      "Epoch 21/100\n",
      "4/4 [==============================] - 0s 8ms/step - loss: 45994.7461 - mae: 45994.7461 - val_loss: 62999.9375 - val_mae: 62999.9375\n",
      "Epoch 22/100\n",
      "4/4 [==============================] - 0s 8ms/step - loss: 44905.8164 - mae: 44905.8203 - val_loss: 62387.4531 - val_mae: 62387.4531\n",
      "Epoch 23/100\n",
      "4/4 [==============================] - 0s 8ms/step - loss: 44140.8867 - mae: 44140.8867 - val_loss: 61072.2148 - val_mae: 61072.2148\n",
      "Epoch 24/100\n",
      "4/4 [==============================] - 0s 8ms/step - loss: 43340.9141 - mae: 43340.9141 - val_loss: 60486.3203 - val_mae: 60486.3203\n",
      "Epoch 25/100\n",
      "4/4 [==============================] - 0s 14ms/step - loss: 42855.7383 - mae: 42855.7383 - val_loss: 60338.3438 - val_mae: 60338.3438\n",
      "Epoch 26/100\n",
      "4/4 [==============================] - 0s 8ms/step - loss: 41743.2266 - mae: 41743.2266 - val_loss: 58989.3867 - val_mae: 58989.3867\n",
      "Epoch 27/100\n",
      "4/4 [==============================] - 0s 8ms/step - loss: 41407.4688 - mae: 41407.4688 - val_loss: 60297.6914 - val_mae: 60297.6914\n",
      "Epoch 28/100\n",
      "4/4 [==============================] - 0s 7ms/step - loss: 40969.3008 - mae: 40969.3008 - val_loss: 58183.9414 - val_mae: 58183.9414\n",
      "Epoch 29/100\n",
      "4/4 [==============================] - 0s 9ms/step - loss: 40344.5703 - mae: 40344.5703 - val_loss: 58280.0664 - val_mae: 58280.0664\n",
      "Epoch 30/100\n",
      "4/4 [==============================] - 0s 8ms/step - loss: 39909.2188 - mae: 39909.2188 - val_loss: 57194.9570 - val_mae: 57194.9570\n",
      "Epoch 31/100\n",
      "4/4 [==============================] - 0s 8ms/step - loss: 39749.7734 - mae: 39749.7734 - val_loss: 56928.4922 - val_mae: 56928.4922\n",
      "Epoch 32/100\n",
      "4/4 [==============================] - 0s 9ms/step - loss: 39180.2188 - mae: 39180.2188 - val_loss: 56279.5508 - val_mae: 56279.5508\n",
      "Epoch 33/100\n",
      "4/4 [==============================] - 0s 8ms/step - loss: 38880.5195 - mae: 38880.5195 - val_loss: 55819.7656 - val_mae: 55819.7656\n",
      "Epoch 34/100\n",
      "4/4 [==============================] - 0s 8ms/step - loss: 38611.1914 - mae: 38611.1914 - val_loss: 55236.2188 - val_mae: 55236.2188\n",
      "Epoch 35/100\n",
      "4/4 [==============================] - 0s 8ms/step - loss: 38248.6289 - mae: 38248.6289 - val_loss: 54630.0664 - val_mae: 54630.0664\n",
      "Epoch 36/100\n",
      "4/4 [==============================] - 0s 8ms/step - loss: 37771.7539 - mae: 37771.7539 - val_loss: 54141.0859 - val_mae: 54141.0859\n",
      "Epoch 37/100\n",
      "4/4 [==============================] - 0s 8ms/step - loss: 37527.3008 - mae: 37527.3008 - val_loss: 53540.7734 - val_mae: 53540.7734\n",
      "Epoch 38/100\n",
      "4/4 [==============================] - 0s 9ms/step - loss: 37316.5898 - mae: 37316.5898 - val_loss: 53093.7656 - val_mae: 53093.7656\n",
      "Epoch 39/100\n",
      "4/4 [==============================] - 0s 8ms/step - loss: 36915.9844 - mae: 36915.9844 - val_loss: 53095.9922 - val_mae: 53095.9922\n",
      "Epoch 40/100\n",
      "4/4 [==============================] - 0s 8ms/step - loss: 36991.0508 - mae: 36991.0547 - val_loss: 52759.8789 - val_mae: 52759.8789\n",
      "Epoch 41/100\n",
      "4/4 [==============================] - 0s 8ms/step - loss: 36521.4531 - mae: 36521.4531 - val_loss: 52562.9492 - val_mae: 52562.9492\n",
      "Epoch 42/100\n",
      "4/4 [==============================] - 0s 9ms/step - loss: 36543.3516 - mae: 36543.3516 - val_loss: 52172.4883 - val_mae: 52172.4883\n",
      "Epoch 43/100\n",
      "4/4 [==============================] - 0s 8ms/step - loss: 36274.0195 - mae: 36274.0195 - val_loss: 51783.2422 - val_mae: 51783.2422\n",
      "Epoch 44/100\n",
      "4/4 [==============================] - 0s 9ms/step - loss: 36028.9102 - mae: 36028.9102 - val_loss: 51342.4688 - val_mae: 51342.4688\n",
      "Epoch 45/100\n",
      "4/4 [==============================] - 0s 9ms/step - loss: 35852.8164 - mae: 35852.8164 - val_loss: 51176.3516 - val_mae: 51176.3516\n",
      "Epoch 46/100\n",
      "4/4 [==============================] - 0s 8ms/step - loss: 35667.7461 - mae: 35667.7461 - val_loss: 51438.0859 - val_mae: 51438.0859\n",
      "Epoch 47/100\n",
      "4/4 [==============================] - 0s 8ms/step - loss: 35422.2305 - mae: 35422.2305 - val_loss: 50704.2344 - val_mae: 50704.2344\n",
      "Epoch 48/100\n",
      "4/4 [==============================] - 0s 8ms/step - loss: 35057.8555 - mae: 35057.8555 - val_loss: 50873.9453 - val_mae: 50873.9453\n",
      "Epoch 49/100\n",
      "4/4 [==============================] - 0s 8ms/step - loss: 34944.4766 - mae: 34944.4766 - val_loss: 50320.6094 - val_mae: 50320.6094\n",
      "Epoch 50/100\n",
      "4/4 [==============================] - 0s 8ms/step - loss: 35112.0430 - mae: 35112.0430 - val_loss: 50494.6055 - val_mae: 50494.6055\n",
      "Epoch 51/100\n",
      "4/4 [==============================] - 0s 19ms/step - loss: 34906.5547 - mae: 34906.5547 - val_loss: 50086.1211 - val_mae: 50086.1211\n",
      "Epoch 52/100\n",
      "4/4 [==============================] - 0s 8ms/step - loss: 34991.4258 - mae: 34991.4258 - val_loss: 50115.9844 - val_mae: 50115.9844\n",
      "Epoch 53/100\n",
      "4/4 [==============================] - 0s 7ms/step - loss: 34470.3438 - mae: 34470.3438 - val_loss: 50150.4961 - val_mae: 50150.4961\n",
      "Epoch 54/100\n",
      "4/4 [==============================] - 0s 8ms/step - loss: 34664.4531 - mae: 34664.4531 - val_loss: 50078.7969 - val_mae: 50078.7969\n",
      "Epoch 55/100\n",
      "4/4 [==============================] - 0s 8ms/step - loss: 34342.4648 - mae: 34342.4648 - val_loss: 49430.6172 - val_mae: 49430.6172\n",
      "Epoch 56/100\n",
      "4/4 [==============================] - 0s 9ms/step - loss: 33987.1562 - mae: 33987.1562 - val_loss: 50205.3203 - val_mae: 50205.3203\n",
      "Epoch 57/100\n",
      "4/4 [==============================] - 0s 8ms/step - loss: 34318.9609 - mae: 34318.9609 - val_loss: 51802.3359 - val_mae: 51802.3359\n",
      "Epoch 58/100\n",
      "4/4 [==============================] - 0s 8ms/step - loss: 35659.7578 - mae: 35659.7578 - val_loss: 50773.1836 - val_mae: 50773.1836\n",
      "Epoch 59/100\n",
      "4/4 [==============================] - 0s 7ms/step - loss: 34492.6602 - mae: 34492.6602 - val_loss: 49606.8242 - val_mae: 49606.8242\n",
      "Epoch 60/100\n",
      "4/4 [==============================] - 0s 7ms/step - loss: 33872.9922 - mae: 33872.9922 - val_loss: 49023.8750 - val_mae: 49023.8750\n",
      "Epoch 61/100\n",
      "4/4 [==============================] - 0s 8ms/step - loss: 34776.1523 - mae: 34776.1523 - val_loss: 48691.5000 - val_mae: 48691.5000\n",
      "Epoch 62/100\n",
      "4/4 [==============================] - 0s 8ms/step - loss: 33745.5195 - mae: 33745.5195 - val_loss: 48280.5977 - val_mae: 48280.5977\n",
      "Epoch 63/100\n",
      "4/4 [==============================] - 0s 8ms/step - loss: 33512.6797 - mae: 33512.6797 - val_loss: 48168.5977 - val_mae: 48168.5977\n",
      "Epoch 64/100\n",
      "4/4 [==============================] - 0s 9ms/step - loss: 33286.0312 - mae: 33286.0312 - val_loss: 48189.0156 - val_mae: 48189.0156\n",
      "Epoch 65/100\n",
      "4/4 [==============================] - 0s 16ms/step - loss: 33206.7070 - mae: 33206.7070 - val_loss: 48402.3633 - val_mae: 48402.3633\n",
      "Epoch 66/100\n",
      "4/4 [==============================] - 0s 9ms/step - loss: 33162.2891 - mae: 33162.2891 - val_loss: 48604.3203 - val_mae: 48604.3203\n",
      "Epoch 67/100\n",
      "4/4 [==============================] - 0s 8ms/step - loss: 33604.1367 - mae: 33604.1367 - val_loss: 48115.1484 - val_mae: 48115.1484\n",
      "Epoch 68/100\n",
      "4/4 [==============================] - 0s 12ms/step - loss: 33253.7852 - mae: 33253.7852 - val_loss: 48636.6641 - val_mae: 48636.6641\n",
      "Epoch 69/100\n",
      "4/4 [==============================] - 0s 11ms/step - loss: 33552.6914 - mae: 33552.6914 - val_loss: 47584.1094 - val_mae: 47584.1094\n",
      "Epoch 70/100\n",
      "4/4 [==============================] - 0s 9ms/step - loss: 33283.3242 - mae: 33283.3242 - val_loss: 47501.0312 - val_mae: 47501.0312\n",
      "Epoch 71/100\n",
      "4/4 [==============================] - 0s 9ms/step - loss: 33440.2617 - mae: 33440.2617 - val_loss: 48139.9258 - val_mae: 48139.9258\n",
      "Epoch 72/100\n",
      "4/4 [==============================] - 0s 8ms/step - loss: 33421.3516 - mae: 33421.3516 - val_loss: 47876.7227 - val_mae: 47876.7227\n",
      "Epoch 73/100\n",
      "4/4 [==============================] - 0s 7ms/step - loss: 33212.0117 - mae: 33212.0117 - val_loss: 47424.5703 - val_mae: 47424.5703\n",
      "Epoch 74/100\n",
      "4/4 [==============================] - 0s 8ms/step - loss: 33256.1836 - mae: 33256.1836 - val_loss: 47054.2422 - val_mae: 47054.2422\n",
      "Epoch 75/100\n",
      "4/4 [==============================] - 0s 8ms/step - loss: 33004.9258 - mae: 33004.9258 - val_loss: 47278.0000 - val_mae: 47278.0000\n",
      "Epoch 76/100\n",
      "4/4 [==============================] - 0s 8ms/step - loss: 32665.6387 - mae: 32665.6387 - val_loss: 46923.0117 - val_mae: 46923.0117\n",
      "Epoch 77/100\n",
      "4/4 [==============================] - 0s 9ms/step - loss: 32612.2227 - mae: 32612.2227 - val_loss: 47137.3633 - val_mae: 47137.3633\n",
      "Epoch 78/100\n",
      "4/4 [==============================] - 0s 8ms/step - loss: 32304.9121 - mae: 32304.9121 - val_loss: 46991.5469 - val_mae: 46991.5469\n",
      "Epoch 79/100\n",
      "4/4 [==============================] - 0s 8ms/step - loss: 32288.5762 - mae: 32288.5762 - val_loss: 47107.2227 - val_mae: 47107.2227\n",
      "Epoch 80/100\n",
      "4/4 [==============================] - 0s 8ms/step - loss: 32241.6621 - mae: 32241.6621 - val_loss: 46955.7383 - val_mae: 46955.7383\n",
      "Epoch 81/100\n",
      "4/4 [==============================] - 0s 8ms/step - loss: 32182.7148 - mae: 32182.7148 - val_loss: 46540.4297 - val_mae: 46540.4297\n",
      "Epoch 82/100\n",
      "4/4 [==============================] - 0s 9ms/step - loss: 32150.2676 - mae: 32150.2676 - val_loss: 46469.6914 - val_mae: 46469.6914\n",
      "Epoch 83/100\n",
      "4/4 [==============================] - 0s 8ms/step - loss: 32023.8184 - mae: 32023.8184 - val_loss: 46568.7109 - val_mae: 46568.7109\n",
      "Epoch 84/100\n",
      "4/4 [==============================] - 0s 8ms/step - loss: 32191.5371 - mae: 32191.5371 - val_loss: 46121.8164 - val_mae: 46121.8164\n",
      "Epoch 85/100\n",
      "4/4 [==============================] - 0s 8ms/step - loss: 31915.2656 - mae: 31915.2656 - val_loss: 46418.9844 - val_mae: 46418.9844\n",
      "Epoch 86/100\n",
      "4/4 [==============================] - 0s 8ms/step - loss: 31999.8066 - mae: 31999.8066 - val_loss: 46070.2031 - val_mae: 46070.2031\n",
      "Epoch 87/100\n",
      "4/4 [==============================] - 0s 8ms/step - loss: 32506.6211 - mae: 32506.6230 - val_loss: 46279.7188 - val_mae: 46279.7188\n",
      "Epoch 88/100\n",
      "4/4 [==============================] - 0s 7ms/step - loss: 32032.7773 - mae: 32032.7773 - val_loss: 46357.1758 - val_mae: 46357.1758\n",
      "Epoch 89/100\n",
      "4/4 [==============================] - 0s 7ms/step - loss: 32058.0332 - mae: 32058.0332 - val_loss: 45789.3008 - val_mae: 45789.3008\n",
      "Epoch 90/100\n",
      "4/4 [==============================] - 0s 8ms/step - loss: 31756.7402 - mae: 31756.7402 - val_loss: 45930.1602 - val_mae: 45930.1602\n",
      "Epoch 91/100\n",
      "4/4 [==============================] - 0s 8ms/step - loss: 31949.3652 - mae: 31949.3652 - val_loss: 45868.3203 - val_mae: 45868.3203\n",
      "Epoch 92/100\n",
      "4/4 [==============================] - 0s 7ms/step - loss: 32060.0684 - mae: 32060.0684 - val_loss: 47256.0898 - val_mae: 47256.0898\n",
      "Epoch 93/100\n",
      "4/4 [==============================] - 0s 8ms/step - loss: 31900.4043 - mae: 31900.4043 - val_loss: 46375.4688 - val_mae: 46375.4688\n",
      "Epoch 94/100\n",
      "4/4 [==============================] - 0s 7ms/step - loss: 31901.6309 - mae: 31901.6309 - val_loss: 46607.0195 - val_mae: 46607.0195\n",
      "Epoch 95/100\n",
      "4/4 [==============================] - 0s 7ms/step - loss: 32013.3906 - mae: 32013.3906 - val_loss: 45442.3906 - val_mae: 45442.3906\n",
      "Epoch 96/100\n",
      "4/4 [==============================] - 0s 15ms/step - loss: 31702.2520 - mae: 31702.2520 - val_loss: 45314.6094 - val_mae: 45314.6094\n",
      "Epoch 97/100\n",
      "4/4 [==============================] - 0s 8ms/step - loss: 31431.4922 - mae: 31431.4922 - val_loss: 45407.9297 - val_mae: 45407.9297\n",
      "Epoch 98/100\n",
      "4/4 [==============================] - 0s 8ms/step - loss: 31334.8984 - mae: 31334.8984 - val_loss: 45790.1172 - val_mae: 45790.1172\n",
      "Epoch 99/100\n",
      "4/4 [==============================] - 0s 8ms/step - loss: 31780.5527 - mae: 31780.5527 - val_loss: 45615.9844 - val_mae: 45615.9844\n",
      "Epoch 100/100\n",
      "4/4 [==============================] - 0s 7ms/step - loss: 31872.1602 - mae: 31872.1602 - val_loss: 45499.9570 - val_mae: 45499.9570\n"
     ]
    },
    {
     "data": {
      "text/plain": [
       "<keras.callbacks.History at 0x7fe6780b9210>"
      ]
     },
     "execution_count": 40,
     "metadata": {},
     "output_type": "execute_result"
    }
   ],
   "source": [
    "from tensorflow.keras import layers, Sequential\n",
    "\n",
    "# set random seed for as reproducile results as possible\n",
    "tf.random.set_seed(42)\n",
    "\n",
    "# Model\n",
    "model_1 = Sequential(name='model_1_dense')\n",
    "model_1.add(layers.Dense(128, activation='relu'))\n",
    "model_1.add(layers.Dense(HORIZON,activation='linear'))\n",
    "\n",
    "\n",
    "# compile model\n",
    "model_1.compile(loss='mae',\n",
    "               optimizer=tf.keras.optimizers.Adam(),\n",
    "               metrics=['mae'])\n",
    "\n",
    "# Fit the model\n",
    "model_1.fit(x=train_windows,\n",
    "           y=train_labels,\n",
    "           epochs=100,\n",
    "           verbose=1,\n",
    "           batch_size=128,\n",
    "           validation_data=(test_windows,test_labels),\n",
    "           callbacks=[create_model_checkpoint(model_name=model_1.name)])"
   ]
  },
  {
   "cell_type": "code",
   "execution_count": 41,
   "id": "46e5e0b8",
   "metadata": {
    "execution": {
     "iopub.execute_input": "2021-10-25T04:41:59.570876Z",
     "iopub.status.busy": "2021-10-25T04:41:59.570062Z",
     "iopub.status.idle": "2021-10-25T04:41:59.622900Z",
     "shell.execute_reply": "2021-10-25T04:41:59.622412Z",
     "shell.execute_reply.started": "2021-10-25T04:34:25.183045Z"
    },
    "papermill": {
     "duration": 0.181203,
     "end_time": "2021-10-25T04:41:59.623024",
     "exception": false,
     "start_time": "2021-10-25T04:41:59.441821",
     "status": "completed"
    },
    "tags": []
   },
   "outputs": [
    {
     "name": "stdout",
     "output_type": "stream",
     "text": [
      "4/4 [==============================] - 0s 2ms/step - loss: 45499.9570 - mae: 45499.9570\n"
     ]
    },
    {
     "data": {
      "text/plain": [
       "[45499.95703125, 45499.95703125]"
      ]
     },
     "execution_count": 41,
     "metadata": {},
     "output_type": "execute_result"
    }
   ],
   "source": [
    "# Evaluate modelon test data\n",
    "model_1.evaluate(test_windows, test_labels)"
   ]
  },
  {
   "cell_type": "code",
   "execution_count": 42,
   "id": "036bf0b7",
   "metadata": {
    "execution": {
     "iopub.execute_input": "2021-10-25T04:41:59.879655Z",
     "iopub.status.busy": "2021-10-25T04:41:59.878764Z",
     "iopub.status.idle": "2021-10-25T04:41:59.880812Z",
     "shell.execute_reply": "2021-10-25T04:41:59.881179Z",
     "shell.execute_reply.started": "2021-10-25T04:34:25.249928Z"
    },
    "papermill": {
     "duration": 0.132908,
     "end_time": "2021-10-25T04:41:59.881322",
     "exception": false,
     "start_time": "2021-10-25T04:41:59.748414",
     "status": "completed"
    },
    "tags": []
   },
   "outputs": [],
   "source": [
    "# make preds\n",
    "def make_preds(model,input_data):\n",
    "    \n",
    "    forecast = model.predict(input_data)\n",
    "    return tf.squeeze(forecast)"
   ]
  },
  {
   "cell_type": "code",
   "execution_count": 43,
   "id": "e2539359",
   "metadata": {
    "execution": {
     "iopub.execute_input": "2021-10-25T04:42:00.133745Z",
     "iopub.status.busy": "2021-10-25T04:42:00.132964Z",
     "iopub.status.idle": "2021-10-25T04:42:00.244050Z",
     "shell.execute_reply": "2021-10-25T04:42:00.244529Z",
     "shell.execute_reply.started": "2021-10-25T04:34:25.256369Z"
    },
    "papermill": {
     "duration": 0.239341,
     "end_time": "2021-10-25T04:42:00.244694",
     "exception": false,
     "start_time": "2021-10-25T04:42:00.005353",
     "status": "completed"
    },
    "tags": []
   },
   "outputs": [
    {
     "data": {
      "text/plain": [
       "(119,\n",
       " <tf.Tensor: shape=(10, 7), dtype=float32, numpy=\n",
       " array([[306631.8 , 287545.72, 320737.12, 347159.78, 383590.3 , 384134.7 ,\n",
       "         376571.22],\n",
       "        [326000.2 , 309793.3 , 360737.8 , 419256.6 , 377213.7 , 427850.22,\n",
       "         390622.47],\n",
       "        [321288.25, 356928.72, 375060.62, 346537.47, 368993.1 , 284555.97,\n",
       "         315831.53],\n",
       "        [343910.47, 419797.66, 386232.3 , 344979.5 , 306132.28, 373748.3 ,\n",
       "         285887.22],\n",
       "        [386569.5 , 364066.25, 341468.5 , 284664.34, 272769.94, 278783.34,\n",
       "         349365.06],\n",
       "        [347108.12, 318603.62, 346185.03, 289252.62, 291310.6 , 344523.03,\n",
       "         361641.78],\n",
       "        [398365.7 , 368950.2 , 310426.2 , 274005.8 , 364634.  , 418583.25,\n",
       "         368996.47],\n",
       "        [355316.8 , 350591.53, 252823.08, 363391.44, 422010.34, 346759.6 ,\n",
       "         379396.28],\n",
       "        [274670.16, 282118.6 , 344087.38, 384117.03, 411617.88, 383828.47,\n",
       "         345674.88],\n",
       "        [271079.72, 342814.  , 392403.38, 392066.94, 372806.38, 339375.88,\n",
       "         273284.97]], dtype=float32)>)"
      ]
     },
     "execution_count": 43,
     "metadata": {},
     "output_type": "execute_result"
    }
   ],
   "source": [
    "# make prediction using model_1 on the test dataset\n",
    "model_1_preds = make_preds(model_1,test_windows)\n",
    "len(model_1_preds), model_1_preds[:10]"
   ]
  },
  {
   "cell_type": "markdown",
   "id": "2debac9d",
   "metadata": {
    "papermill": {
     "duration": 0.123333,
     "end_time": "2021-10-25T04:42:00.496523",
     "exception": false,
     "start_time": "2021-10-25T04:42:00.373190",
     "status": "completed"
    },
    "tags": []
   },
   "source": [
    "## Make our evaluation function work for larger horizons"
   ]
  },
  {
   "cell_type": "code",
   "execution_count": 44,
   "id": "e10ac5c3",
   "metadata": {
    "execution": {
     "iopub.execute_input": "2021-10-25T04:42:00.753949Z",
     "iopub.status.busy": "2021-10-25T04:42:00.752320Z",
     "iopub.status.idle": "2021-10-25T04:42:00.754570Z",
     "shell.execute_reply": "2021-10-25T04:42:00.754986Z",
     "shell.execute_reply.started": "2021-10-25T04:34:25.375343Z"
    },
    "papermill": {
     "duration": 0.13481,
     "end_time": "2021-10-25T04:42:00.755115",
     "exception": false,
     "start_time": "2021-10-25T04:42:00.620305",
     "status": "completed"
    },
    "tags": []
   },
   "outputs": [],
   "source": [
    "def evaluate_preds(y_true, y_pred):\n",
    "    \"\"\"\n",
    "    Calculates all the metrics used for Mean Absolute Error, Mean Squared Error,\n",
    "    Root Mean Squared Error, Mean Absolute Percentage Error, Mean Absolute Scaled Error\n",
    "    ----------------------------------------------------------------------------------\n",
    "    y_true = True labels \n",
    "    y_pred = Predicted labels\n",
    "    \n",
    "    \"\"\"\n",
    "    y_true = tf.cast(y_true,dtype=tf.float32)\n",
    "    y_pred = tf.cast(y_pred,dtype=tf.float32)\n",
    "    \n",
    "   # calculate various metric\n",
    "    mae = tf.keras.metrics.mean_absolute_error(y_true,y_pred)\n",
    "    mse = tf.keras.metrics.mean_squared_error(y_true,y_pred)\n",
    "    rmse = tf.sqrt(mse)\n",
    "    mape = tf.keras.metrics.mean_absolute_percentage_error(y_true, y_pred)\n",
    "    mase = mean_absolute_scaled_error(y_true,y_pred)\n",
    "    \n",
    "    # Account for different sized metrics (for longer horizons, reduce to single number)\n",
    "    if mae.ndim > 0:\n",
    "        mae = tf.reduce_mean(mae)\n",
    "        mse = tf.reduce_mean(mse)\n",
    "        rmse = tf.reduce_mean(rmse)\n",
    "        mape = tf.reduce_mean(mape)\n",
    "        mase = tf.reduce_mean(mase)\n",
    "    return {'mae':mae.numpy(),\n",
    "           'mse':mse.numpy(),\n",
    "           'rmse':rmse.numpy(),\n",
    "           'mape':mape.numpy(),\n",
    "           'mase':mase.numpy()}"
   ]
  },
  {
   "cell_type": "code",
   "execution_count": 45,
   "id": "3e395643",
   "metadata": {
    "execution": {
     "iopub.execute_input": "2021-10-25T04:42:01.020279Z",
     "iopub.status.busy": "2021-10-25T04:42:01.019621Z",
     "iopub.status.idle": "2021-10-25T04:42:01.031815Z",
     "shell.execute_reply": "2021-10-25T04:42:01.031328Z",
     "shell.execute_reply.started": "2021-10-25T04:34:25.385454Z"
    },
    "papermill": {
     "duration": 0.152868,
     "end_time": "2021-10-25T04:42:01.031931",
     "exception": false,
     "start_time": "2021-10-25T04:42:00.879063",
     "status": "completed"
    },
    "tags": []
   },
   "outputs": [
    {
     "data": {
      "text/plain": [
       "{'mae': 45499.957,\n",
       " 'mse': 3280609800.0,\n",
       " 'rmse': 55248.16,\n",
       " 'mape': 8.855825,\n",
       " 'mase': 0.5818434}"
      ]
     },
     "execution_count": 45,
     "metadata": {},
     "output_type": "execute_result"
    }
   ],
   "source": [
    "# Get model_3 results aggregated to single values\n",
    "model_1_results = evaluate_preds(y_true=tf.squeeze(test_labels),\n",
    "                                 y_pred=model_1_preds)\n",
    "model_1_results"
   ]
  },
  {
   "cell_type": "markdown",
   "id": "5f1dec89",
   "metadata": {
    "papermill": {
     "duration": 0.125024,
     "end_time": "2021-10-25T04:42:01.282511",
     "exception": false,
     "start_time": "2021-10-25T04:42:01.157487",
     "status": "completed"
    },
    "tags": []
   },
   "source": [
    "## Model 2 : Conv1D (WINDOW=30, HORIZON=7)"
   ]
  },
  {
   "cell_type": "code",
   "execution_count": 46,
   "id": "6e8f2e94",
   "metadata": {
    "execution": {
     "iopub.execute_input": "2021-10-25T04:42:01.552763Z",
     "iopub.status.busy": "2021-10-25T04:42:01.552052Z",
     "iopub.status.idle": "2021-10-25T04:42:14.591543Z",
     "shell.execute_reply": "2021-10-25T04:42:14.591059Z",
     "shell.execute_reply.started": "2021-10-25T04:34:25.408284Z"
    },
    "papermill": {
     "duration": 13.17111,
     "end_time": "2021-10-25T04:42:14.591669",
     "exception": false,
     "start_time": "2021-10-25T04:42:01.420559",
     "status": "completed"
    },
    "tags": []
   },
   "outputs": [
    {
     "name": "stdout",
     "output_type": "stream",
     "text": [
      "Epoch 1/100\n"
     ]
    },
    {
     "name": "stderr",
     "output_type": "stream",
     "text": [
      "2021-10-25 04:42:02.634034: I tensorflow/stream_executor/cuda/cuda_dnn.cc:369] Loaded cuDNN version 8005\n"
     ]
    },
    {
     "name": "stdout",
     "output_type": "stream",
     "text": [
      "15/15 [==============================] - 6s 12ms/step - loss: 307647.5000 - mae: 308153.3438 - val_loss: 112488.3594 - val_mae: 113009.4688\n",
      "Epoch 2/100\n",
      "15/15 [==============================] - 0s 4ms/step - loss: 256857.2500 - mae: 256769.0000 - val_loss: 186512.8125 - val_mae: 191212.7656\n",
      "Epoch 3/100\n",
      "15/15 [==============================] - 0s 4ms/step - loss: 251079.1250 - mae: 251458.4844 - val_loss: 163687.0469 - val_mae: 167660.0781\n",
      "Epoch 4/100\n",
      "15/15 [==============================] - 0s 4ms/step - loss: 251378.2344 - mae: 251456.2344 - val_loss: 172156.7031 - val_mae: 176381.6250\n",
      "Epoch 5/100\n",
      "15/15 [==============================] - 0s 4ms/step - loss: 252725.0469 - mae: 252658.6875 - val_loss: 166704.7656 - val_mae: 170596.3594\n",
      "Epoch 6/100\n",
      "15/15 [==============================] - 0s 4ms/step - loss: 249689.7344 - mae: 249695.1094 - val_loss: 160367.1562 - val_mae: 163971.7656\n",
      "Epoch 7/100\n",
      "15/15 [==============================] - 0s 4ms/step - loss: 251449.6406 - mae: 251654.4844 - val_loss: 183723.5000 - val_mae: 187661.5000\n",
      "Epoch 8/100\n",
      "15/15 [==============================] - 0s 5ms/step - loss: 252072.2188 - mae: 252161.0938 - val_loss: 150637.8750 - val_mae: 153706.8125\n",
      "Epoch 9/100\n",
      "15/15 [==============================] - 0s 4ms/step - loss: 248906.2500 - mae: 249024.4375 - val_loss: 143274.0469 - val_mae: 146153.1719\n",
      "Epoch 10/100\n",
      "15/15 [==============================] - 0s 4ms/step - loss: 250562.3438 - mae: 250529.6875 - val_loss: 161878.9219 - val_mae: 164795.7344\n",
      "Epoch 11/100\n",
      "15/15 [==============================] - 0s 4ms/step - loss: 250060.4062 - mae: 249889.6562 - val_loss: 167120.0312 - val_mae: 169860.6250\n",
      "Epoch 12/100\n",
      "15/15 [==============================] - 0s 4ms/step - loss: 249443.7656 - mae: 249499.4531 - val_loss: 159645.6250 - val_mae: 161922.0938\n",
      "Epoch 13/100\n",
      "15/15 [==============================] - 0s 4ms/step - loss: 248416.9688 - mae: 248388.4375 - val_loss: 194835.7656 - val_mae: 197683.9531\n",
      "Epoch 14/100\n",
      "15/15 [==============================] - 0s 4ms/step - loss: 250878.5156 - mae: 250846.8438 - val_loss: 127275.0781 - val_mae: 129205.8906\n",
      "Epoch 15/100\n",
      "15/15 [==============================] - 0s 4ms/step - loss: 248730.9062 - mae: 248588.9219 - val_loss: 177009.9688 - val_mae: 179942.1875\n",
      "Epoch 16/100\n",
      "15/15 [==============================] - 0s 4ms/step - loss: 249155.0781 - mae: 249090.0625 - val_loss: 175074.2344 - val_mae: 177859.3125\n",
      "Epoch 17/100\n",
      "15/15 [==============================] - 0s 4ms/step - loss: 247848.6719 - mae: 247896.7188 - val_loss: 189497.0469 - val_mae: 192487.8438\n",
      "Epoch 18/100\n",
      "15/15 [==============================] - 0s 4ms/step - loss: 250008.2969 - mae: 249990.0938 - val_loss: 152422.7500 - val_mae: 154810.3281\n",
      "Epoch 19/100\n",
      "15/15 [==============================] - 0s 4ms/step - loss: 249537.7500 - mae: 249361.0469 - val_loss: 155825.5000 - val_mae: 158165.4844\n",
      "Epoch 20/100\n",
      "15/15 [==============================] - 0s 4ms/step - loss: 246079.8125 - mae: 245725.2188 - val_loss: 156281.8125 - val_mae: 158760.0469\n",
      "Epoch 21/100\n",
      "15/15 [==============================] - 0s 4ms/step - loss: 247870.4688 - mae: 247689.1094 - val_loss: 180531.5312 - val_mae: 183370.3750\n",
      "Epoch 22/100\n",
      "15/15 [==============================] - 0s 4ms/step - loss: 247247.6094 - mae: 247470.2969 - val_loss: 181496.6562 - val_mae: 184203.1406\n",
      "Epoch 23/100\n",
      "15/15 [==============================] - 0s 4ms/step - loss: 247559.5938 - mae: 247601.8594 - val_loss: 147773.2969 - val_mae: 150113.3281\n",
      "Epoch 24/100\n",
      "15/15 [==============================] - 0s 9ms/step - loss: 246810.0469 - mae: 246641.6719 - val_loss: 131103.3594 - val_mae: 133050.9844\n",
      "Epoch 25/100\n",
      "15/15 [==============================] - 0s 8ms/step - loss: 246071.7969 - mae: 246160.7188 - val_loss: 172077.7969 - val_mae: 174618.7344\n",
      "Epoch 26/100\n",
      "15/15 [==============================] - 0s 7ms/step - loss: 246393.0781 - mae: 246290.4062 - val_loss: 159129.7344 - val_mae: 161517.9844\n",
      "Epoch 27/100\n",
      "15/15 [==============================] - 0s 7ms/step - loss: 247488.5938 - mae: 247655.7344 - val_loss: 185576.8125 - val_mae: 188467.3594\n",
      "Epoch 28/100\n",
      "15/15 [==============================] - 0s 7ms/step - loss: 244904.6562 - mae: 244919.8438 - val_loss: 152461.4688 - val_mae: 154852.2500\n",
      "Epoch 29/100\n",
      "15/15 [==============================] - 0s 5ms/step - loss: 246603.3750 - mae: 246511.6875 - val_loss: 164344.7344 - val_mae: 166652.3281\n",
      "Epoch 30/100\n",
      "15/15 [==============================] - 0s 4ms/step - loss: 245006.9062 - mae: 245487.2812 - val_loss: 158877.9375 - val_mae: 161374.4219\n",
      "Epoch 31/100\n",
      "15/15 [==============================] - 0s 4ms/step - loss: 246087.2031 - mae: 246272.6406 - val_loss: 183099.4688 - val_mae: 185883.4531\n",
      "Epoch 32/100\n",
      "15/15 [==============================] - 0s 4ms/step - loss: 244201.3594 - mae: 244419.1562 - val_loss: 159039.5781 - val_mae: 161354.9844\n",
      "Epoch 33/100\n",
      "15/15 [==============================] - 0s 4ms/step - loss: 247068.0781 - mae: 247069.1406 - val_loss: 165465.4062 - val_mae: 167962.3906\n",
      "Epoch 34/100\n",
      "15/15 [==============================] - 0s 4ms/step - loss: 244644.8906 - mae: 244867.2656 - val_loss: 182040.8750 - val_mae: 184785.3125\n",
      "Epoch 35/100\n",
      "15/15 [==============================] - 0s 4ms/step - loss: 246704.6094 - mae: 246873.5938 - val_loss: 179349.0469 - val_mae: 182022.1875\n",
      "Epoch 36/100\n",
      "15/15 [==============================] - 0s 4ms/step - loss: 244318.2812 - mae: 244341.9844 - val_loss: 185090.5312 - val_mae: 187837.5938\n",
      "Epoch 37/100\n",
      "15/15 [==============================] - 0s 4ms/step - loss: 246659.9219 - mae: 246759.4531 - val_loss: 146367.2031 - val_mae: 148630.4375\n",
      "Epoch 38/100\n",
      "15/15 [==============================] - 0s 5ms/step - loss: 244670.2188 - mae: 244645.9375 - val_loss: 144833.9688 - val_mae: 147175.8750\n",
      "Epoch 39/100\n",
      "15/15 [==============================] - 0s 4ms/step - loss: 244996.2500 - mae: 245118.4688 - val_loss: 143306.5938 - val_mae: 145503.7812\n",
      "Epoch 40/100\n",
      "15/15 [==============================] - 0s 4ms/step - loss: 242354.2188 - mae: 242165.2812 - val_loss: 156384.6875 - val_mae: 158932.5938\n",
      "Epoch 41/100\n",
      "15/15 [==============================] - 0s 4ms/step - loss: 245209.5938 - mae: 245432.5312 - val_loss: 170530.6250 - val_mae: 173342.0469\n",
      "Epoch 42/100\n",
      "15/15 [==============================] - 0s 4ms/step - loss: 245429.4844 - mae: 245319.7500 - val_loss: 176168.5938 - val_mae: 179076.3438\n",
      "Epoch 43/100\n",
      "15/15 [==============================] - 0s 4ms/step - loss: 243237.3438 - mae: 242949.5938 - val_loss: 184106.8281 - val_mae: 187042.6562\n",
      "Epoch 44/100\n",
      "15/15 [==============================] - 0s 4ms/step - loss: 245748.4375 - mae: 245878.6250 - val_loss: 164036.6562 - val_mae: 166619.1250\n",
      "Epoch 45/100\n",
      "15/15 [==============================] - 0s 4ms/step - loss: 242576.3594 - mae: 242526.7344 - val_loss: 180338.4062 - val_mae: 183077.8438\n",
      "Epoch 46/100\n",
      "15/15 [==============================] - 0s 4ms/step - loss: 243779.4844 - mae: 243865.3438 - val_loss: 166937.7500 - val_mae: 169540.7344\n",
      "Epoch 47/100\n",
      "15/15 [==============================] - 0s 4ms/step - loss: 242097.4844 - mae: 242019.4688 - val_loss: 168113.6406 - val_mae: 170789.4844\n",
      "Epoch 48/100\n",
      "15/15 [==============================] - 0s 4ms/step - loss: 243236.0625 - mae: 243338.1719 - val_loss: 166386.8594 - val_mae: 169028.6562\n",
      "Epoch 49/100\n",
      "15/15 [==============================] - 0s 4ms/step - loss: 240576.6719 - mae: 240320.6094 - val_loss: 175731.6875 - val_mae: 178412.8750\n",
      "Epoch 50/100\n",
      "15/15 [==============================] - 0s 4ms/step - loss: 243302.4531 - mae: 243335.5469 - val_loss: 145927.8281 - val_mae: 148273.9844\n",
      "Epoch 51/100\n",
      "15/15 [==============================] - 0s 6ms/step - loss: 240184.0469 - mae: 240295.6094 - val_loss: 168767.4219 - val_mae: 171553.0000\n",
      "Epoch 52/100\n",
      "15/15 [==============================] - 0s 4ms/step - loss: 240616.7344 - mae: 240760.1406 - val_loss: 175570.0469 - val_mae: 178539.0000\n",
      "Epoch 53/100\n",
      "15/15 [==============================] - 0s 4ms/step - loss: 242119.0781 - mae: 241830.1875 - val_loss: 137947.3906 - val_mae: 140284.1719\n",
      "Epoch 54/100\n",
      "15/15 [==============================] - 0s 5ms/step - loss: 242683.1875 - mae: 242631.2500 - val_loss: 188939.7031 - val_mae: 191973.6562\n",
      "Epoch 55/100\n",
      "15/15 [==============================] - 0s 4ms/step - loss: 242200.6562 - mae: 242057.3594 - val_loss: 138669.1406 - val_mae: 140964.4531\n",
      "Epoch 56/100\n",
      "15/15 [==============================] - 0s 4ms/step - loss: 241217.6094 - mae: 241141.7031 - val_loss: 170543.5781 - val_mae: 173255.7656\n",
      "Epoch 57/100\n",
      "15/15 [==============================] - 0s 4ms/step - loss: 242605.4531 - mae: 242529.7500 - val_loss: 189839.2969 - val_mae: 192827.3438\n",
      "Epoch 58/100\n",
      "15/15 [==============================] - 0s 4ms/step - loss: 241722.0469 - mae: 241735.0625 - val_loss: 136527.7344 - val_mae: 138833.5000\n",
      "Epoch 59/100\n",
      "15/15 [==============================] - 0s 4ms/step - loss: 241519.7344 - mae: 241848.6719 - val_loss: 147943.1562 - val_mae: 150380.2031\n",
      "Epoch 60/100\n",
      "15/15 [==============================] - 0s 4ms/step - loss: 243530.5000 - mae: 243695.7344 - val_loss: 189585.1094 - val_mae: 192629.9688\n",
      "Epoch 61/100\n",
      "15/15 [==============================] - 0s 4ms/step - loss: 244635.0156 - mae: 244658.7188 - val_loss: 195102.3906 - val_mae: 198126.1719\n",
      "Epoch 62/100\n",
      "15/15 [==============================] - 0s 4ms/step - loss: 239421.5156 - mae: 239337.9531 - val_loss: 146224.1875 - val_mae: 148780.1406\n",
      "Epoch 63/100\n",
      "15/15 [==============================] - 0s 4ms/step - loss: 243513.0312 - mae: 243545.6562 - val_loss: 174890.2656 - val_mae: 177888.1562\n",
      "Epoch 64/100\n",
      "15/15 [==============================] - 0s 4ms/step - loss: 242093.6250 - mae: 242049.6875 - val_loss: 171674.9531 - val_mae: 174567.0156\n",
      "Epoch 65/100\n",
      "15/15 [==============================] - 0s 5ms/step - loss: 243777.9531 - mae: 243778.5000 - val_loss: 149970.4844 - val_mae: 152533.0469\n",
      "Epoch 66/100\n",
      "15/15 [==============================] - 0s 4ms/step - loss: 242160.2500 - mae: 242284.1719 - val_loss: 157983.3281 - val_mae: 160657.8281\n",
      "Epoch 67/100\n",
      "15/15 [==============================] - 0s 4ms/step - loss: 239918.6406 - mae: 239482.9062 - val_loss: 173890.1406 - val_mae: 176800.1094\n",
      "Epoch 68/100\n",
      "15/15 [==============================] - 0s 4ms/step - loss: 242110.1875 - mae: 242029.1406 - val_loss: 162336.0938 - val_mae: 165068.1719\n",
      "Epoch 69/100\n",
      "15/15 [==============================] - 0s 4ms/step - loss: 240135.9688 - mae: 240205.7969 - val_loss: 141388.8125 - val_mae: 143819.4844\n",
      "Epoch 70/100\n",
      "15/15 [==============================] - 0s 4ms/step - loss: 242145.3906 - mae: 242054.3906 - val_loss: 177261.4844 - val_mae: 180083.3125\n",
      "Epoch 71/100\n",
      "15/15 [==============================] - 0s 4ms/step - loss: 242796.9688 - mae: 242763.3906 - val_loss: 205120.7656 - val_mae: 208135.8594\n",
      "Epoch 72/100\n",
      "15/15 [==============================] - 0s 4ms/step - loss: 240142.0000 - mae: 240087.4688 - val_loss: 134791.9531 - val_mae: 137126.7656\n",
      "Epoch 73/100\n",
      "15/15 [==============================] - 0s 4ms/step - loss: 240907.1875 - mae: 241279.8125 - val_loss: 177245.7812 - val_mae: 180208.4844\n",
      "Epoch 74/100\n",
      "15/15 [==============================] - 0s 4ms/step - loss: 239612.0312 - mae: 239985.8281 - val_loss: 152792.5781 - val_mae: 155420.4531\n",
      "Epoch 75/100\n",
      "15/15 [==============================] - 0s 4ms/step - loss: 242075.9531 - mae: 241874.5938 - val_loss: 205354.4219 - val_mae: 208440.0312\n",
      "Epoch 76/100\n",
      "15/15 [==============================] - 0s 4ms/step - loss: 242795.7656 - mae: 242955.1719 - val_loss: 167304.5781 - val_mae: 170126.7500\n",
      "Epoch 77/100\n",
      "15/15 [==============================] - 0s 4ms/step - loss: 240087.1562 - mae: 240299.9688 - val_loss: 155318.7969 - val_mae: 157959.4844\n",
      "Epoch 78/100\n",
      "15/15 [==============================] - 0s 4ms/step - loss: 242325.1562 - mae: 242662.2656 - val_loss: 181141.7969 - val_mae: 184066.5938\n",
      "Epoch 79/100\n",
      "15/15 [==============================] - 0s 5ms/step - loss: 241210.2812 - mae: 241352.4844 - val_loss: 143920.6406 - val_mae: 146409.0781\n",
      "Epoch 80/100\n",
      "15/15 [==============================] - 0s 4ms/step - loss: 239596.1562 - mae: 239718.2812 - val_loss: 183509.5156 - val_mae: 186490.5469\n",
      "Epoch 81/100\n",
      "15/15 [==============================] - 0s 4ms/step - loss: 241838.7656 - mae: 241877.8125 - val_loss: 151869.8125 - val_mae: 154501.2031\n",
      "Epoch 82/100\n",
      "15/15 [==============================] - 0s 4ms/step - loss: 241231.7188 - mae: 241244.7188 - val_loss: 193404.9688 - val_mae: 196413.4688\n",
      "Epoch 83/100\n",
      "15/15 [==============================] - 0s 4ms/step - loss: 241908.5312 - mae: 241904.3906 - val_loss: 134177.7969 - val_mae: 136542.7969\n",
      "Epoch 84/100\n",
      "15/15 [==============================] - 0s 4ms/step - loss: 241130.1875 - mae: 241189.0938 - val_loss: 190670.2969 - val_mae: 193748.0000\n",
      "Epoch 85/100\n",
      "15/15 [==============================] - 0s 4ms/step - loss: 241692.5000 - mae: 242055.1094 - val_loss: 190061.5156 - val_mae: 193190.8750\n",
      "Epoch 86/100\n",
      "15/15 [==============================] - 0s 4ms/step - loss: 240256.7500 - mae: 240163.0938 - val_loss: 139480.3906 - val_mae: 141980.4844\n",
      "Epoch 87/100\n",
      "15/15 [==============================] - 0s 4ms/step - loss: 242401.5625 - mae: 242408.9688 - val_loss: 179187.4219 - val_mae: 182209.4062\n",
      "Epoch 88/100\n",
      "15/15 [==============================] - 0s 4ms/step - loss: 240826.2344 - mae: 240852.5469 - val_loss: 165586.4844 - val_mae: 168451.3438\n",
      "Epoch 89/100\n",
      "15/15 [==============================] - 0s 4ms/step - loss: 240211.0625 - mae: 240068.2188 - val_loss: 140624.7500 - val_mae: 143140.1719\n",
      "Epoch 90/100\n",
      "15/15 [==============================] - 0s 4ms/step - loss: 240897.6250 - mae: 241043.2656 - val_loss: 169698.5781 - val_mae: 172527.5625\n",
      "Epoch 91/100\n",
      "15/15 [==============================] - 0s 4ms/step - loss: 242684.2500 - mae: 242669.5781 - val_loss: 172019.0625 - val_mae: 174844.2656\n",
      "Epoch 92/100\n",
      "15/15 [==============================] - 0s 4ms/step - loss: 240655.5156 - mae: 240674.2656 - val_loss: 152188.8750 - val_mae: 154854.8906\n",
      "Epoch 93/100\n",
      "15/15 [==============================] - 0s 4ms/step - loss: 242020.2344 - mae: 242049.6562 - val_loss: 191092.7656 - val_mae: 194151.8594\n",
      "Epoch 94/100\n",
      "15/15 [==============================] - 0s 4ms/step - loss: 240943.7969 - mae: 240790.5938 - val_loss: 158984.8125 - val_mae: 161735.2031\n",
      "Epoch 95/100\n",
      "15/15 [==============================] - 0s 5ms/step - loss: 241409.2344 - mae: 241339.9688 - val_loss: 165381.1406 - val_mae: 168217.9375\n",
      "Epoch 96/100\n",
      "15/15 [==============================] - 0s 4ms/step - loss: 241438.3750 - mae: 241385.4062 - val_loss: 193850.4844 - val_mae: 196939.2656\n",
      "Epoch 97/100\n",
      "15/15 [==============================] - 0s 5ms/step - loss: 242276.8438 - mae: 242152.6719 - val_loss: 140100.1562 - val_mae: 142627.5938\n",
      "Epoch 98/100\n",
      "15/15 [==============================] - 0s 4ms/step - loss: 240451.7812 - mae: 240226.2344 - val_loss: 184559.3281 - val_mae: 187681.7031\n",
      "Epoch 99/100\n",
      "15/15 [==============================] - 0s 4ms/step - loss: 242403.5000 - mae: 242535.7656 - val_loss: 161525.0156 - val_mae: 164362.0312\n",
      "Epoch 100/100\n",
      "15/15 [==============================] - 0s 4ms/step - loss: 240096.8906 - mae: 240291.3281 - val_loss: 160228.0469 - val_mae: 163068.5469\n"
     ]
    },
    {
     "data": {
      "text/plain": [
       "<keras.callbacks.History at 0x7fe686aecd10>"
      ]
     },
     "execution_count": 46,
     "metadata": {},
     "output_type": "execute_result"
    }
   ],
   "source": [
    "from tensorflow.keras.layers import Conv1D\n",
    "\n",
    "# set random seed\n",
    "tf.random.set_seed(42)\n",
    "\n",
    "# model_2\n",
    "model_2 = Sequential(name='model_2_conv1d')\n",
    "model_2.add(layers.Lambda(lambda x : tf.expand_dims(x,axis=1)) )\n",
    "model_2.add(Conv1D(128,kernel_size=3,padding='same',activation='relu'))\n",
    "model_2.add(layers.Dense(HORIZON))\n",
    "\n",
    "# compile\n",
    "model_2.compile(loss='mae',\n",
    "               optimizer='adam',\n",
    "               metrics=['mae'])\n",
    "\n",
    "# fit\n",
    "model_2.fit(train_windows,\n",
    "           train_labels,\n",
    "           epochs=100,\n",
    "           validation_data=(test_windows,test_labels),\n",
    "           callbacks=[create_model_checkpoint(model_name=model_2.name)])"
   ]
  },
  {
   "cell_type": "code",
   "execution_count": 47,
   "id": "36acd304",
   "metadata": {
    "execution": {
     "iopub.execute_input": "2021-10-25T04:42:14.957922Z",
     "iopub.status.busy": "2021-10-25T04:42:14.957344Z",
     "iopub.status.idle": "2021-10-25T04:42:15.015910Z",
     "shell.execute_reply": "2021-10-25T04:42:15.016294Z",
     "shell.execute_reply.started": "2021-10-25T04:34:38.329895Z"
    },
    "papermill": {
     "duration": 0.243729,
     "end_time": "2021-10-25T04:42:15.016476",
     "exception": false,
     "start_time": "2021-10-25T04:42:14.772747",
     "status": "completed"
    },
    "tags": []
   },
   "outputs": [
    {
     "name": "stdout",
     "output_type": "stream",
     "text": [
      "4/4 [==============================] - 0s 3ms/step - loss: 160228.0469 - mae: 163068.5469\n"
     ]
    },
    {
     "data": {
      "text/plain": [
       "[160228.046875, 163068.546875]"
      ]
     },
     "execution_count": 47,
     "metadata": {},
     "output_type": "execute_result"
    }
   ],
   "source": [
    "# evaluate on test data\n",
    "model_2.evaluate(test_windows,test_labels)"
   ]
  },
  {
   "cell_type": "code",
   "execution_count": 48,
   "id": "45c21a1c",
   "metadata": {
    "execution": {
     "iopub.execute_input": "2021-10-25T04:42:15.390398Z",
     "iopub.status.busy": "2021-10-25T04:42:15.389603Z",
     "iopub.status.idle": "2021-10-25T04:42:15.492727Z",
     "shell.execute_reply": "2021-10-25T04:42:15.492200Z",
     "shell.execute_reply.started": "2021-10-25T04:34:38.399058Z"
    },
    "papermill": {
     "duration": 0.290224,
     "end_time": "2021-10-25T04:42:15.492865",
     "exception": false,
     "start_time": "2021-10-25T04:42:15.202641",
     "status": "completed"
    },
    "tags": []
   },
   "outputs": [
    {
     "data": {
      "text/plain": [
       "<tf.Tensor: shape=(10, 7), dtype=float32, numpy=\n",
       "array([[294216.  , 308248.72, 318211.28, 316845.16, 298984.22, 307203.22,\n",
       "        331639.66],\n",
       "       [292886.62, 288878.78, 318178.1 , 312655.9 , 315416.16, 303196.8 ,\n",
       "        297032.53],\n",
       "       [313545.88, 291363.3 , 304635.88, 314764.3 , 312129.34, 303451.38,\n",
       "        259185.69],\n",
       "       [279599.84, 301226.53, 299732.62, 294786.7 , 270911.47, 274469.75,\n",
       "        314463.94],\n",
       "       [283645.3 , 280833.56, 277185.75, 295314.9 , 273930.6 , 264584.94,\n",
       "        303967.75],\n",
       "       [288561.75, 270699.3 , 279221.  , 287003.12, 296940.16, 295585.9 ,\n",
       "        287655.9 ],\n",
       "       [247176.12, 276864.44, 285229.9 , 280680.84, 281415.28, 284928.03,\n",
       "        278250.75],\n",
       "       [293108.12, 278152.6 , 290358.34, 268998.  , 282652.25, 271978.88,\n",
       "        301801.97],\n",
       "       [292952.84, 276081.5 , 289811.38, 297872.34, 281738.1 , 280343.16,\n",
       "        286018.66],\n",
       "       [282652.  , 277161.94, 286348.12, 292761.22, 285186.75, 277801.03,\n",
       "        276042.  ]], dtype=float32)>"
      ]
     },
     "execution_count": 48,
     "metadata": {},
     "output_type": "execute_result"
    }
   ],
   "source": [
    "# make prediction\n",
    "model_2_preds = make_preds(model_2,test_windows)\n",
    "model_2_preds[:10]"
   ]
  },
  {
   "cell_type": "code",
   "execution_count": 49,
   "id": "1eff7e9f",
   "metadata": {
    "execution": {
     "iopub.execute_input": "2021-10-25T04:42:15.863049Z",
     "iopub.status.busy": "2021-10-25T04:42:15.862169Z",
     "iopub.status.idle": "2021-10-25T04:42:15.870803Z",
     "shell.execute_reply": "2021-10-25T04:42:15.870340Z",
     "shell.execute_reply.started": "2021-10-25T04:34:38.504217Z"
    },
    "papermill": {
     "duration": 0.193944,
     "end_time": "2021-10-25T04:42:15.870922",
     "exception": false,
     "start_time": "2021-10-25T04:42:15.676978",
     "status": "completed"
    },
    "tags": []
   },
   "outputs": [
    {
     "data": {
      "text/plain": [
       "{'mae': 158604.14,\n",
       " 'mse': 34205810000.0,\n",
       " 'rmse': 176061.28,\n",
       " 'mape': 28.185339,\n",
       " 'mase': 2.0281947}"
      ]
     },
     "execution_count": 49,
     "metadata": {},
     "output_type": "execute_result"
    }
   ],
   "source": [
    "# Evaluate metrics\n",
    "model_2_results = evaluate_preds(y_true=test_labels,\n",
    "                                y_pred=model_2_preds)\n",
    "model_2_results"
   ]
  },
  {
   "cell_type": "markdown",
   "id": "a8dc844d",
   "metadata": {
    "papermill": {
     "duration": 0.185992,
     "end_time": "2021-10-25T04:42:16.238142",
     "exception": false,
     "start_time": "2021-10-25T04:42:16.052150",
     "status": "completed"
    },
    "tags": []
   },
   "source": [
    "## Model 3 : RNN(WINDOW=30,HORIZON=7)"
   ]
  },
  {
   "cell_type": "code",
   "execution_count": 50,
   "id": "15605157",
   "metadata": {
    "execution": {
     "iopub.execute_input": "2021-10-25T04:42:16.617225Z",
     "iopub.status.busy": "2021-10-25T04:42:16.616335Z",
     "iopub.status.idle": "2021-10-25T04:44:35.636596Z",
     "shell.execute_reply": "2021-10-25T04:44:35.637055Z",
     "shell.execute_reply.started": "2021-10-25T04:34:38.519150Z"
    },
    "papermill": {
     "duration": 139.21621,
     "end_time": "2021-10-25T04:44:35.637209",
     "exception": false,
     "start_time": "2021-10-25T04:42:16.420999",
     "status": "completed"
    },
    "tags": []
   },
   "outputs": [
    {
     "data": {
      "text/plain": [
       "<keras.callbacks.History at 0x7fe63a5a4890>"
      ]
     },
     "execution_count": 50,
     "metadata": {},
     "output_type": "execute_result"
    }
   ],
   "source": [
    "tf.random.set_seed(42)\n",
    "\n",
    "# Let's build an LSTM model with the Functional API\n",
    "inputs = layers.Input(shape=(WINDOW_SIZE))\n",
    "x = layers.Lambda(lambda x: tf.expand_dims(x, axis=1))(inputs) \n",
    "x = layers.LSTM(128, activation=\"relu\")(x) \n",
    "output = layers.Dense(HORIZON)(x)\n",
    "model_3 = tf.keras.Model(inputs=inputs, outputs=output, name=\"model_3_lstm\")\n",
    "\n",
    "# Compile model\n",
    "model_3.compile(loss=\"mae\",\n",
    "                optimizer=tf.keras.optimizers.Adam())\n",
    "\n",
    "# Seems when saving the model several warnings are appearing: https://github.com/tensorflow/tensorflow/issues/47554 \n",
    "model_3.fit(train_windows,\n",
    "            train_labels,\n",
    "            epochs=100,\n",
    "            verbose=0,\n",
    "            batch_size=128,\n",
    "            validation_data=(test_windows, test_labels),\n",
    "            callbacks=[create_model_checkpoint(model_name=model_3.name)])"
   ]
  },
  {
   "cell_type": "code",
   "execution_count": 51,
   "id": "ed8c2844",
   "metadata": {
    "execution": {
     "iopub.execute_input": "2021-10-25T04:44:36.004703Z",
     "iopub.status.busy": "2021-10-25T04:44:36.003857Z",
     "iopub.status.idle": "2021-10-25T04:44:36.866716Z",
     "shell.execute_reply": "2021-10-25T04:44:36.867493Z",
     "shell.execute_reply.started": "2021-10-25T04:36:57.949155Z"
    },
    "papermill": {
     "duration": 1.04868,
     "end_time": "2021-10-25T04:44:36.867697",
     "exception": false,
     "start_time": "2021-10-25T04:44:35.819017",
     "status": "completed"
    },
    "tags": []
   },
   "outputs": [
    {
     "name": "stdout",
     "output_type": "stream",
     "text": [
      "4/4 [==============================] - 0s 2ms/step - loss: 54022.8945\n"
     ]
    },
    {
     "data": {
      "text/plain": [
       "54022.89453125"
      ]
     },
     "execution_count": 51,
     "metadata": {},
     "output_type": "execute_result"
    }
   ],
   "source": [
    "# Load in best version of model 5 and evaluate on the test data\n",
    "model_3 = tf.keras.models.load_model(\"model_checkpoint/model_3_lstm/\")\n",
    "model_3.evaluate(test_windows, test_labels)"
   ]
  },
  {
   "cell_type": "code",
   "execution_count": 52,
   "id": "5032b2c0",
   "metadata": {
    "execution": {
     "iopub.execute_input": "2021-10-25T04:44:37.239367Z",
     "iopub.status.busy": "2021-10-25T04:44:37.238548Z",
     "iopub.status.idle": "2021-10-25T04:44:37.392244Z",
     "shell.execute_reply": "2021-10-25T04:44:37.391372Z",
     "shell.execute_reply.started": "2021-10-25T04:36:59.103839Z"
    },
    "papermill": {
     "duration": 0.341297,
     "end_time": "2021-10-25T04:44:37.392385",
     "exception": false,
     "start_time": "2021-10-25T04:44:37.051088",
     "status": "completed"
    },
    "tags": []
   },
   "outputs": [
    {
     "data": {
      "text/plain": [
       "<tf.Tensor: shape=(10, 7), dtype=float32, numpy=\n",
       "array([[410093.78, 351178.9 , 312353.03, 365919.84, 377601.75, 408639.5 ,\n",
       "        399959.28],\n",
       "       [374695.9 , 334399.6 , 314644.12, 377764.25, 393090.84, 395703.8 ,\n",
       "        373179.44],\n",
       "       [321709.25, 330714.22, 355126.12, 382881.  , 324825.06, 335525.75,\n",
       "        284621.8 ],\n",
       "       [435337.66, 489084.7 , 411833.44, 449037.22, 328469.44, 372318.44,\n",
       "        361379.6 ],\n",
       "       [368696.34, 368236.47, 355509.06, 320171.78, 299208.78, 285864.53,\n",
       "        298678.2 ],\n",
       "       [378794.84, 345474.47, 279244.12, 254371.92, 290846.44, 278899.12,\n",
       "        326803.78],\n",
       "       [354955.56, 350536.8 , 309431.88, 282626.97, 305628.97, 318911.03,\n",
       "        355702.  ],\n",
       "       [330835.12, 294613.1 , 274538.38, 287562.3 , 369718.  , 371568.34,\n",
       "        355240.5 ],\n",
       "       [311657.7 , 300438.78, 311316.06, 364169.5 , 360512.34, 374505.75,\n",
       "        318658.5 ],\n",
       "       [309551.2 , 339281.25, 356757.66, 396744.56, 349819.66, 329385.2 ,\n",
       "        278418.72]], dtype=float32)>"
      ]
     },
     "execution_count": 52,
     "metadata": {},
     "output_type": "execute_result"
    }
   ],
   "source": [
    "# prediction\n",
    "model_3_preds = make_preds(model_3,test_windows)\n",
    "model_3_preds[:10]"
   ]
  },
  {
   "cell_type": "code",
   "execution_count": 53,
   "id": "083aabdb",
   "metadata": {
    "execution": {
     "iopub.execute_input": "2021-10-25T04:44:37.768277Z",
     "iopub.status.busy": "2021-10-25T04:44:37.767396Z",
     "iopub.status.idle": "2021-10-25T04:44:37.775536Z",
     "shell.execute_reply": "2021-10-25T04:44:37.775103Z",
     "shell.execute_reply.started": "2021-10-25T04:36:59.260285Z"
    },
    "papermill": {
     "duration": 0.195955,
     "end_time": "2021-10-25T04:44:37.775668",
     "exception": false,
     "start_time": "2021-10-25T04:44:37.579713",
     "status": "completed"
    },
    "tags": []
   },
   "outputs": [
    {
     "data": {
      "text/plain": [
       "{'mae': 54022.895,\n",
       " 'mse': 4517285000.0,\n",
       " 'rmse': 64112.758,\n",
       " 'mape': 10.708129,\n",
       " 'mase': 0.6908328}"
      ]
     },
     "execution_count": 53,
     "metadata": {},
     "output_type": "execute_result"
    }
   ],
   "source": [
    "# evaluate metrics\n",
    "model_3_results = evaluate_preds(y_true=test_labels,\n",
    "                               y_pred=model_3_preds)\n",
    "model_3_results"
   ]
  },
  {
   "cell_type": "markdown",
   "id": "f8541e67",
   "metadata": {
    "papermill": {
     "duration": 0.183684,
     "end_time": "2021-10-25T04:44:38.141825",
     "exception": false,
     "start_time": "2021-10-25T04:44:37.958141",
     "status": "completed"
    },
    "tags": []
   },
   "source": [
    "## Model 4: Kats "
   ]
  },
  {
   "cell_type": "code",
   "execution_count": 54,
   "id": "69938691",
   "metadata": {
    "execution": {
     "iopub.execute_input": "2021-10-25T04:44:38.513813Z",
     "iopub.status.busy": "2021-10-25T04:44:38.513124Z",
     "iopub.status.idle": "2021-10-25T04:46:09.574071Z",
     "shell.execute_reply": "2021-10-25T04:46:09.573526Z",
     "shell.execute_reply.started": "2021-10-25T04:36:59.274906Z"
    },
    "papermill": {
     "duration": 91.248863,
     "end_time": "2021-10-25T04:46:09.574203",
     "exception": false,
     "start_time": "2021-10-25T04:44:38.325340",
     "status": "completed"
    },
    "tags": []
   },
   "outputs": [
    {
     "name": "stdout",
     "output_type": "stream",
     "text": [
      "Collecting kats\r\n",
      "  Downloading kats-0.1.0.tar.gz (6.3 MB)\r\n",
      "\u001b[K     |████████████████████████████████| 6.3 MB 519 kB/s \r\n",
      "\u001b[?25hRequirement already satisfied: LunarCalendar>=0.0.9 in /opt/conda/lib/python3.7/site-packages (from kats) (0.0.9)\r\n",
      "Requirement already satisfied: attrs>=21.2.0 in /opt/conda/lib/python3.7/site-packages (from kats) (21.2.0)\r\n",
      "Collecting ax-platform\r\n",
      "  Downloading ax_platform-0.2.2-py3-none-any.whl (866 kB)\r\n",
      "\u001b[K     |████████████████████████████████| 866 kB 50.3 MB/s \r\n",
      "\u001b[?25hRequirement already satisfied: convertdate>=2.1.2 in /opt/conda/lib/python3.7/site-packages (from kats) (2.3.2)\r\n",
      "Collecting fbprophet==0.7\r\n",
      "  Downloading fbprophet-0.7.tar.gz (64 kB)\r\n",
      "\u001b[K     |████████████████████████████████| 64 kB 2.7 MB/s \r\n",
      "\u001b[?25hCollecting gpytorch\r\n",
      "  Downloading gpytorch-1.5.1-py2.py3-none-any.whl (503 kB)\r\n",
      "\u001b[K     |████████████████████████████████| 503 kB 48.7 MB/s \r\n",
      "\u001b[?25hRequirement already satisfied: holidays>=0.10.2 in /opt/conda/lib/python3.7/site-packages (from kats) (0.11.3.1)\r\n",
      "Requirement already satisfied: matplotlib>=2.0.0 in /opt/conda/lib/python3.7/site-packages (from kats) (3.4.3)\r\n",
      "Requirement already satisfied: numpy>=1.15.4 in /opt/conda/lib/python3.7/site-packages (from kats) (1.19.5)\r\n",
      "Requirement already satisfied: numba>=0.52.0 in /opt/conda/lib/python3.7/site-packages (from kats) (0.54.0)\r\n",
      "Requirement already satisfied: pandas>=1.0.4 in /opt/conda/lib/python3.7/site-packages (from kats) (1.3.3)\r\n",
      "Requirement already satisfied: plotly>=4.14.3 in /opt/conda/lib/python3.7/site-packages (from kats) (5.3.1)\r\n",
      "Collecting pymannkendall>=1.4.1\r\n",
      "  Downloading pymannkendall-1.4.2-py3-none-any.whl (12 kB)\r\n",
      "Requirement already satisfied: pystan==2.19.1.1 in /opt/conda/lib/python3.7/site-packages (from kats) (2.19.1.1)\r\n",
      "Requirement already satisfied: python-dateutil>=2.8.0 in /opt/conda/lib/python3.7/site-packages (from kats) (2.8.0)\r\n",
      "Requirement already satisfied: scikit-learn>+0.24.2 in /opt/conda/lib/python3.7/site-packages (from kats) (0.23.2)\r\n",
      "Requirement already satisfied: setuptools-git>=1.2 in /opt/conda/lib/python3.7/site-packages (from kats) (1.2)\r\n",
      "Requirement already satisfied: seaborn>=0.11.1 in /opt/conda/lib/python3.7/site-packages (from kats) (0.11.2)\r\n",
      "Requirement already satisfied: statsmodels>=0.12.2 in /opt/conda/lib/python3.7/site-packages (from kats) (0.12.2)\r\n",
      "Requirement already satisfied: torch>=1.8.1 in /opt/conda/lib/python3.7/site-packages (from kats) (1.9.1)\r\n",
      "Requirement already satisfied: tqdm>=4.36.1 in /opt/conda/lib/python3.7/site-packages (from kats) (4.62.3)\r\n",
      "Requirement already satisfied: Cython>=0.22 in /opt/conda/lib/python3.7/site-packages (from fbprophet==0.7->kats) (0.29.24)\r\n",
      "Requirement already satisfied: cmdstanpy==0.9.5 in /opt/conda/lib/python3.7/site-packages (from fbprophet==0.7->kats) (0.9.5)\r\n",
      "Requirement already satisfied: pytz>=2014.10 in /opt/conda/lib/python3.7/site-packages (from convertdate>=2.1.2->kats) (2021.1)\r\n",
      "Requirement already satisfied: pymeeus<=1,>=0.3.13 in /opt/conda/lib/python3.7/site-packages (from convertdate>=2.1.2->kats) (0.5.11)\r\n",
      "Requirement already satisfied: hijri-converter in /opt/conda/lib/python3.7/site-packages (from holidays>=0.10.2->kats) (2.2.2)\r\n",
      "Requirement already satisfied: korean-lunar-calendar in /opt/conda/lib/python3.7/site-packages (from holidays>=0.10.2->kats) (0.2.1)\r\n",
      "Requirement already satisfied: ephem>=3.7.5.3 in /opt/conda/lib/python3.7/site-packages (from LunarCalendar>=0.0.9->kats) (4.1)\r\n",
      "Requirement already satisfied: cycler>=0.10 in /opt/conda/lib/python3.7/site-packages (from matplotlib>=2.0.0->kats) (0.10.0)\r\n",
      "Requirement already satisfied: kiwisolver>=1.0.1 in /opt/conda/lib/python3.7/site-packages (from matplotlib>=2.0.0->kats) (1.3.2)\r\n",
      "Requirement already satisfied: pyparsing>=2.2.1 in /opt/conda/lib/python3.7/site-packages (from matplotlib>=2.0.0->kats) (2.4.7)\r\n",
      "Requirement already satisfied: pillow>=6.2.0 in /opt/conda/lib/python3.7/site-packages (from matplotlib>=2.0.0->kats) (8.2.0)\r\n",
      "Requirement already satisfied: six in /opt/conda/lib/python3.7/site-packages (from cycler>=0.10->matplotlib>=2.0.0->kats) (1.16.0)\r\n",
      "Requirement already satisfied: llvmlite<0.38,>=0.37.0rc1 in /opt/conda/lib/python3.7/site-packages (from numba>=0.52.0->kats) (0.37.0)\r\n",
      "Requirement already satisfied: setuptools in /opt/conda/lib/python3.7/site-packages (from numba>=0.52.0->kats) (58.0.4)\r\n",
      "Requirement already satisfied: tenacity>=6.2.0 in /opt/conda/lib/python3.7/site-packages (from plotly>=4.14.3->kats) (8.0.1)\r\n",
      "Requirement already satisfied: scipy in /opt/conda/lib/python3.7/site-packages (from pymannkendall>=1.4.1->kats) (1.7.1)\r\n",
      "Requirement already satisfied: joblib>=0.11 in /opt/conda/lib/python3.7/site-packages (from scikit-learn>+0.24.2->kats) (1.0.1)\r\n",
      "Requirement already satisfied: threadpoolctl>=2.0.0 in /opt/conda/lib/python3.7/site-packages (from scikit-learn>+0.24.2->kats) (2.2.0)\r\n",
      "Requirement already satisfied: patsy>=0.5 in /opt/conda/lib/python3.7/site-packages (from statsmodels>=0.12.2->kats) (0.5.1)\r\n",
      "Requirement already satisfied: typing-extensions in /opt/conda/lib/python3.7/site-packages (from torch>=1.8.1->kats) (3.10.0.2)\r\n",
      "Collecting botorch==0.5.1\r\n",
      "  Downloading botorch-0.5.1-py3-none-any.whl (486 kB)\r\n",
      "\u001b[K     |████████████████████████████████| 486 kB 46.0 MB/s \r\n",
      "\u001b[?25hRequirement already satisfied: typeguard in /opt/conda/lib/python3.7/site-packages (from ax-platform->kats) (2.13.0)\r\n",
      "Requirement already satisfied: jinja2 in /opt/conda/lib/python3.7/site-packages (from ax-platform->kats) (3.0.2)\r\n",
      "Requirement already satisfied: MarkupSafe>=2.0 in /opt/conda/lib/python3.7/site-packages (from jinja2->ax-platform->kats) (2.0.1)\r\n",
      "Building wheels for collected packages: kats, fbprophet\r\n",
      "  Building wheel for kats (setup.py) ... \u001b[?25l-\b \b\\\b \bdone\r\n",
      "\u001b[?25h  Created wheel for kats: filename=kats-0.1.0-py3-none-any.whl size=286607 sha256=19339c45f3aad4d41a629fa83e0dfe8ee4c51eba415d120a5540e26d72ae8132\r\n",
      "  Stored in directory: /root/.cache/pip/wheels/c8/dd/5b/cc7cb7fc37c5b838c65e504437bba4c1828a3fbb473c0c11be\r\n",
      "  Building wheel for fbprophet (setup.py) ... \u001b[?25l-\b \b\\\b \bdone\r\n",
      "\u001b[?25h  Created wheel for fbprophet: filename=fbprophet-0.7-py3-none-any.whl size=6641036 sha256=d088139a52cf7bd58547cf0708a9b337aa33986d4129455585a0c95213c6e5cc\r\n",
      "  Stored in directory: /root/.cache/pip/wheels/82/e8/a8/53f37f0a409bc51f8693e967dcce8f88bfd33632b40a594a28\r\n",
      "Successfully built kats fbprophet\r\n",
      "Installing collected packages: gpytorch, botorch, pymannkendall, fbprophet, ax-platform, kats\r\n",
      "  Attempting uninstall: fbprophet\r\n",
      "    Found existing installation: fbprophet 0.7.1\r\n",
      "    Uninstalling fbprophet-0.7.1:\r\n",
      "      Successfully uninstalled fbprophet-0.7.1\r\n",
      "Successfully installed ax-platform-0.2.2 botorch-0.5.1 fbprophet-0.7 gpytorch-1.5.1 kats-0.1.0 pymannkendall-1.4.2\r\n",
      "\u001b[33mWARNING: Running pip as the 'root' user can result in broken permissions and conflicting behaviour with the system package manager. It is recommended to use a virtual environment instead: https://pip.pypa.io/warnings/venv\u001b[0m\r\n"
     ]
    }
   ],
   "source": [
    "!pip install kats"
   ]
  },
  {
   "cell_type": "code",
   "execution_count": 55,
   "id": "6c5a9385",
   "metadata": {
    "execution": {
     "iopub.execute_input": "2021-10-25T04:46:09.974396Z",
     "iopub.status.busy": "2021-10-25T04:46:09.973616Z",
     "iopub.status.idle": "2021-10-25T04:46:12.933861Z",
     "shell.execute_reply": "2021-10-25T04:46:12.933318Z",
     "shell.execute_reply.started": "2021-10-25T04:38:28.683385Z"
    },
    "papermill": {
     "duration": 3.162053,
     "end_time": "2021-10-25T04:46:12.933999",
     "exception": false,
     "start_time": "2021-10-25T04:46:09.771946",
     "status": "completed"
    },
    "tags": []
   },
   "outputs": [],
   "source": [
    "# Importing the TimeseriesData class from kats\n",
    "from kats.consts import TimeSeriesData"
   ]
  },
  {
   "cell_type": "code",
   "execution_count": 56,
   "id": "de12fc32",
   "metadata": {
    "execution": {
     "iopub.execute_input": "2021-10-25T04:46:13.330942Z",
     "iopub.status.busy": "2021-10-25T04:46:13.329345Z",
     "iopub.status.idle": "2021-10-25T04:46:13.331573Z",
     "shell.execute_reply": "2021-10-25T04:46:13.331991Z",
     "shell.execute_reply.started": "2021-10-25T04:38:31.205173Z"
    },
    "papermill": {
     "duration": 0.202018,
     "end_time": "2021-10-25T04:46:13.332124",
     "exception": false,
     "start_time": "2021-10-25T04:46:13.130106",
     "status": "completed"
    },
    "tags": []
   },
   "outputs": [],
   "source": [
    "# Utils to work with kats\n",
    "from dateutil import parser\n",
    "from datetime import datetime\n"
   ]
  },
  {
   "cell_type": "code",
   "execution_count": 57,
   "id": "38109af6",
   "metadata": {
    "execution": {
     "iopub.execute_input": "2021-10-25T04:46:13.730380Z",
     "iopub.status.busy": "2021-10-25T04:46:13.729554Z",
     "iopub.status.idle": "2021-10-25T04:46:13.731620Z",
     "shell.execute_reply": "2021-10-25T04:46:13.732003Z",
     "shell.execute_reply.started": "2021-10-25T04:38:31.212107Z"
    },
    "papermill": {
     "duration": 0.20365,
     "end_time": "2021-10-25T04:46:13.732142",
     "exception": false,
     "start_time": "2021-10-25T04:46:13.528492",
     "status": "completed"
    },
    "tags": []
   },
   "outputs": [],
   "source": [
    "\n",
    "# Importing the things we need \n",
    "from kats.models.ensemble.ensemble import EnsembleParams , BaseModelParams \n",
    "from kats.models.ensemble.kats_ensemble import KatsEnsemble\n",
    "from kats.models import (\n",
    "    arima, \n",
    "    holtwinters , \n",
    "    linear_model , \n",
    "    prophet , \n",
    "    quadratic_model , \n",
    "    sarima , \n",
    "    theta\n",
    ")"
   ]
  },
  {
   "cell_type": "code",
   "execution_count": 58,
   "id": "dd7920bb",
   "metadata": {
    "execution": {
     "iopub.execute_input": "2021-10-25T04:46:14.137152Z",
     "iopub.status.busy": "2021-10-25T04:46:14.136382Z",
     "iopub.status.idle": "2021-10-25T04:46:14.139149Z",
     "shell.execute_reply": "2021-10-25T04:46:14.139569Z",
     "shell.execute_reply.started": "2021-10-25T04:38:31.223526Z"
    },
    "papermill": {
     "duration": 0.210835,
     "end_time": "2021-10-25T04:46:14.139715",
     "exception": false,
     "start_time": "2021-10-25T04:46:13.928880",
     "status": "completed"
    },
    "tags": []
   },
   "outputs": [],
   "source": [
    "\n",
    "# Defining the parameters of different models \n",
    "model_params = EnsembleParams(\n",
    "    [\n",
    "     BaseModelParams('arima' , arima.ARIMAParams(p = 1 , d=1 , q=1)) , \n",
    "     BaseModelParams('sarima' ,\n",
    "                     sarima.SARIMAParams(\n",
    "                         p = 2 , d= 2 , q =1 , trend = 'ct' , \n",
    "                     seasonal_order = (1, 0 ,1 ,12) , enforce_invertibility = False , \n",
    "                     enforce_stationarity = False),\n",
    "     ),\n",
    "     BaseModelParams('prophet' , prophet.ProphetParams()) , \n",
    "     BaseModelParams('linear' , linear_model.LinearModelParams()) , \n",
    "     BaseModelParams('quadratic' , quadratic_model.QuadraticModelParams()),\n",
    "     BaseModelParams('theta' , theta.ThetaParams()), \n",
    "    ]\n",
    ")"
   ]
  },
  {
   "cell_type": "code",
   "execution_count": 59,
   "id": "a60ce28e",
   "metadata": {
    "execution": {
     "iopub.execute_input": "2021-10-25T04:46:14.541788Z",
     "iopub.status.busy": "2021-10-25T04:46:14.540920Z",
     "iopub.status.idle": "2021-10-25T04:46:14.542805Z",
     "shell.execute_reply": "2021-10-25T04:46:14.543258Z",
     "shell.execute_reply.started": "2021-10-25T04:38:31.234371Z"
    },
    "papermill": {
     "duration": 0.208423,
     "end_time": "2021-10-25T04:46:14.543389",
     "exception": false,
     "start_time": "2021-10-25T04:46:14.334966",
     "status": "completed"
    },
    "tags": []
   },
   "outputs": [],
   "source": [
    "\n",
    "# Creating KatEnsembleParam with detailed configuration \n",
    "KatEnsembleParams = {\n",
    "    'models': model_params , \n",
    "    'aggregation': 'median' , \n",
    "    'seasonality_length': 7 , \n",
    "    'decomposition_method': 'multiplicative'\n",
    "}"
   ]
  },
  {
   "cell_type": "code",
   "execution_count": 60,
   "id": "23304099",
   "metadata": {
    "execution": {
     "iopub.execute_input": "2021-10-25T04:46:14.941951Z",
     "iopub.status.busy": "2021-10-25T04:46:14.941217Z",
     "iopub.status.idle": "2021-10-25T04:46:14.945044Z",
     "shell.execute_reply": "2021-10-25T04:46:14.944573Z",
     "shell.execute_reply.started": "2021-10-25T04:38:31.242388Z"
    },
    "papermill": {
     "duration": 0.207417,
     "end_time": "2021-10-25T04:46:14.945175",
     "exception": false,
     "start_time": "2021-10-25T04:46:14.737758",
     "status": "completed"
    },
    "tags": []
   },
   "outputs": [],
   "source": [
    "\n",
    "# Creating a Time Series dataset \n",
    "covid_ts = TimeSeriesData(value = df.Cases,\n",
    "                            time = df.index , \n",
    "                            sort_by_time= True)"
   ]
  },
  {
   "cell_type": "code",
   "execution_count": 61,
   "id": "a26cd7d4",
   "metadata": {
    "execution": {
     "iopub.execute_input": "2021-10-25T04:46:15.346384Z",
     "iopub.status.busy": "2021-10-25T04:46:15.345568Z",
     "iopub.status.idle": "2021-10-25T04:46:24.652252Z",
     "shell.execute_reply": "2021-10-25T04:46:24.651757Z",
     "shell.execute_reply.started": "2021-10-25T04:38:31.254461Z"
    },
    "papermill": {
     "duration": 9.509153,
     "end_time": "2021-10-25T04:46:24.652380",
     "exception": false,
     "start_time": "2021-10-25T04:46:15.143227",
     "status": "completed"
    },
    "tags": []
   },
   "outputs": [
    {
     "name": "stderr",
     "output_type": "stream",
     "text": [
      "/opt/conda/lib/python3.7/site-packages/statsmodels/tsa/stattools.py:671: FutureWarning:\n",
      "\n",
      "fft=True will become the default after the release of the 0.12 release of statsmodels. To suppress this warning, explicitly set fft=False.\n",
      "\n",
      "/opt/conda/lib/python3.7/site-packages/statsmodels/tsa/arima_model.py:472: FutureWarning:\n",
      "\n",
      "\n",
      "statsmodels.tsa.arima_model.ARMA and statsmodels.tsa.arima_model.ARIMA have\n",
      "been deprecated in favor of statsmodels.tsa.arima.model.ARIMA (note the .\n",
      "between arima and model) and\n",
      "statsmodels.tsa.SARIMAX. These will be removed after the 0.12 release.\n",
      "\n",
      "statsmodels.tsa.arima.model.ARIMA makes use of the statespace framework and\n",
      "is both well tested and maintained.\n",
      "\n",
      "To silence this warning and continue using ARMA and ARIMA until they are\n",
      "removed, use:\n",
      "\n",
      "import warnings\n",
      "warnings.filterwarnings('ignore', 'statsmodels.tsa.arima_model.ARMA',\n",
      "                        FutureWarning)\n",
      "warnings.filterwarnings('ignore', 'statsmodels.tsa.arima_model.ARIMA',\n",
      "                        FutureWarning)\n",
      "\n",
      "\n",
      "/opt/conda/lib/python3.7/site-packages/statsmodels/tsa/base/tsa_model.py:527: ValueWarning:\n",
      "\n",
      "No frequency information was provided, so inferred frequency D will be used.\n",
      "\n",
      "/opt/conda/lib/python3.7/site-packages/statsmodels/tsa/base/tsa_model.py:527: ValueWarning:\n",
      "\n",
      "No frequency information was provided, so inferred frequency D will be used.\n",
      "\n",
      "/opt/conda/lib/python3.7/site-packages/statsmodels/tsa/arima_model.py:472: FutureWarning:\n",
      "\n",
      "\n",
      "statsmodels.tsa.arima_model.ARMA and statsmodels.tsa.arima_model.ARIMA have\n",
      "been deprecated in favor of statsmodels.tsa.arima.model.ARIMA (note the .\n",
      "between arima and model) and\n",
      "statsmodels.tsa.SARIMAX. These will be removed after the 0.12 release.\n",
      "\n",
      "statsmodels.tsa.arima.model.ARIMA makes use of the statespace framework and\n",
      "is both well tested and maintained.\n",
      "\n",
      "To silence this warning and continue using ARMA and ARIMA until they are\n",
      "removed, use:\n",
      "\n",
      "import warnings\n",
      "warnings.filterwarnings('ignore', 'statsmodels.tsa.arima_model.ARMA',\n",
      "                        FutureWarning)\n",
      "warnings.filterwarnings('ignore', 'statsmodels.tsa.arima_model.ARIMA',\n",
      "                        FutureWarning)\n",
      "\n",
      "\n"
     ]
    },
    {
     "name": "stdout",
     "output_type": "stream",
     "text": [
      "RUNNING THE L-BFGS-B CODE\n",
      "\n",
      "           * * *\n",
      "\n",
      "Machine precision = 2.220D-16\n",
      " N =            3     M =           12\n",
      "\n",
      "At X0         0 variables are exactly at the bounds\n",
      "\n",
      "At iterate    0    f=  1.19153D+01    |proj g|=  4.62741D-04\n",
      "\n",
      "At iterate    5    f=  1.19153D+01    |proj g|=  3.55271D-07\n",
      "\n",
      "           * * *\n",
      "\n",
      "Tit   = total number of iterations\n",
      "Tnf   = total number of function evaluations\n",
      "Tnint = total number of segments explored during Cauchy searches\n",
      "Skip  = number of BFGS updates skipped\n",
      "Nact  = number of active bounds at final generalized Cauchy point\n",
      "Projg = norm of the final projected gradient\n",
      "F     = final function value\n",
      "\n",
      "           * * *\n",
      "\n",
      "   N    Tit     Tnf  Tnint  Skip  Nact     Projg        F\n",
      "    3      6      8      1     0     0   1.776D-07   1.192D+01\n",
      "  F =   11.915291746103463     \n",
      "\n",
      "CONVERGENCE: REL_REDUCTION_OF_F_<=_FACTR*EPSMCH             \n"
     ]
    },
    {
     "name": "stderr",
     "output_type": "stream",
     "text": [
      " This problem is unconstrained.\n"
     ]
    },
    {
     "name": "stdout",
     "output_type": "stream",
     "text": [
      "Initial log joint probability = -16.7379\n",
      "    Iter      log prob        ||dx||      ||grad||       alpha      alpha0  # evals  Notes \n",
      "      99       1156.19    0.00171702        86.094       1.528      0.4059      127   \n",
      "    Iter      log prob        ||dx||      ||grad||       alpha      alpha0  # evals  Notes \n",
      "     177       1156.95    0.00141238       87.0336   1.711e-05       0.001      281  LS failed, Hessian reset \n",
      "     199       1157.67   1.81567e-05       53.3452     0.03822           1      312   \n",
      "    Iter      log prob        ||dx||      ||grad||       alpha      alpha0  # evals  Notes \n",
      "     263       1157.68   4.41187e-06       76.6044   6.544e-08       0.001      443  LS failed, Hessian reset \n",
      "     299       1157.68   3.39046e-06       57.1541      0.3054           1      489   \n",
      "    Iter      log prob        ||dx||      ||grad||       alpha      alpha0  # evals  Notes \n",
      "     306       1157.68   1.98888e-08       65.7739     0.05774           1      502   \n",
      "Optimization terminated normally: \n",
      "  Convergence detected: relative gradient magnitude is below tolerance\n"
     ]
    },
    {
     "name": "stderr",
     "output_type": "stream",
     "text": [
      "/opt/conda/lib/python3.7/site-packages/statsmodels/tsa/holtwinters/model.py:429: FutureWarning:\n",
      "\n",
      "After 0.13 initialization must be handled at model creation\n",
      "\n",
      "/opt/conda/lib/python3.7/site-packages/statsmodels/tsa/holtwinters/model.py:922: ConvergenceWarning:\n",
      "\n",
      "Optimization failed to converge. Check mle_retvals.\n",
      "\n",
      "/opt/conda/lib/python3.7/site-packages/kats/models/theta.py:121: FutureWarning:\n",
      "\n",
      "`rcond` parameter will change to the default of machine precision times ``max(M, N)`` where M and N are the input matrix dimensions.\n",
      "To use the future default and silence this warning we advise to pass `rcond=None`, to keep using the old, explicitly pass `rcond=-1`.\n",
      "\n"
     ]
    },
    {
     "name": "stdout",
     "output_type": "stream",
     "text": [
      "Initial log joint probability = -16.7379\n",
      "    Iter      log prob        ||dx||      ||grad||       alpha      alpha0  # evals  Notes \n",
      "      99       1156.19    0.00171702        86.094       1.528      0.4059      127   \n",
      "    Iter      log prob        ||dx||      ||grad||       alpha      alpha0  # evals  Notes \n",
      "     177       1156.95    0.00141238       87.0336   1.711e-05       0.001      281  LS failed, Hessian reset \n",
      "     199       1157.67   1.81567e-05       53.3452     0.03822           1      312   \n",
      "    Iter      log prob        ||dx||      ||grad||       alpha      alpha0  # evals  Notes \n",
      "     263       1157.68   4.41187e-06       76.6044   6.544e-08       0.001      443  LS failed, Hessian reset \n",
      "     299       1157.68   3.39046e-06       57.1541      0.3054           1      489   \n",
      "    Iter      log prob        ||dx||      ||grad||       alpha      alpha0  # evals  Notes \n",
      "     306       1157.68   1.98888e-08       65.7739     0.05774           1      502   \n",
      "Optimization terminated normally: \n",
      "  Convergence detected: relative gradient magnitude is below tolerance\n"
     ]
    },
    {
     "name": "stderr",
     "output_type": "stream",
     "text": [
      "/opt/conda/lib/python3.7/site-packages/statsmodels/tsa/holtwinters/model.py:429: FutureWarning:\n",
      "\n",
      "After 0.13 initialization must be handled at model creation\n",
      "\n",
      "/opt/conda/lib/python3.7/site-packages/statsmodels/tsa/holtwinters/model.py:922: ConvergenceWarning:\n",
      "\n",
      "Optimization failed to converge. Check mle_retvals.\n",
      "\n",
      "/opt/conda/lib/python3.7/site-packages/kats/models/theta.py:121: FutureWarning:\n",
      "\n",
      "`rcond` parameter will change to the default of machine precision times ``max(M, N)`` where M and N are the input matrix dimensions.\n",
      "To use the future default and silence this warning we advise to pass `rcond=None`, to keep using the old, explicitly pass `rcond=-1`.\n",
      "\n",
      "/opt/conda/lib/python3.7/site-packages/statsmodels/tsa/arima_model.py:472: FutureWarning:\n",
      "\n",
      "\n",
      "statsmodels.tsa.arima_model.ARMA and statsmodels.tsa.arima_model.ARIMA have\n",
      "been deprecated in favor of statsmodels.tsa.arima.model.ARIMA (note the .\n",
      "between arima and model) and\n",
      "statsmodels.tsa.SARIMAX. These will be removed after the 0.12 release.\n",
      "\n",
      "statsmodels.tsa.arima.model.ARIMA makes use of the statespace framework and\n",
      "is both well tested and maintained.\n",
      "\n",
      "To silence this warning and continue using ARMA and ARIMA until they are\n",
      "removed, use:\n",
      "\n",
      "import warnings\n",
      "warnings.filterwarnings('ignore', 'statsmodels.tsa.arima_model.ARMA',\n",
      "                        FutureWarning)\n",
      "warnings.filterwarnings('ignore', 'statsmodels.tsa.arima_model.ARIMA',\n",
      "                        FutureWarning)\n",
      "\n",
      "\n"
     ]
    },
    {
     "data": {
      "text/plain": [
       "<kats.models.ensemble.kats_ensemble.KatsEnsemble at 0x7fe258421110>"
      ]
     },
     "execution_count": 61,
     "metadata": {},
     "output_type": "execute_result"
    }
   ],
   "source": [
    "\n",
    "# Creating a KatEnsemble model (or) instantiating it \n",
    "ensemble_model = KatsEnsemble(\n",
    "    data = covid_ts , \n",
    "    params = KatEnsembleParams\n",
    ")\n",
    "\n",
    "# Fitting the model \n",
    "ensemble_model.fit()"
   ]
  },
  {
   "cell_type": "code",
   "execution_count": 62,
   "id": "86353b29",
   "metadata": {
    "execution": {
     "iopub.execute_input": "2021-10-25T04:46:25.059583Z",
     "iopub.status.busy": "2021-10-25T04:46:25.058615Z",
     "iopub.status.idle": "2021-10-25T04:46:31.515996Z",
     "shell.execute_reply": "2021-10-25T04:46:31.515066Z",
     "shell.execute_reply.started": "2021-10-25T04:38:42.056428Z"
    },
    "papermill": {
     "duration": 6.663738,
     "end_time": "2021-10-25T04:46:31.516145",
     "exception": false,
     "start_time": "2021-10-25T04:46:24.852407",
     "status": "completed"
    },
    "tags": []
   },
   "outputs": [],
   "source": [
    "# Making prediction for the next 60 days \n",
    "forecast = ensemble_model.predict(steps = 60)"
   ]
  },
  {
   "cell_type": "code",
   "execution_count": 63,
   "id": "78f60810",
   "metadata": {
    "execution": {
     "iopub.execute_input": "2021-10-25T04:46:31.942877Z",
     "iopub.status.busy": "2021-10-25T04:46:31.941890Z",
     "iopub.status.idle": "2021-10-25T04:46:31.968507Z",
     "shell.execute_reply": "2021-10-25T04:46:31.969069Z",
     "shell.execute_reply.started": "2021-10-25T04:38:48.531129Z"
    },
    "papermill": {
     "duration": 0.234459,
     "end_time": "2021-10-25T04:46:31.969216",
     "exception": false,
     "start_time": "2021-10-25T04:46:31.734757",
     "status": "completed"
    },
    "tags": []
   },
   "outputs": [
    {
     "data": {
      "text/html": [
       "<div>\n",
       "<style scoped>\n",
       "    .dataframe tbody tr th:only-of-type {\n",
       "        vertical-align: middle;\n",
       "    }\n",
       "\n",
       "    .dataframe tbody tr th {\n",
       "        vertical-align: top;\n",
       "    }\n",
       "\n",
       "    .dataframe thead th {\n",
       "        text-align: right;\n",
       "    }\n",
       "</style>\n",
       "<table border=\"1\" class=\"dataframe\">\n",
       "  <thead>\n",
       "    <tr style=\"text-align: right;\">\n",
       "      <th></th>\n",
       "      <th>time</th>\n",
       "      <th>fcst</th>\n",
       "      <th>fcst_lower</th>\n",
       "      <th>fcst_upper</th>\n",
       "    </tr>\n",
       "  </thead>\n",
       "  <tbody>\n",
       "    <tr>\n",
       "      <th>0</th>\n",
       "      <td>2021-10-15</td>\n",
       "      <td>490293</td>\n",
       "      <td>380536</td>\n",
       "      <td>604010</td>\n",
       "    </tr>\n",
       "    <tr>\n",
       "      <th>1</th>\n",
       "      <td>2021-10-16</td>\n",
       "      <td>396574</td>\n",
       "      <td>277458</td>\n",
       "      <td>487244</td>\n",
       "    </tr>\n",
       "    <tr>\n",
       "      <th>2</th>\n",
       "      <td>2021-10-17</td>\n",
       "      <td>365996</td>\n",
       "      <td>250999</td>\n",
       "      <td>472773</td>\n",
       "    </tr>\n",
       "    <tr>\n",
       "      <th>3</th>\n",
       "      <td>2021-10-18</td>\n",
       "      <td>454944</td>\n",
       "      <td>315492</td>\n",
       "      <td>571119</td>\n",
       "    </tr>\n",
       "    <tr>\n",
       "      <th>4</th>\n",
       "      <td>2021-10-19</td>\n",
       "      <td>457234</td>\n",
       "      <td>313756</td>\n",
       "      <td>572606</td>\n",
       "    </tr>\n",
       "    <tr>\n",
       "      <th>5</th>\n",
       "      <td>2021-10-20</td>\n",
       "      <td>489954</td>\n",
       "      <td>357176</td>\n",
       "      <td>622906</td>\n",
       "    </tr>\n",
       "    <tr>\n",
       "      <th>6</th>\n",
       "      <td>2021-10-21</td>\n",
       "      <td>464108</td>\n",
       "      <td>311073</td>\n",
       "      <td>588789</td>\n",
       "    </tr>\n",
       "    <tr>\n",
       "      <th>7</th>\n",
       "      <td>2021-10-22</td>\n",
       "      <td>491136</td>\n",
       "      <td>345999</td>\n",
       "      <td>624346</td>\n",
       "    </tr>\n",
       "    <tr>\n",
       "      <th>8</th>\n",
       "      <td>2021-10-23</td>\n",
       "      <td>395402</td>\n",
       "      <td>253038</td>\n",
       "      <td>506424</td>\n",
       "    </tr>\n",
       "    <tr>\n",
       "      <th>9</th>\n",
       "      <td>2021-10-24</td>\n",
       "      <td>362813</td>\n",
       "      <td>238742</td>\n",
       "      <td>488258</td>\n",
       "    </tr>\n",
       "    <tr>\n",
       "      <th>10</th>\n",
       "      <td>2021-10-25</td>\n",
       "      <td>455471</td>\n",
       "      <td>282170</td>\n",
       "      <td>587805</td>\n",
       "    </tr>\n",
       "    <tr>\n",
       "      <th>11</th>\n",
       "      <td>2021-10-26</td>\n",
       "      <td>457785</td>\n",
       "      <td>281758</td>\n",
       "      <td>588272</td>\n",
       "    </tr>\n",
       "    <tr>\n",
       "      <th>12</th>\n",
       "      <td>2021-10-27</td>\n",
       "      <td>490796</td>\n",
       "      <td>323331</td>\n",
       "      <td>651216</td>\n",
       "    </tr>\n",
       "    <tr>\n",
       "      <th>13</th>\n",
       "      <td>2021-10-28</td>\n",
       "      <td>464763</td>\n",
       "      <td>283911</td>\n",
       "      <td>604210</td>\n",
       "    </tr>\n",
       "    <tr>\n",
       "      <th>14</th>\n",
       "      <td>2021-10-29</td>\n",
       "      <td>492119</td>\n",
       "      <td>318227</td>\n",
       "      <td>662596</td>\n",
       "    </tr>\n",
       "    <tr>\n",
       "      <th>15</th>\n",
       "      <td>2021-10-30</td>\n",
       "      <td>391842</td>\n",
       "      <td>233172</td>\n",
       "      <td>521889</td>\n",
       "    </tr>\n",
       "    <tr>\n",
       "      <th>16</th>\n",
       "      <td>2021-10-31</td>\n",
       "      <td>359525</td>\n",
       "      <td>222797</td>\n",
       "      <td>491948</td>\n",
       "    </tr>\n",
       "    <tr>\n",
       "      <th>17</th>\n",
       "      <td>2021-11-01</td>\n",
       "      <td>456306</td>\n",
       "      <td>264973</td>\n",
       "      <td>598813</td>\n",
       "    </tr>\n",
       "    <tr>\n",
       "      <th>18</th>\n",
       "      <td>2021-11-02</td>\n",
       "      <td>458709</td>\n",
       "      <td>266263</td>\n",
       "      <td>606490</td>\n",
       "    </tr>\n",
       "    <tr>\n",
       "      <th>19</th>\n",
       "      <td>2021-11-03</td>\n",
       "      <td>492146</td>\n",
       "      <td>305998</td>\n",
       "      <td>688114</td>\n",
       "    </tr>\n",
       "    <tr>\n",
       "      <th>20</th>\n",
       "      <td>2021-11-04</td>\n",
       "      <td>465816</td>\n",
       "      <td>268872</td>\n",
       "      <td>619032</td>\n",
       "    </tr>\n",
       "    <tr>\n",
       "      <th>21</th>\n",
       "      <td>2021-11-05</td>\n",
       "      <td>493478</td>\n",
       "      <td>301552</td>\n",
       "      <td>697980</td>\n",
       "    </tr>\n",
       "    <tr>\n",
       "      <th>22</th>\n",
       "      <td>2021-11-06</td>\n",
       "      <td>388167</td>\n",
       "      <td>220383</td>\n",
       "      <td>530193</td>\n",
       "    </tr>\n",
       "    <tr>\n",
       "      <th>23</th>\n",
       "      <td>2021-11-07</td>\n",
       "      <td>356132</td>\n",
       "      <td>210459</td>\n",
       "      <td>484775</td>\n",
       "    </tr>\n",
       "    <tr>\n",
       "      <th>24</th>\n",
       "      <td>2021-11-08</td>\n",
       "      <td>457272</td>\n",
       "      <td>251466</td>\n",
       "      <td>615398</td>\n",
       "    </tr>\n",
       "    <tr>\n",
       "      <th>25</th>\n",
       "      <td>2021-11-09</td>\n",
       "      <td>459704</td>\n",
       "      <td>252793</td>\n",
       "      <td>618353</td>\n",
       "    </tr>\n",
       "    <tr>\n",
       "      <th>26</th>\n",
       "      <td>2021-11-10</td>\n",
       "      <td>496127</td>\n",
       "      <td>290627</td>\n",
       "      <td>720462</td>\n",
       "    </tr>\n",
       "    <tr>\n",
       "      <th>27</th>\n",
       "      <td>2021-11-11</td>\n",
       "      <td>466869</td>\n",
       "      <td>255452</td>\n",
       "      <td>641683</td>\n",
       "    </tr>\n",
       "    <tr>\n",
       "      <th>28</th>\n",
       "      <td>2021-11-12</td>\n",
       "      <td>497673</td>\n",
       "      <td>286588</td>\n",
       "      <td>729360</td>\n",
       "    </tr>\n",
       "    <tr>\n",
       "      <th>29</th>\n",
       "      <td>2021-11-13</td>\n",
       "      <td>384378</td>\n",
       "      <td>208943</td>\n",
       "      <td>526328</td>\n",
       "    </tr>\n",
       "    <tr>\n",
       "      <th>30</th>\n",
       "      <td>2021-11-14</td>\n",
       "      <td>352635</td>\n",
       "      <td>199399</td>\n",
       "      <td>481066</td>\n",
       "    </tr>\n",
       "    <tr>\n",
       "      <th>31</th>\n",
       "      <td>2021-11-15</td>\n",
       "      <td>457758</td>\n",
       "      <td>239165</td>\n",
       "      <td>631910</td>\n",
       "    </tr>\n",
       "    <tr>\n",
       "      <th>32</th>\n",
       "      <td>2021-11-16</td>\n",
       "      <td>460699</td>\n",
       "      <td>240475</td>\n",
       "      <td>641442</td>\n",
       "    </tr>\n",
       "    <tr>\n",
       "      <th>33</th>\n",
       "      <td>2021-11-17</td>\n",
       "      <td>500925</td>\n",
       "      <td>276514</td>\n",
       "      <td>741807</td>\n",
       "    </tr>\n",
       "    <tr>\n",
       "      <th>34</th>\n",
       "      <td>2021-11-18</td>\n",
       "      <td>467921</td>\n",
       "      <td>243085</td>\n",
       "      <td>658882</td>\n",
       "    </tr>\n",
       "    <tr>\n",
       "      <th>35</th>\n",
       "      <td>2021-11-19</td>\n",
       "      <td>502472</td>\n",
       "      <td>272751</td>\n",
       "      <td>755085</td>\n",
       "    </tr>\n",
       "    <tr>\n",
       "      <th>36</th>\n",
       "      <td>2021-11-20</td>\n",
       "      <td>380476</td>\n",
       "      <td>198411</td>\n",
       "      <td>527890</td>\n",
       "    </tr>\n",
       "    <tr>\n",
       "      <th>37</th>\n",
       "      <td>2021-11-21</td>\n",
       "      <td>349032</td>\n",
       "      <td>189213</td>\n",
       "      <td>486094</td>\n",
       "    </tr>\n",
       "    <tr>\n",
       "      <th>38</th>\n",
       "      <td>2021-11-22</td>\n",
       "      <td>456258</td>\n",
       "      <td>227685</td>\n",
       "      <td>644518</td>\n",
       "    </tr>\n",
       "    <tr>\n",
       "      <th>39</th>\n",
       "      <td>2021-11-23</td>\n",
       "      <td>461694</td>\n",
       "      <td>228948</td>\n",
       "      <td>654681</td>\n",
       "    </tr>\n",
       "    <tr>\n",
       "      <th>40</th>\n",
       "      <td>2021-11-24</td>\n",
       "      <td>505722</td>\n",
       "      <td>263273</td>\n",
       "      <td>751698</td>\n",
       "    </tr>\n",
       "    <tr>\n",
       "      <th>41</th>\n",
       "      <td>2021-11-25</td>\n",
       "      <td>468974</td>\n",
       "      <td>231453</td>\n",
       "      <td>672307</td>\n",
       "    </tr>\n",
       "    <tr>\n",
       "      <th>42</th>\n",
       "      <td>2021-11-26</td>\n",
       "      <td>507272</td>\n",
       "      <td>259706</td>\n",
       "      <td>759669</td>\n",
       "    </tr>\n",
       "    <tr>\n",
       "      <th>43</th>\n",
       "      <td>2021-11-27</td>\n",
       "      <td>376459</td>\n",
       "      <td>188533</td>\n",
       "      <td>534032</td>\n",
       "    </tr>\n",
       "    <tr>\n",
       "      <th>44</th>\n",
       "      <td>2021-11-28</td>\n",
       "      <td>345325</td>\n",
       "      <td>179662</td>\n",
       "      <td>491650</td>\n",
       "    </tr>\n",
       "    <tr>\n",
       "      <th>45</th>\n",
       "      <td>2021-11-29</td>\n",
       "      <td>454610</td>\n",
       "      <td>216795</td>\n",
       "      <td>659047</td>\n",
       "    </tr>\n",
       "    <tr>\n",
       "      <th>46</th>\n",
       "      <td>2021-11-30</td>\n",
       "      <td>460090</td>\n",
       "      <td>217991</td>\n",
       "      <td>666146</td>\n",
       "    </tr>\n",
       "    <tr>\n",
       "      <th>47</th>\n",
       "      <td>2021-12-01</td>\n",
       "      <td>510519</td>\n",
       "      <td>250664</td>\n",
       "      <td>770679</td>\n",
       "    </tr>\n",
       "    <tr>\n",
       "      <th>48</th>\n",
       "      <td>2021-12-02</td>\n",
       "      <td>470027</td>\n",
       "      <td>220358</td>\n",
       "      <td>683834</td>\n",
       "    </tr>\n",
       "    <tr>\n",
       "      <th>49</th>\n",
       "      <td>2021-12-03</td>\n",
       "      <td>512071</td>\n",
       "      <td>247241</td>\n",
       "      <td>777461</td>\n",
       "    </tr>\n",
       "    <tr>\n",
       "      <th>50</th>\n",
       "      <td>2021-12-04</td>\n",
       "      <td>372328</td>\n",
       "      <td>179142</td>\n",
       "      <td>539538</td>\n",
       "    </tr>\n",
       "    <tr>\n",
       "      <th>51</th>\n",
       "      <td>2021-12-05</td>\n",
       "      <td>341513</td>\n",
       "      <td>170589</td>\n",
       "      <td>496636</td>\n",
       "    </tr>\n",
       "    <tr>\n",
       "      <th>52</th>\n",
       "      <td>2021-12-06</td>\n",
       "      <td>452813</td>\n",
       "      <td>206340</td>\n",
       "      <td>678555</td>\n",
       "    </tr>\n",
       "    <tr>\n",
       "      <th>53</th>\n",
       "      <td>2021-12-07</td>\n",
       "      <td>458250</td>\n",
       "      <td>207459</td>\n",
       "      <td>685631</td>\n",
       "    </tr>\n",
       "    <tr>\n",
       "      <th>54</th>\n",
       "      <td>2021-12-08</td>\n",
       "      <td>515317</td>\n",
       "      <td>238527</td>\n",
       "      <td>778051</td>\n",
       "    </tr>\n",
       "    <tr>\n",
       "      <th>55</th>\n",
       "      <td>2021-12-09</td>\n",
       "      <td>469224</td>\n",
       "      <td>209663</td>\n",
       "      <td>697678</td>\n",
       "    </tr>\n",
       "    <tr>\n",
       "      <th>56</th>\n",
       "      <td>2021-12-10</td>\n",
       "      <td>516870</td>\n",
       "      <td>235212</td>\n",
       "      <td>776267</td>\n",
       "    </tr>\n",
       "    <tr>\n",
       "      <th>57</th>\n",
       "      <td>2021-12-11</td>\n",
       "      <td>368083</td>\n",
       "      <td>170125</td>\n",
       "      <td>549151</td>\n",
       "    </tr>\n",
       "    <tr>\n",
       "      <th>58</th>\n",
       "      <td>2021-12-12</td>\n",
       "      <td>337596</td>\n",
       "      <td>161887</td>\n",
       "      <td>506767</td>\n",
       "    </tr>\n",
       "    <tr>\n",
       "      <th>59</th>\n",
       "      <td>2021-12-13</td>\n",
       "      <td>450869</td>\n",
       "      <td>196215</td>\n",
       "      <td>687248</td>\n",
       "    </tr>\n",
       "  </tbody>\n",
       "</table>\n",
       "</div>"
      ],
      "text/plain": [
       "         time    fcst  fcst_lower  fcst_upper\n",
       "0  2021-10-15  490293      380536      604010\n",
       "1  2021-10-16  396574      277458      487244\n",
       "2  2021-10-17  365996      250999      472773\n",
       "3  2021-10-18  454944      315492      571119\n",
       "4  2021-10-19  457234      313756      572606\n",
       "5  2021-10-20  489954      357176      622906\n",
       "6  2021-10-21  464108      311073      588789\n",
       "7  2021-10-22  491136      345999      624346\n",
       "8  2021-10-23  395402      253038      506424\n",
       "9  2021-10-24  362813      238742      488258\n",
       "10 2021-10-25  455471      282170      587805\n",
       "11 2021-10-26  457785      281758      588272\n",
       "12 2021-10-27  490796      323331      651216\n",
       "13 2021-10-28  464763      283911      604210\n",
       "14 2021-10-29  492119      318227      662596\n",
       "15 2021-10-30  391842      233172      521889\n",
       "16 2021-10-31  359525      222797      491948\n",
       "17 2021-11-01  456306      264973      598813\n",
       "18 2021-11-02  458709      266263      606490\n",
       "19 2021-11-03  492146      305998      688114\n",
       "20 2021-11-04  465816      268872      619032\n",
       "21 2021-11-05  493478      301552      697980\n",
       "22 2021-11-06  388167      220383      530193\n",
       "23 2021-11-07  356132      210459      484775\n",
       "24 2021-11-08  457272      251466      615398\n",
       "25 2021-11-09  459704      252793      618353\n",
       "26 2021-11-10  496127      290627      720462\n",
       "27 2021-11-11  466869      255452      641683\n",
       "28 2021-11-12  497673      286588      729360\n",
       "29 2021-11-13  384378      208943      526328\n",
       "30 2021-11-14  352635      199399      481066\n",
       "31 2021-11-15  457758      239165      631910\n",
       "32 2021-11-16  460699      240475      641442\n",
       "33 2021-11-17  500925      276514      741807\n",
       "34 2021-11-18  467921      243085      658882\n",
       "35 2021-11-19  502472      272751      755085\n",
       "36 2021-11-20  380476      198411      527890\n",
       "37 2021-11-21  349032      189213      486094\n",
       "38 2021-11-22  456258      227685      644518\n",
       "39 2021-11-23  461694      228948      654681\n",
       "40 2021-11-24  505722      263273      751698\n",
       "41 2021-11-25  468974      231453      672307\n",
       "42 2021-11-26  507272      259706      759669\n",
       "43 2021-11-27  376459      188533      534032\n",
       "44 2021-11-28  345325      179662      491650\n",
       "45 2021-11-29  454610      216795      659047\n",
       "46 2021-11-30  460090      217991      666146\n",
       "47 2021-12-01  510519      250664      770679\n",
       "48 2021-12-02  470027      220358      683834\n",
       "49 2021-12-03  512071      247241      777461\n",
       "50 2021-12-04  372328      179142      539538\n",
       "51 2021-12-05  341513      170589      496636\n",
       "52 2021-12-06  452813      206340      678555\n",
       "53 2021-12-07  458250      207459      685631\n",
       "54 2021-12-08  515317      238527      778051\n",
       "55 2021-12-09  469224      209663      697678\n",
       "56 2021-12-10  516870      235212      776267\n",
       "57 2021-12-11  368083      170125      549151\n",
       "58 2021-12-12  337596      161887      506767\n",
       "59 2021-12-13  450869      196215      687248"
      ]
     },
     "execution_count": 63,
     "metadata": {},
     "output_type": "execute_result"
    }
   ],
   "source": [
    "\n",
    "# Aggregate individual model results (we will get the predictions for 30 Days)\n",
    "ensemble_model.aggregate()"
   ]
  },
  {
   "cell_type": "code",
   "execution_count": 64,
   "id": "530e2428",
   "metadata": {
    "execution": {
     "iopub.execute_input": "2021-10-25T04:46:32.415766Z",
     "iopub.status.busy": "2021-10-25T04:46:32.412929Z",
     "iopub.status.idle": "2021-10-25T04:46:32.729637Z",
     "shell.execute_reply": "2021-10-25T04:46:32.730425Z",
     "shell.execute_reply.started": "2021-10-25T04:38:48.569843Z"
    },
    "papermill": {
     "duration": 0.554118,
     "end_time": "2021-10-25T04:46:32.730608",
     "exception": false,
     "start_time": "2021-10-25T04:46:32.176490",
     "status": "completed"
    },
    "tags": []
   },
   "outputs": [
    {
     "data": {
      "image/png": "[encoded data removed]",
      "text/plain": [
       "<Figure size 720x432 with 1 Axes>"
      ]
     },
     "metadata": {},
     "output_type": "display_data"
    }
   ],
   "source": [
    "# Plotting the model \n",
    "ensemble_model.plot()"
   ]
  },
  {
   "cell_type": "code",
   "execution_count": 65,
   "id": "258b600a",
   "metadata": {
    "execution": {
     "iopub.execute_input": "2021-10-25T04:46:33.163952Z",
     "iopub.status.busy": "2021-10-25T04:46:33.163010Z",
     "iopub.status.idle": "2021-10-25T04:46:33.166426Z",
     "shell.execute_reply": "2021-10-25T04:46:33.166933Z",
     "shell.execute_reply.started": "2021-10-25T04:38:48.921053Z"
    },
    "papermill": {
     "duration": 0.228372,
     "end_time": "2021-10-25T04:46:33.167076",
     "exception": false,
     "start_time": "2021-10-25T04:46:32.938704",
     "status": "completed"
    },
    "tags": []
   },
   "outputs": [
    {
     "data": {
      "text/html": [
       "<div>\n",
       "<style scoped>\n",
       "    .dataframe tbody tr th:only-of-type {\n",
       "        vertical-align: middle;\n",
       "    }\n",
       "\n",
       "    .dataframe tbody tr th {\n",
       "        vertical-align: top;\n",
       "    }\n",
       "\n",
       "    .dataframe thead th {\n",
       "        text-align: right;\n",
       "    }\n",
       "</style>\n",
       "<table border=\"1\" class=\"dataframe\">\n",
       "  <thead>\n",
       "    <tr style=\"text-align: right;\">\n",
       "      <th></th>\n",
       "      <th>mae</th>\n",
       "      <th>mse</th>\n",
       "      <th>rmse</th>\n",
       "      <th>mape</th>\n",
       "      <th>mase</th>\n",
       "    </tr>\n",
       "  </thead>\n",
       "  <tbody>\n",
       "    <tr>\n",
       "      <th>Naive_Resutlts</th>\n",
       "      <td>75916</td>\n",
       "      <td>1e+10</td>\n",
       "      <td>103919</td>\n",
       "      <td>15</td>\n",
       "      <td>1e+00</td>\n",
       "    </tr>\n",
       "    <tr>\n",
       "      <th>Simple Dense</th>\n",
       "      <td>45500</td>\n",
       "      <td>3e+09</td>\n",
       "      <td>55248</td>\n",
       "      <td>9</td>\n",
       "      <td>6e-01</td>\n",
       "    </tr>\n",
       "    <tr>\n",
       "      <th>Conv1D</th>\n",
       "      <td>158604</td>\n",
       "      <td>3e+10</td>\n",
       "      <td>176061</td>\n",
       "      <td>28</td>\n",
       "      <td>2e+00</td>\n",
       "    </tr>\n",
       "    <tr>\n",
       "      <th>RNN</th>\n",
       "      <td>54023</td>\n",
       "      <td>5e+09</td>\n",
       "      <td>64113</td>\n",
       "      <td>11</td>\n",
       "      <td>7e-01</td>\n",
       "    </tr>\n",
       "  </tbody>\n",
       "</table>\n",
       "</div>"
      ],
      "text/plain": [
       "                   mae    mse    rmse  mape   mase\n",
       "Naive_Resutlts   75916  1e+10  103919    15  1e+00\n",
       "Simple Dense     45500  3e+09   55248     9  6e-01\n",
       "Conv1D          158604  3e+10  176061    28  2e+00\n",
       "RNN              54023  5e+09   64113    11  7e-01"
      ]
     },
     "execution_count": 65,
     "metadata": {},
     "output_type": "execute_result"
    }
   ],
   "source": [
    "all_model_results = pd.DataFrame({\"Naive_Resutlts\":naive_results,\n",
    "                                 \"Simple Dense\": model_1_results,\n",
    "                                 \"Conv1D\":model_2_results,\n",
    "                                 \"RNN\":model_3_results}).T\n",
    "all_model_results"
   ]
  },
  {
   "cell_type": "code",
   "execution_count": 66,
   "id": "beb13bc5",
   "metadata": {
    "execution": {
     "iopub.execute_input": "2021-10-25T04:46:33.769780Z",
     "iopub.status.busy": "2021-10-25T04:46:33.768940Z",
     "iopub.status.idle": "2021-10-25T04:46:34.055766Z",
     "shell.execute_reply": "2021-10-25T04:46:34.056158Z",
     "shell.execute_reply.started": "2021-10-25T04:38:48.940023Z"
    },
    "papermill": {
     "duration": 0.652158,
     "end_time": "2021-10-25T04:46:34.056319",
     "exception": false,
     "start_time": "2021-10-25T04:46:33.404161",
     "status": "completed"
    },
    "tags": []
   },
   "outputs": [
    {
     "data": {
      "image/png": "[encoded data removed]",
      "text/plain": [
       "<Figure size 720x360 with 1 Axes>"
      ]
     },
     "metadata": {
      "needs_background": "light"
     },
     "output_type": "display_data"
    }
   ],
   "source": [
    "all_model_results['mae'].plot(figsize=(10,5),kind='barh',color='lightblue')\n",
    "plt.legend(fontsize=14)\n",
    "plt.yticks(fontsize=15)\n",
    "plt.grid(True)\n",
    "plt.show();"
   ]
  },
  {
   "cell_type": "code",
   "execution_count": null,
   "id": "670c7b1f",
   "metadata": {
    "papermill": {
     "duration": 0.207406,
     "end_time": "2021-10-25T04:46:34.490294",
     "exception": false,
     "start_time": "2021-10-25T04:46:34.282888",
     "status": "completed"
    },
    "tags": []
   },
   "outputs": [],
   "source": []
  }
 ],
 "metadata": {
  "kernelspec": {
   "display_name": "Python 3",
   "language": "python",
   "name": "python3"
  },
  "language_info": {
   "codemirror_mode": {
    "name": "ipython",
    "version": 3
   },
   "file_extension": ".py",
   "mimetype": "text/x-python",
   "name": "python",
   "nbconvert_exporter": "python",
   "pygments_lexer": "ipython3",
   "version": "3.7.10"
  },
  "papermill": {
   "default_parameters": {},
   "duration": 344.896217,
   "end_time": "2021-10-25T04:46:37.437730",
   "environment_variables": {},
   "exception": null,
   "input_path": "__notebook__.ipynb",
   "output_path": "__notebook__.ipynb",
   "parameters": {},
   "start_time": "2021-10-25T04:40:52.541513",
   "version": "2.3.3"
  }
 },
 "nbformat": 4,
 "nbformat_minor": 5
}
